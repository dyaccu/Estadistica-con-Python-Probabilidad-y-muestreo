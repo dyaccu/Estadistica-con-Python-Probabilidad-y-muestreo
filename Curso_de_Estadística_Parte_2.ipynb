{
  "nbformat": 4,
  "nbformat_minor": 0,
  "metadata": {
    "colab": {
      "provenance": [],
      "include_colab_link": true
    },
    "kernelspec": {
      "display_name": "Python 3",
      "language": "python",
      "name": "python3"
    },
    "language_info": {
      "codemirror_mode": {
        "name": "ipython",
        "version": 3
      },
      "file_extension": ".py",
      "mimetype": "text/x-python",
      "name": "python",
      "nbconvert_exporter": "python",
      "pygments_lexer": "ipython3",
      "version": "3.6.5"
    }
  },
  "cells": [
    {
      "cell_type": "markdown",
      "metadata": {
        "id": "view-in-github",
        "colab_type": "text"
      },
      "source": [
        "<a href=\"https://colab.research.google.com/github/dyaccu/Estadistica-con-Python-Probabilidad-y-muestreo/blob/main/Curso_de_Estad%C3%ADstica_Parte_2.ipynb\" target=\"_parent\"><img src=\"https://colab.research.google.com/assets/colab-badge.svg\" alt=\"Open In Colab\"/></a>"
      ]
    },
    {
      "cell_type": "markdown",
      "metadata": {
        "id": "WvMflodMjQKe"
      },
      "source": [
        "***\n",
        "# <font color=green size=10>CURSO DE ESTADÍSTICA - PARTE 2</font>\n",
        "***"
      ]
    },
    {
      "cell_type": "markdown",
      "metadata": {
        "id": "cVgsZ_E3jQKg"
      },
      "source": [
        "# <font color=green>1 CONOCIENDO LOS DATOS</font>\n",
        "***"
      ]
    },
    {
      "cell_type": "markdown",
      "metadata": {
        "id": "TDjqYYNojQKh"
      },
      "source": [
        "## <font color=green>1.1 Dataset del proyecto</font>\n",
        "***"
      ]
    },
    {
      "cell_type": "markdown",
      "metadata": {
        "id": "iN1gIbaKjQKh"
      },
      "source": [
        "### Encuesta Nacional por Muestreo de Hogares - 2015\n",
        "\n",
        "La **Encuesta Nacional por Muestreo de Hogares - ENMH** en Brasil anualmente investiga, de manera permanente, características generales de la población, educación, trabajo, ingresos, vivienda y otras, con frecuencia variables, de acuerdo a las necesidades de información del país, tales como las características de migración, fecundidad, nupcialidad, salud, seguridad alimentaria, entre otros temas. La recopilación de estas estadísticas constituye, durante los 49 años de realización de la investigación, un importante instrumento para la formulación, validación y evaluación de políticas orientadas al desarrollo socioeconómico y la mejora de las condiciones de vida en Brasil."
      ]
    },
    {
      "cell_type": "markdown",
      "metadata": {
        "id": "U6V7br1RjQKi"
      },
      "source": [
        "### Fuente de los Datos\n",
        "\n",
        "Instituto Brasileño de Geografía y Estadística (IBGE) Encuesta Nacional por Muestreo de Hogares(PNAD) en el 2015"
      ]
    },
    {
      "cell_type": "markdown",
      "metadata": {
        "id": "r0Fe_qnzjQKj"
      },
      "source": [
        "### Variables utilizadas\n",
        "\n",
        "> ### Ingresos\n",
        "> ***\n",
        "\n",
        "Ingresos mensuales del trabajo principal para personas de 10 años o más.\n",
        "\n",
        "> ### Edad\n",
        "> ***\n",
        "\n",
        "Edad del residente en años en la fecha de referencia .\n",
        "\n",
        "> ### Altura (elaboración propia)\n",
        "> ***\n",
        "\n",
        "Altura del habitante en metros.\n",
        "\n",
        "> ### UF\n",
        "> ***\n",
        "\n",
        "Unidad Federal\n",
        "\n",
        "|Código|Descripción|\n",
        "|---|---|\n",
        "|11|Rondônia|\n",
        "|12|Acre|\n",
        "|13|Amazonas|\n",
        "|14|Roraima|\n",
        "|15|Pará|\n",
        "|16|Amapá|\n",
        "|17|Tocantins|\n",
        "|21|Maranhão|\n",
        "|22|Piauí|\n",
        "|23|Ceará|\n",
        "|24|Rio Grande do Norte|\n",
        "|25|Paraíba|\n",
        "|26|Pernambuco|\n",
        "|27|Alagoas|\n",
        "|28|Sergipe|\n",
        "|29|Bahia|\n",
        "|31|Minas Gerais|\n",
        "|32|Espírito Santo|\n",
        "|33|Rio de Janeiro|\n",
        "|35|São Paulo|\n",
        "|41|Paraná|\n",
        "|42|Santa Catarina|\n",
        "|43|Rio Grande do Sul|\n",
        "|50|Mato Grosso do Sul|\n",
        "|51|Mato Grosso|\n",
        "|52|Goiás|\n",
        "|53|Distrito Federal|\n",
        "\n",
        "> ### Sexo\n",
        "> ***\n",
        "\n",
        "|Código|Descripción|\n",
        "|---|---|\n",
        "|0|Masculino|\n",
        "|1|Femenino|\n",
        "\n",
        "> ### Años de Estudio\n",
        "> ***\n",
        "\n",
        "|Código|Descripción|\n",
        "|---|---|\n",
        "|1|Sin educación o menos de 1 año|\n",
        "|2|1 año|\n",
        "|3|2 años|\n",
        "|4|3 años|\n",
        "|5|4 años|\n",
        "|6|5 años|\n",
        "|7|6 años|\n",
        "|8|7 años|\n",
        "|9|8 años|\n",
        "|10|9 años|\n",
        "|11|10 años|\n",
        "|12|11 años|\n",
        "|13|12 años|\n",
        "|14|13 años|\n",
        "|15|14 años|\n",
        "|16|15 años o más|\n",
        "|17|No determinado|\n",
        "||No aplica|\n",
        "\n",
        "> ### Color\n",
        "> ***\n",
        "\n",
        "|Código|Descripción|\n",
        "|---|---|\n",
        "|0|Indígena|\n",
        "|2|Blanco|\n",
        "|4|Negro|\n",
        "|6|Amarillo|\n",
        "|8|Pardo|\n",
        "|9|Sin declarar|"
      ]
    },
    {
      "cell_type": "markdown",
      "metadata": {
        "id": "OK1IQH5cX7Gb"
      },
      "source": [
        "#### <font color='red'>Nota</font>\n",
        "***\n",
        "> Se realizaron los siguientes tratamientos sobre los datos originales:\n",
        "> 1. Se eliminaron los registros en los que **Ingreso** no era válido. (999 999 999 999);\n",
        "> 2. Se eliminaron los registros en los que **Ingreso** eran missing;\n",
        "> 3. Solo se consideraron los registros de **Personas de Referencia** de cada hogar (responsable del hogar)."
      ]
    },
    {
      "cell_type": "markdown",
      "metadata": {
        "id": "8Rw70V6ojQKk"
      },
      "source": [
        "### Importando pandas y leyendo el dataset del proyecto\n",
        "\n",
        "https://pandas.pydata.org/"
      ]
    },
    {
      "cell_type": "code",
      "metadata": {
        "id": "8QgOpE-wjQKl"
      },
      "source": [
        "import pandas as pd"
      ],
      "execution_count": 210,
      "outputs": []
    },
    {
      "cell_type": "code",
      "metadata": {
        "id": "ufRZ7TLwjQKo"
      },
      "source": [
        "datos = pd.read_csv('datos.csv', encoding = 'latin-1')"
      ],
      "execution_count": 211,
      "outputs": []
    },
    {
      "cell_type": "code",
      "metadata": {
        "id": "GsC_WhLFjQKq",
        "scrolled": true,
        "colab": {
          "base_uri": "https://localhost:8080/",
          "height": 206
        },
        "outputId": "c7d07137-9163-492a-86a1-c089f9062353"
      },
      "source": [
        "datos.head()"
      ],
      "execution_count": 212,
      "outputs": [
        {
          "output_type": "execute_result",
          "data": {
            "text/plain": [
              "   Ciudad  Sexo  Edad  Color  Años de Estudio  Ingreso    Altura\n",
              "0      11     0    23      8               12      800  1.603808\n",
              "1      11     1    23      2               12     1150  1.739790\n",
              "2      11     1    35      8               15      880  1.760444\n",
              "3      11     0    46      2                6     3500  1.783158\n",
              "4      11     1    47      8                9      150  1.690631"
            ],
            "text/html": [
              "\n",
              "  <div id=\"df-db5e6186-4560-41ec-914d-4f315500ede1\" class=\"colab-df-container\">\n",
              "    <div>\n",
              "<style scoped>\n",
              "    .dataframe tbody tr th:only-of-type {\n",
              "        vertical-align: middle;\n",
              "    }\n",
              "\n",
              "    .dataframe tbody tr th {\n",
              "        vertical-align: top;\n",
              "    }\n",
              "\n",
              "    .dataframe thead th {\n",
              "        text-align: right;\n",
              "    }\n",
              "</style>\n",
              "<table border=\"1\" class=\"dataframe\">\n",
              "  <thead>\n",
              "    <tr style=\"text-align: right;\">\n",
              "      <th></th>\n",
              "      <th>Ciudad</th>\n",
              "      <th>Sexo</th>\n",
              "      <th>Edad</th>\n",
              "      <th>Color</th>\n",
              "      <th>Años de Estudio</th>\n",
              "      <th>Ingreso</th>\n",
              "      <th>Altura</th>\n",
              "    </tr>\n",
              "  </thead>\n",
              "  <tbody>\n",
              "    <tr>\n",
              "      <th>0</th>\n",
              "      <td>11</td>\n",
              "      <td>0</td>\n",
              "      <td>23</td>\n",
              "      <td>8</td>\n",
              "      <td>12</td>\n",
              "      <td>800</td>\n",
              "      <td>1.603808</td>\n",
              "    </tr>\n",
              "    <tr>\n",
              "      <th>1</th>\n",
              "      <td>11</td>\n",
              "      <td>1</td>\n",
              "      <td>23</td>\n",
              "      <td>2</td>\n",
              "      <td>12</td>\n",
              "      <td>1150</td>\n",
              "      <td>1.739790</td>\n",
              "    </tr>\n",
              "    <tr>\n",
              "      <th>2</th>\n",
              "      <td>11</td>\n",
              "      <td>1</td>\n",
              "      <td>35</td>\n",
              "      <td>8</td>\n",
              "      <td>15</td>\n",
              "      <td>880</td>\n",
              "      <td>1.760444</td>\n",
              "    </tr>\n",
              "    <tr>\n",
              "      <th>3</th>\n",
              "      <td>11</td>\n",
              "      <td>0</td>\n",
              "      <td>46</td>\n",
              "      <td>2</td>\n",
              "      <td>6</td>\n",
              "      <td>3500</td>\n",
              "      <td>1.783158</td>\n",
              "    </tr>\n",
              "    <tr>\n",
              "      <th>4</th>\n",
              "      <td>11</td>\n",
              "      <td>1</td>\n",
              "      <td>47</td>\n",
              "      <td>8</td>\n",
              "      <td>9</td>\n",
              "      <td>150</td>\n",
              "      <td>1.690631</td>\n",
              "    </tr>\n",
              "  </tbody>\n",
              "</table>\n",
              "</div>\n",
              "    <div class=\"colab-df-buttons\">\n",
              "\n",
              "  <div class=\"colab-df-container\">\n",
              "    <button class=\"colab-df-convert\" onclick=\"convertToInteractive('df-db5e6186-4560-41ec-914d-4f315500ede1')\"\n",
              "            title=\"Convert this dataframe to an interactive table.\"\n",
              "            style=\"display:none;\">\n",
              "\n",
              "  <svg xmlns=\"http://www.w3.org/2000/svg\" height=\"24px\" viewBox=\"0 -960 960 960\">\n",
              "    <path d=\"M120-120v-720h720v720H120Zm60-500h600v-160H180v160Zm220 220h160v-160H400v160Zm0 220h160v-160H400v160ZM180-400h160v-160H180v160Zm440 0h160v-160H620v160ZM180-180h160v-160H180v160Zm440 0h160v-160H620v160Z\"/>\n",
              "  </svg>\n",
              "    </button>\n",
              "\n",
              "  <style>\n",
              "    .colab-df-container {\n",
              "      display:flex;\n",
              "      gap: 12px;\n",
              "    }\n",
              "\n",
              "    .colab-df-convert {\n",
              "      background-color: #E8F0FE;\n",
              "      border: none;\n",
              "      border-radius: 50%;\n",
              "      cursor: pointer;\n",
              "      display: none;\n",
              "      fill: #1967D2;\n",
              "      height: 32px;\n",
              "      padding: 0 0 0 0;\n",
              "      width: 32px;\n",
              "    }\n",
              "\n",
              "    .colab-df-convert:hover {\n",
              "      background-color: #E2EBFA;\n",
              "      box-shadow: 0px 1px 2px rgba(60, 64, 67, 0.3), 0px 1px 3px 1px rgba(60, 64, 67, 0.15);\n",
              "      fill: #174EA6;\n",
              "    }\n",
              "\n",
              "    .colab-df-buttons div {\n",
              "      margin-bottom: 4px;\n",
              "    }\n",
              "\n",
              "    [theme=dark] .colab-df-convert {\n",
              "      background-color: #3B4455;\n",
              "      fill: #D2E3FC;\n",
              "    }\n",
              "\n",
              "    [theme=dark] .colab-df-convert:hover {\n",
              "      background-color: #434B5C;\n",
              "      box-shadow: 0px 1px 3px 1px rgba(0, 0, 0, 0.15);\n",
              "      filter: drop-shadow(0px 1px 2px rgba(0, 0, 0, 0.3));\n",
              "      fill: #FFFFFF;\n",
              "    }\n",
              "  </style>\n",
              "\n",
              "    <script>\n",
              "      const buttonEl =\n",
              "        document.querySelector('#df-db5e6186-4560-41ec-914d-4f315500ede1 button.colab-df-convert');\n",
              "      buttonEl.style.display =\n",
              "        google.colab.kernel.accessAllowed ? 'block' : 'none';\n",
              "\n",
              "      async function convertToInteractive(key) {\n",
              "        const element = document.querySelector('#df-db5e6186-4560-41ec-914d-4f315500ede1');\n",
              "        const dataTable =\n",
              "          await google.colab.kernel.invokeFunction('convertToInteractive',\n",
              "                                                    [key], {});\n",
              "        if (!dataTable) return;\n",
              "\n",
              "        const docLinkHtml = 'Like what you see? Visit the ' +\n",
              "          '<a target=\"_blank\" href=https://colab.research.google.com/notebooks/data_table.ipynb>data table notebook</a>'\n",
              "          + ' to learn more about interactive tables.';\n",
              "        element.innerHTML = '';\n",
              "        dataTable['output_type'] = 'display_data';\n",
              "        await google.colab.output.renderOutput(dataTable, element);\n",
              "        const docLink = document.createElement('div');\n",
              "        docLink.innerHTML = docLinkHtml;\n",
              "        element.appendChild(docLink);\n",
              "      }\n",
              "    </script>\n",
              "  </div>\n",
              "\n",
              "\n",
              "    <div id=\"df-6a444c9f-c478-4e55-adf0-e35c0b764518\">\n",
              "      <button class=\"colab-df-quickchart\" onclick=\"quickchart('df-6a444c9f-c478-4e55-adf0-e35c0b764518')\"\n",
              "                title=\"Suggest charts\"\n",
              "                style=\"display:none;\">\n",
              "\n",
              "<svg xmlns=\"http://www.w3.org/2000/svg\" height=\"24px\"viewBox=\"0 0 24 24\"\n",
              "     width=\"24px\">\n",
              "    <g>\n",
              "        <path d=\"M19 3H5c-1.1 0-2 .9-2 2v14c0 1.1.9 2 2 2h14c1.1 0 2-.9 2-2V5c0-1.1-.9-2-2-2zM9 17H7v-7h2v7zm4 0h-2V7h2v10zm4 0h-2v-4h2v4z\"/>\n",
              "    </g>\n",
              "</svg>\n",
              "      </button>\n",
              "\n",
              "<style>\n",
              "  .colab-df-quickchart {\n",
              "      --bg-color: #E8F0FE;\n",
              "      --fill-color: #1967D2;\n",
              "      --hover-bg-color: #E2EBFA;\n",
              "      --hover-fill-color: #174EA6;\n",
              "      --disabled-fill-color: #AAA;\n",
              "      --disabled-bg-color: #DDD;\n",
              "  }\n",
              "\n",
              "  [theme=dark] .colab-df-quickchart {\n",
              "      --bg-color: #3B4455;\n",
              "      --fill-color: #D2E3FC;\n",
              "      --hover-bg-color: #434B5C;\n",
              "      --hover-fill-color: #FFFFFF;\n",
              "      --disabled-bg-color: #3B4455;\n",
              "      --disabled-fill-color: #666;\n",
              "  }\n",
              "\n",
              "  .colab-df-quickchart {\n",
              "    background-color: var(--bg-color);\n",
              "    border: none;\n",
              "    border-radius: 50%;\n",
              "    cursor: pointer;\n",
              "    display: none;\n",
              "    fill: var(--fill-color);\n",
              "    height: 32px;\n",
              "    padding: 0;\n",
              "    width: 32px;\n",
              "  }\n",
              "\n",
              "  .colab-df-quickchart:hover {\n",
              "    background-color: var(--hover-bg-color);\n",
              "    box-shadow: 0 1px 2px rgba(60, 64, 67, 0.3), 0 1px 3px 1px rgba(60, 64, 67, 0.15);\n",
              "    fill: var(--button-hover-fill-color);\n",
              "  }\n",
              "\n",
              "  .colab-df-quickchart-complete:disabled,\n",
              "  .colab-df-quickchart-complete:disabled:hover {\n",
              "    background-color: var(--disabled-bg-color);\n",
              "    fill: var(--disabled-fill-color);\n",
              "    box-shadow: none;\n",
              "  }\n",
              "\n",
              "  .colab-df-spinner {\n",
              "    border: 2px solid var(--fill-color);\n",
              "    border-color: transparent;\n",
              "    border-bottom-color: var(--fill-color);\n",
              "    animation:\n",
              "      spin 1s steps(1) infinite;\n",
              "  }\n",
              "\n",
              "  @keyframes spin {\n",
              "    0% {\n",
              "      border-color: transparent;\n",
              "      border-bottom-color: var(--fill-color);\n",
              "      border-left-color: var(--fill-color);\n",
              "    }\n",
              "    20% {\n",
              "      border-color: transparent;\n",
              "      border-left-color: var(--fill-color);\n",
              "      border-top-color: var(--fill-color);\n",
              "    }\n",
              "    30% {\n",
              "      border-color: transparent;\n",
              "      border-left-color: var(--fill-color);\n",
              "      border-top-color: var(--fill-color);\n",
              "      border-right-color: var(--fill-color);\n",
              "    }\n",
              "    40% {\n",
              "      border-color: transparent;\n",
              "      border-right-color: var(--fill-color);\n",
              "      border-top-color: var(--fill-color);\n",
              "    }\n",
              "    60% {\n",
              "      border-color: transparent;\n",
              "      border-right-color: var(--fill-color);\n",
              "    }\n",
              "    80% {\n",
              "      border-color: transparent;\n",
              "      border-right-color: var(--fill-color);\n",
              "      border-bottom-color: var(--fill-color);\n",
              "    }\n",
              "    90% {\n",
              "      border-color: transparent;\n",
              "      border-bottom-color: var(--fill-color);\n",
              "    }\n",
              "  }\n",
              "</style>\n",
              "\n",
              "      <script>\n",
              "        async function quickchart(key) {\n",
              "          const quickchartButtonEl =\n",
              "            document.querySelector('#' + key + ' button');\n",
              "          quickchartButtonEl.disabled = true;  // To prevent multiple clicks.\n",
              "          quickchartButtonEl.classList.add('colab-df-spinner');\n",
              "          try {\n",
              "            const charts = await google.colab.kernel.invokeFunction(\n",
              "                'suggestCharts', [key], {});\n",
              "          } catch (error) {\n",
              "            console.error('Error during call to suggestCharts:', error);\n",
              "          }\n",
              "          quickchartButtonEl.classList.remove('colab-df-spinner');\n",
              "          quickchartButtonEl.classList.add('colab-df-quickchart-complete');\n",
              "        }\n",
              "        (() => {\n",
              "          let quickchartButtonEl =\n",
              "            document.querySelector('#df-6a444c9f-c478-4e55-adf0-e35c0b764518 button');\n",
              "          quickchartButtonEl.style.display =\n",
              "            google.colab.kernel.accessAllowed ? 'block' : 'none';\n",
              "        })();\n",
              "      </script>\n",
              "    </div>\n",
              "\n",
              "    </div>\n",
              "  </div>\n"
            ],
            "application/vnd.google.colaboratory.intrinsic+json": {
              "type": "dataframe",
              "variable_name": "datos",
              "summary": "{\n  \"name\": \"datos\",\n  \"rows\": 76840,\n  \"fields\": [\n    {\n      \"column\": \"Ciudad\",\n      \"properties\": {\n        \"dtype\": \"number\",\n        \"std\": 11,\n        \"min\": 11,\n        \"max\": 53,\n        \"num_unique_values\": 27,\n        \"samples\": [\n          22,\n          27,\n          23\n        ],\n        \"semantic_type\": \"\",\n        \"description\": \"\"\n      }\n    },\n    {\n      \"column\": \"Sexo\",\n      \"properties\": {\n        \"dtype\": \"number\",\n        \"std\": 0,\n        \"min\": 0,\n        \"max\": 1,\n        \"num_unique_values\": 2,\n        \"samples\": [\n          1,\n          0\n        ],\n        \"semantic_type\": \"\",\n        \"description\": \"\"\n      }\n    },\n    {\n      \"column\": \"Edad\",\n      \"properties\": {\n        \"dtype\": \"number\",\n        \"std\": 12,\n        \"min\": 13,\n        \"max\": 99,\n        \"num_unique_values\": 84,\n        \"samples\": [\n          88,\n          23\n        ],\n        \"semantic_type\": \"\",\n        \"description\": \"\"\n      }\n    },\n    {\n      \"column\": \"Color\",\n      \"properties\": {\n        \"dtype\": \"number\",\n        \"std\": 2,\n        \"min\": 0,\n        \"max\": 8,\n        \"num_unique_values\": 5,\n        \"samples\": [\n          2,\n          0\n        ],\n        \"semantic_type\": \"\",\n        \"description\": \"\"\n      }\n    },\n    {\n      \"column\": \"A\\u00f1os de Estudio\",\n      \"properties\": {\n        \"dtype\": \"number\",\n        \"std\": 4,\n        \"min\": 1,\n        \"max\": 17,\n        \"num_unique_values\": 17,\n        \"samples\": [\n          12,\n          15\n        ],\n        \"semantic_type\": \"\",\n        \"description\": \"\"\n      }\n    },\n    {\n      \"column\": \"Ingreso\",\n      \"properties\": {\n        \"dtype\": \"number\",\n        \"std\": 3323,\n        \"min\": 0,\n        \"max\": 200000,\n        \"num_unique_values\": 1606,\n        \"samples\": [\n          3279,\n          2456\n        ],\n        \"semantic_type\": \"\",\n        \"description\": \"\"\n      }\n    },\n    {\n      \"column\": \"Altura\",\n      \"properties\": {\n        \"dtype\": \"number\",\n        \"std\": 0.07971743006825309,\n        \"min\": 1.339244614,\n        \"max\": 2.028496765,\n        \"num_unique_values\": 76831,\n        \"samples\": [\n          1.616531581,\n          1.799777606\n        ],\n        \"semantic_type\": \"\",\n        \"description\": \"\"\n      }\n    }\n  ]\n}"
            }
          },
          "metadata": {},
          "execution_count": 212
        }
      ]
    },
    {
      "cell_type": "markdown",
      "metadata": {
        "id": "-z3bLQIUG3Hv"
      },
      "source": [
        "---\n",
        "---"
      ]
    },
    {
      "cell_type": "markdown",
      "metadata": {
        "id": "tL9xVLwTX07g"
      },
      "source": [
        "# <font color=green>2 DISTRIBUCIONES DE PROBABILIDAD</font>\n",
        "***"
      ]
    },
    {
      "cell_type": "markdown",
      "metadata": {
        "id": "3nlvC-5qG3Bj"
      },
      "source": [
        "## <font color=red>Problema</font>\n",
        "***"
      ]
    },
    {
      "cell_type": "markdown",
      "metadata": {
        "id": "8CclIz9oG3Bk"
      },
      "source": [
        "En una competencia para ocupar un puesto de científico de datos, tenemos un total de **10 preguntas** de opción múltiple con **3 alternativas posibles** en cada pregunta. **Cada pregunta tiene el mismo valor.** Suponga que un candidato decide aventurarse sin haber estudiado nada. Decide hacer la prueba con los ojos vendados y adivinar todas las respuestas. Suponiendo que la prueba **vale 10 puntos y la puntuación de corte es 5**, obtenga la probabilidad de que este candidato **acierte 5 preguntas** y también la probabilidad de que el candidato **pase a la siguiente etapa del proceso de selección**."
      ]
    },
    {
      "cell_type": "markdown",
      "metadata": {
        "id": "KJxd2KFSYLML"
      },
      "source": [
        "## <font color=green>2.1 Distribución Binomial</font>\n",
        "***"
      ]
    },
    {
      "cell_type": "markdown",
      "metadata": {
        "id": "mcbl3KbnG3Bq"
      },
      "source": [
        "Un evento **binomial** se caracteriza por la posibilidad de que solo ocurran dos categorías. Estas categorías juntas representan todo el espacio muestral, siendo también mutuamente excluyentes, es decir, la ocurrencia de una implica la no ocurrencia de la otra.\n",
        "\n",
        "En el análisis estadístico, el uso más común de la distribución binomial es para resolver problemas que involucran situaciones de **éxito** y **fracaso**."
      ]
    },
    {
      "cell_type": "markdown",
      "metadata": {
        "id": "iLoYAuJ9G3Bs"
      },
      "source": [
        "# $$P(k)=\\binom{n}{k} p^k q^{n-k}$$\n",
        "\n",
        "Donde:\n",
        "\n",
        "$p$ = probabilidad de éxito\n",
        "\n",
        "$q = (1 - p)$ = probabilidad de fracaso\n",
        "\n",
        "$n$ = número de eventos estudiados\n",
        "\n",
        "$k$ = número de eventos deseados que tienen éxito"
      ]
    },
    {
      "cell_type": "markdown",
      "metadata": {
        "id": "PxEgWbFdG3Bt"
      },
      "source": [
        "### Experimento Binomial"
      ]
    },
    {
      "cell_type": "markdown",
      "metadata": {
        "id": "eqQK3Ny-G3Bv"
      },
      "source": [
        "1. Realización de $n$ pruebas idénticas.\n",
        "\n",
        "2. Las pruebas son independientes.\n",
        "\n",
        "3. Solo son posibles dos resultados, por ejemplo: Verdadero o falso; Cara o cruz; Éxito o fracaso.\n",
        "\n",
        "4. La probabilidad de éxito está representada por $p$ y la probabilidad de fracaso por $1-p = q$. Estas probabilidades no cambian de una prueba para otra."
      ]
    },
    {
      "cell_type": "markdown",
      "metadata": {
        "id": "mT77udQ0G3Bx"
      },
      "source": [
        "### Media de la distribución binomial"
      ]
    },
    {
      "cell_type": "markdown",
      "metadata": {
        "id": "EGiuemgqG3By"
      },
      "source": [
        "El valor esperado o la media de la distribución binomial es igual al número de experimentos realizados multiplicado por la probabilidad de que ocurra el evento.\n",
        "\n",
        "# $$\\mu = n \\times p$$"
      ]
    },
    {
      "cell_type": "markdown",
      "metadata": {
        "id": "1fDLi96OG3Bz"
      },
      "source": [
        "### Desviación estándar de la distribución binomial"
      ]
    },
    {
      "cell_type": "markdown",
      "metadata": {
        "id": "EZojizotG3B1"
      },
      "source": [
        "La desviación estándar es la raíz quadrada del producto entre el número de experimentos, la probabilidad de éxito y la probabilidad de fracaso.\n",
        "\n",
        "# $$\\sigma = \\sqrt{n \\times p \\times q}$$"
      ]
    },
    {
      "cell_type": "markdown",
      "metadata": {
        "id": "udqnjFnsG3B2"
      },
      "source": [
        "### Importando bibliotecas\n",
        "https://docs.scipy.org/doc/scipy/reference/generated/scipy.special.comb.html"
      ]
    },
    {
      "cell_type": "code",
      "metadata": {
        "id": "-U2sGssNG3B4"
      },
      "source": [
        "from scipy.special import comb"
      ],
      "execution_count": 213,
      "outputs": []
    },
    {
      "cell_type": "markdown",
      "metadata": {
        "id": "MxxuJNSwG3B7"
      },
      "source": [
        "### Combinaciones\n",
        "\n",
        "El número de combinaciones de $n$ objetos, tomando $k$ cada vez, es:\n",
        "\n",
        "# $$C_{k}^{n} = \\binom{n}{k} = \\frac{n!}{k!(n - k)!}$$\n",
        "\n",
        "Donde\n",
        "\n",
        "## $$n! = n\\times(n-1)\\times(n-2)\\times...\\times(2)\\times(1)$$\n",
        "## $$k! = k\\times(k-1)\\times(k-2)\\times...\\times(2)\\times(1)$$\n",
        "\n",
        "Por definición\n",
        "\n",
        "## $$0! = 1$$"
      ]
    },
    {
      "cell_type": "markdown",
      "metadata": {
        "id": "Udz87Pq3G3B8"
      },
      "source": [
        "## <font color='blue'>Ejemplo: Mega Sena</font>"
      ]
    },
    {
      "cell_type": "markdown",
      "metadata": {
        "id": "h1Mo9AxyG3B8"
      },
      "source": [
        "En una rueda de lotería Mega Sena tenemos un total de **60 números** para elegir, donde la apuesta mínima es de **seis números**. Usted que es curioso(a) decide calcular la probabilidad de ganar la Mega Sena con solo **un juego**. Para eso necesitamos saber cuántas **combinaciones de seis números se pueden formar con los 60 números disponibles**.\n",
        "\n",
        "### $$C_{6}^{60} = \\binom{60}{6} = \\frac{60!}{6!(60 - 6)!}$$"
      ]
    },
    {
      "cell_type": "code",
      "metadata": {
        "id": "c2t7yHl7G3B9",
        "colab": {
          "base_uri": "https://localhost:8080/"
        },
        "outputId": "74b65de9-1a1d-45c0-bce2-2bc28e3ef5a4"
      },
      "source": [
        "combinaciones = comb(60,6)\n",
        "combinaciones"
      ],
      "execution_count": 214,
      "outputs": [
        {
          "output_type": "execute_result",
          "data": {
            "text/plain": [
              "np.float64(50063860.0)"
            ]
          },
          "metadata": {},
          "execution_count": 214
        }
      ]
    },
    {
      "cell_type": "code",
      "metadata": {
        "id": "LpioeTSXG3CB",
        "colab": {
          "base_uri": "https://localhost:8080/"
        },
        "outputId": "51b7bbd8-7759-44bb-d14c-5f76ca78774d"
      },
      "source": [
        "probabilidad = 1 / combinaciones\n",
        "print(f'{probabilidad:0.15f}')"
      ],
      "execution_count": 215,
      "outputs": [
        {
          "output_type": "stream",
          "name": "stdout",
          "text": [
            "0.000000019974489\n"
          ]
        }
      ]
    },
    {
      "cell_type": "markdown",
      "metadata": {
        "id": "t1rA1yJpG3CF"
      },
      "source": [
        "## <font color='blue'>Ejemplo: Concurso para científico de datos</font>"
      ]
    },
    {
      "cell_type": "markdown",
      "metadata": {
        "id": "K0DPDD37G3CG"
      },
      "source": [
        "En una competencia para ocupar un puesto de científico de datos, tenemos un total de **10 preguntas** de opción múltiple con **3 alternativas posibles** en cada pregunta. **Cada pregunta tiene el mismo valor.** Suponga que un candidato decide aventurarse sin haber estudiado nada. Decide tomar la prueba con los ojos vendados y adivinar todas las respuestas. Suponiendo que la prueba **vale 10 puntos y la puntuación de corte es 5**, obtenga la probabilidad de que este candidato **acierte 5 preguntas** y también la probabilidad de que el candidato **pase a la siguiente etapa del proceso de selección**."
      ]
    },
    {
      "cell_type": "markdown",
      "metadata": {
        "id": "sf-NMPfxG3CH"
      },
      "source": [
        "### ¿Cuál es la cantidad de pruebas ($n$)?"
      ]
    },
    {
      "cell_type": "code",
      "metadata": {
        "id": "WmnjMTnYG3CH",
        "colab": {
          "base_uri": "https://localhost:8080/"
        },
        "outputId": "7672b624-ff44-4cda-870b-4794cd56b04e"
      },
      "source": [
        "n = 10\n",
        "n"
      ],
      "execution_count": 216,
      "outputs": [
        {
          "output_type": "execute_result",
          "data": {
            "text/plain": [
              "10"
            ]
          },
          "metadata": {},
          "execution_count": 216
        }
      ]
    },
    {
      "cell_type": "markdown",
      "metadata": {
        "id": "1USf9Ro8G3CK"
      },
      "source": [
        "### ¿Las pruebas son independientes?"
      ]
    },
    {
      "cell_type": "markdown",
      "metadata": {
        "id": "82xf2XIkG3CM"
      },
      "source": [
        "Sí. La opción elegida en una pregunta no influye en la opción elegida en otra pregunta."
      ]
    },
    {
      "cell_type": "markdown",
      "metadata": {
        "id": "7jN0H5e7G3CN"
      },
      "source": [
        "### ¿Sólo dos resultados son posibles en cada prueba?"
      ]
    },
    {
      "cell_type": "markdown",
      "metadata": {
        "id": "gGxcY7K8G3CO"
      },
      "source": [
        "Sí. El candidato tiene dos posibilidades, ACERTAR o FALLAR una pregunta."
      ]
    },
    {
      "cell_type": "markdown",
      "metadata": {
        "id": "MZw2LDQjG3CR"
      },
      "source": [
        "### ¿Cuál es la probabilidad de éxito ($p$)?"
      ]
    },
    {
      "cell_type": "code",
      "metadata": {
        "id": "AazGDtt0G3CS",
        "colab": {
          "base_uri": "https://localhost:8080/"
        },
        "outputId": "7440676c-ba93-49fd-b94e-3b6dbfc7b42d"
      },
      "source": [
        "numero_de_alternativas_por_pregunta = 3\n",
        "p = 1 / numero_de_alternativas_por_pregunta\n",
        "p"
      ],
      "execution_count": 217,
      "outputs": [
        {
          "output_type": "execute_result",
          "data": {
            "text/plain": [
              "0.3333333333333333"
            ]
          },
          "metadata": {},
          "execution_count": 217
        }
      ]
    },
    {
      "cell_type": "markdown",
      "metadata": {
        "id": "KPCw41OlG3CX"
      },
      "source": [
        "### ¿Cuál es la probabilidad de fracaso ($q$)?"
      ]
    },
    {
      "cell_type": "code",
      "metadata": {
        "id": "FRhmjCnpG3CZ",
        "colab": {
          "base_uri": "https://localhost:8080/"
        },
        "outputId": "6621c673-0589-45d0-bae9-24c5c2296417"
      },
      "source": [
        "q = 1 - p\n",
        "q"
      ],
      "execution_count": 218,
      "outputs": [
        {
          "output_type": "execute_result",
          "data": {
            "text/plain": [
              "0.6666666666666667"
            ]
          },
          "metadata": {},
          "execution_count": 218
        }
      ]
    },
    {
      "cell_type": "markdown",
      "metadata": {
        "id": "W2htpmzaG3Ce"
      },
      "source": [
        "### ¿Cuál es el número total de eventos para tener éxito ($k$)?"
      ]
    },
    {
      "cell_type": "code",
      "metadata": {
        "id": "MmHpiIIuG3Cj",
        "colab": {
          "base_uri": "https://localhost:8080/"
        },
        "outputId": "023ecbbb-4724-4f76-a104-eea375a75be3"
      },
      "source": [
        "k = 5\n",
        "k"
      ],
      "execution_count": 219,
      "outputs": [
        {
          "output_type": "execute_result",
          "data": {
            "text/plain": [
              "5"
            ]
          },
          "metadata": {},
          "execution_count": 219
        }
      ]
    },
    {
      "cell_type": "markdown",
      "metadata": {
        "id": "r8TZ6DSuG3Cm"
      },
      "source": [
        "### Solución 1"
      ]
    },
    {
      "cell_type": "code",
      "metadata": {
        "id": "tZBbMIzKG3Cn",
        "colab": {
          "base_uri": "https://localhost:8080/"
        },
        "outputId": "ef256b32-cfad-48f7-fadb-574438b61c25"
      },
      "source": [
        "probabilidad = (comb(10,5) * (p ** k) * (q ** (n - k)))\n",
        "print(f'{probabilidad:.8f}')"
      ],
      "execution_count": 220,
      "outputs": [
        {
          "output_type": "stream",
          "name": "stdout",
          "text": [
            "0.13656455\n"
          ]
        }
      ]
    },
    {
      "cell_type": "markdown",
      "metadata": {
        "id": "rDwUvW5UG3Cq"
      },
      "source": [
        "### Importando bibliotecas\n",
        "https://docs.scipy.org/doc/scipy/reference/generated/scipy.stats.binom.html"
      ]
    },
    {
      "cell_type": "code",
      "metadata": {
        "id": "rhlsI3iLG3Cr"
      },
      "source": [
        "from scipy.stats import binom"
      ],
      "execution_count": 221,
      "outputs": []
    },
    {
      "cell_type": "markdown",
      "metadata": {
        "id": "hvj2sYaSG3Ct"
      },
      "source": [
        "### Solución 2"
      ]
    },
    {
      "cell_type": "code",
      "metadata": {
        "id": "OjS1xsz5G3Cu",
        "colab": {
          "base_uri": "https://localhost:8080/"
        },
        "outputId": "3df5c385-b28a-4ce8-a42b-27c2043cb376"
      },
      "source": [
        "probabilidad = binom.pmf(k, n, p)\n",
        "print(f'{probabilidad:.8f}')"
      ],
      "execution_count": 222,
      "outputs": [
        {
          "output_type": "stream",
          "name": "stdout",
          "text": [
            "0.13656455\n"
          ]
        }
      ]
    },
    {
      "cell_type": "markdown",
      "metadata": {
        "id": "fT3vvRYGVeBG"
      },
      "source": [
        "### Obtenga la probabilidad de que el candidato apruebe"
      ]
    },
    {
      "cell_type": "markdown",
      "metadata": {
        "id": "SOiiR_XYVeBH"
      },
      "source": [
        "### $$P(acertar \\geq 5) = P(5) + P(6) + P(7) + P(8) + P(9) + P(10)$$"
      ]
    },
    {
      "cell_type": "code",
      "metadata": {
        "id": "MbBQB9JkVeBH",
        "colab": {
          "base_uri": "https://localhost:8080/"
        },
        "outputId": "a8ae0621-1ea6-4260-b794-2a00bc519c93"
      },
      "source": [
        "binom.pmf(5, n, p) + binom.pmf(6, n, p) + binom.pmf(7, n, p) + binom.pmf(8, n, p) + binom.pmf(9, n, p) + binom.pmf(10, n, p)"
      ],
      "execution_count": 223,
      "outputs": [
        {
          "output_type": "execute_result",
          "data": {
            "text/plain": [
              "np.float64(0.21312808006909476)"
            ]
          },
          "metadata": {},
          "execution_count": 223
        }
      ]
    },
    {
      "cell_type": "code",
      "metadata": {
        "id": "JcCrf3dpVeBI",
        "colab": {
          "base_uri": "https://localhost:8080/"
        },
        "outputId": "62e920cb-2e14-4d58-aadc-20feb9146c8f"
      },
      "source": [
        "binom.pmf([5, 6, 7, 8, 9, 10], n, p).sum()"
      ],
      "execution_count": 224,
      "outputs": [
        {
          "output_type": "execute_result",
          "data": {
            "text/plain": [
              "np.float64(0.21312808006909476)"
            ]
          },
          "metadata": {},
          "execution_count": 224
        }
      ]
    },
    {
      "cell_type": "code",
      "metadata": {
        "id": "iiZjUp8_VeBJ",
        "colab": {
          "base_uri": "https://localhost:8080/"
        },
        "outputId": "bb27ca3f-8eb9-464f-ddc6-da0168fc55a9"
      },
      "source": [
        "1 - binom.cdf(4 , n , p)"
      ],
      "execution_count": 225,
      "outputs": [
        {
          "output_type": "execute_result",
          "data": {
            "text/plain": [
              "np.float64(0.21312808006909523)"
            ]
          },
          "metadata": {},
          "execution_count": 225
        }
      ]
    },
    {
      "cell_type": "code",
      "metadata": {
        "id": "r-hkg9l4VeBK",
        "colab": {
          "base_uri": "https://localhost:8080/"
        },
        "outputId": "25358c06-3e31-4410-d093-47364e24e185"
      },
      "source": [
        "binom.sf(4, n, p)"
      ],
      "execution_count": 226,
      "outputs": [
        {
          "output_type": "execute_result",
          "data": {
            "text/plain": [
              "np.float64(0.21312808006909525)"
            ]
          },
          "metadata": {},
          "execution_count": 226
        }
      ]
    },
    {
      "cell_type": "markdown",
      "metadata": {
        "id": "7hAZ4XkMG3Cx"
      },
      "source": [
        "## <font color='blue'>Ejemplo: Yincana</font>"
      ]
    },
    {
      "cell_type": "markdown",
      "metadata": {
        "id": "l42alRhOG3Cy"
      },
      "source": [
        "Una ciudad del interior realiza una yincana cada año para recaudar fondos para el hospital de la ciudad. En la última competencia se sabe que la **proporción de mujeres participantes fue del 60%**. **El número total de equipos, con 12 miembros, inscritos en la yincana de este año es 30**. Con la información anterior, responda: ¿Cuántos equipos deberían estar formados por **8 mujeres**?"
      ]
    },
    {
      "cell_type": "markdown",
      "metadata": {
        "id": "dqBGf6d7G3C0"
      },
      "source": [
        "### Solución"
      ]
    },
    {
      "cell_type": "code",
      "metadata": {
        "id": "Xw9b6ch3G3C1",
        "colab": {
          "base_uri": "https://localhost:8080/"
        },
        "outputId": "a603f0d7-6249-4d99-9c70-b991e431c286"
      },
      "source": [
        "p = 0.6\n",
        "p"
      ],
      "execution_count": 227,
      "outputs": [
        {
          "output_type": "execute_result",
          "data": {
            "text/plain": [
              "0.6"
            ]
          },
          "metadata": {},
          "execution_count": 227
        }
      ]
    },
    {
      "cell_type": "code",
      "metadata": {
        "id": "R3-RaxP5G3C3",
        "colab": {
          "base_uri": "https://localhost:8080/"
        },
        "outputId": "a86ad9bc-4b42-4633-95a5-986cfd33ef5d"
      },
      "source": [
        "n = 12\n",
        "n"
      ],
      "execution_count": 228,
      "outputs": [
        {
          "output_type": "execute_result",
          "data": {
            "text/plain": [
              "12"
            ]
          },
          "metadata": {},
          "execution_count": 228
        }
      ]
    },
    {
      "cell_type": "code",
      "metadata": {
        "id": "otBHHyD0G3C6",
        "colab": {
          "base_uri": "https://localhost:8080/"
        },
        "outputId": "61edb725-8553-4119-aaf1-5d142031924a"
      },
      "source": [
        "k = 8\n",
        "k"
      ],
      "execution_count": 229,
      "outputs": [
        {
          "output_type": "execute_result",
          "data": {
            "text/plain": [
              "8"
            ]
          },
          "metadata": {},
          "execution_count": 229
        }
      ]
    },
    {
      "cell_type": "code",
      "metadata": {
        "id": "ZAoBvbQqG3C9",
        "colab": {
          "base_uri": "https://localhost:8080/"
        },
        "outputId": "da03d8c2-c477-4765-d946-7569c1086766"
      },
      "source": [
        "probabilidad = binom.pmf(k, n, p)\n",
        "print(f'{probabilidad:.8f}')"
      ],
      "execution_count": 230,
      "outputs": [
        {
          "output_type": "stream",
          "name": "stdout",
          "text": [
            "0.21284094\n"
          ]
        }
      ]
    },
    {
      "cell_type": "code",
      "metadata": {
        "id": "Tg53uGL4G3DA",
        "colab": {
          "base_uri": "https://localhost:8080/"
        },
        "outputId": "d32f7ae1-92b0-4041-ecdc-ef358bfaf35c"
      },
      "source": [
        "equipos = 30 * probabilidad\n",
        "equipos"
      ],
      "execution_count": 231,
      "outputs": [
        {
          "output_type": "execute_result",
          "data": {
            "text/plain": [
              "np.float64(6.3852281856)"
            ]
          },
          "metadata": {},
          "execution_count": 231
        }
      ]
    },
    {
      "cell_type": "markdown",
      "metadata": {
        "id": "49TiCQRvG3DC"
      },
      "source": [
        "---\n",
        "---"
      ]
    },
    {
      "cell_type": "markdown",
      "metadata": {
        "id": "X6bYonAZG3DE"
      },
      "source": [
        "## <font color=red>Problema</font>\n",
        "***"
      ]
    },
    {
      "cell_type": "markdown",
      "metadata": {
        "id": "Ccx-Bc9oG3DH"
      },
      "source": [
        "Un restaurante recibe un promedio de **20 pedidos por hora**. ¿Cuál es la probabilidad de que, en un momento determinado al azar, el restaurante reciba **15 pedidos**?"
      ]
    },
    {
      "cell_type": "markdown",
      "metadata": {
        "id": "k-uV7bgsmand"
      },
      "source": [
        "## <font color=green>2.2 Distribución Poisson</font>\n",
        "***"
      ]
    },
    {
      "cell_type": "markdown",
      "metadata": {
        "id": "H0jPtJICG3DM"
      },
      "source": [
        "Se utiliza para describir el número de ocurrencias en un tiempo o espacio específico. Los eventos se caracterizan por la posibilidad de contar los éxitos, pero no poder contar los fracasos.\n",
        "\n",
        "Como ejemplos de procesos donde podemos aplicar la distribución de Poisson tenemos la determinación del número de clientes que ingresan a una tienda en un momento determinado, el número de autos que llegan a un Auto-servicio de una cafetería a la hora del almuerzo, la determinación del número de accidentes registrados en un tramo de carretera, etc."
      ]
    },
    {
      "cell_type": "markdown",
      "metadata": {
        "id": "O_XqwANJG3DN"
      },
      "source": [
        "# $$P(k) = \\frac{e^{-\\mu}(\\mu)^k}{k!}$$\n",
        "\n",
        "Donde:\n",
        "\n",
        "$e$ = constante cuyo valor aproximado es 2.718281828459045\n",
        "\n",
        "$\\mu$ = representa el número promedio de ocurrencias en un intervalo de tiempo o espacio dado\n",
        "\n",
        "$k$ = número de éxitos en el intervalo deseado"
      ]
    },
    {
      "cell_type": "markdown",
      "metadata": {
        "id": "FqquU8wOG3DO"
      },
      "source": [
        "### Experimento Poisson"
      ]
    },
    {
      "cell_type": "markdown",
      "metadata": {
        "id": "ir2odEW3G3DO"
      },
      "source": [
        "1. La probabilidad de que ocurra es la misma en todo el intervalo observado.\n",
        "\n",
        "2. El número de ocurrencias en un intervalo dado es independiente del número de ocurrencias en otros intervalos.\n",
        "\n",
        "3. La probabilidad de que ocurra es la misma en intervalos de igual longitud."
      ]
    },
    {
      "cell_type": "markdown",
      "metadata": {
        "id": "2INlWMa0G3DP"
      },
      "source": [
        "### Media de la distribución Poisson"
      ]
    },
    {
      "cell_type": "markdown",
      "metadata": {
        "id": "xywTsniCG3DP"
      },
      "source": [
        "# $$\\mu$$"
      ]
    },
    {
      "cell_type": "markdown",
      "metadata": {
        "id": "7-Lh-LpfG3DQ"
      },
      "source": [
        "### Desviación estándar de la distribución Poisson"
      ]
    },
    {
      "cell_type": "markdown",
      "metadata": {
        "id": "61uStWUsG3DQ"
      },
      "source": [
        "# $$\\sigma = \\sqrt{\\mu}$$"
      ]
    },
    {
      "cell_type": "markdown",
      "metadata": {
        "id": "vniBmzIMG3DR"
      },
      "source": [
        "### Importando bibliotecas\n",
        "\n",
        "http://www.numpy.org/"
      ]
    },
    {
      "cell_type": "code",
      "metadata": {
        "id": "w23fjVT-G3DS"
      },
      "source": [
        "import numpy as np\n",
        "import math"
      ],
      "execution_count": 232,
      "outputs": []
    },
    {
      "cell_type": "code",
      "metadata": {
        "id": "rdNqMuFNG3DU",
        "colab": {
          "base_uri": "https://localhost:8080/"
        },
        "outputId": "4c17ae55-59a2-4ea2-d653-0091aa810c34"
      },
      "source": [
        "np.e"
      ],
      "execution_count": 233,
      "outputs": [
        {
          "output_type": "execute_result",
          "data": {
            "text/plain": [
              "2.718281828459045"
            ]
          },
          "metadata": {},
          "execution_count": 233
        }
      ]
    },
    {
      "cell_type": "markdown",
      "metadata": {
        "id": "RKQWuVgMG3DW"
      },
      "source": [
        "## <font color='blue'>Ejemplo: Delivery</font>"
      ]
    },
    {
      "cell_type": "markdown",
      "metadata": {
        "id": "ZKc__49bG3DX"
      },
      "source": [
        "Un restaurante recibe un promedio de **20 pedidos por hora**. ¿Cuál es la probabilidad de que, en un momento determinado al azar, el restaurante reciba **15 pedidos**?"
      ]
    },
    {
      "cell_type": "markdown",
      "metadata": {
        "id": "W-MJ4XBkG3DX"
      },
      "source": [
        "### ¿Cuál es el número promedio de ocurrencias por hora ($\\mu$)?"
      ]
    },
    {
      "cell_type": "code",
      "metadata": {
        "id": "2fVfJxdSG3DY",
        "colab": {
          "base_uri": "https://localhost:8080/"
        },
        "outputId": "4a72d429-1efa-4588-d252-2bea1d5fbb57"
      },
      "source": [
        "media = 20\n",
        "media"
      ],
      "execution_count": 234,
      "outputs": [
        {
          "output_type": "execute_result",
          "data": {
            "text/plain": [
              "20"
            ]
          },
          "metadata": {},
          "execution_count": 234
        }
      ]
    },
    {
      "cell_type": "markdown",
      "metadata": {
        "id": "3SagRtPvG3Da"
      },
      "source": [
        "### ¿Qué número de ocurrencias queremos obtener en el período ($k$)?"
      ]
    },
    {
      "cell_type": "code",
      "metadata": {
        "id": "yXB3QhWyG3Da",
        "colab": {
          "base_uri": "https://localhost:8080/"
        },
        "outputId": "69b585f8-2d71-44b9-abee-6e71036f53f9"
      },
      "source": [
        "k = 15\n",
        "k"
      ],
      "execution_count": 235,
      "outputs": [
        {
          "output_type": "execute_result",
          "data": {
            "text/plain": [
              "15"
            ]
          },
          "metadata": {},
          "execution_count": 235
        }
      ]
    },
    {
      "cell_type": "markdown",
      "metadata": {
        "id": "3wFh3lFCG3De"
      },
      "source": [
        "### Solución 1"
      ]
    },
    {
      "cell_type": "code",
      "metadata": {
        "id": "IEGO31WCG3Df",
        "colab": {
          "base_uri": "https://localhost:8080/"
        },
        "outputId": "a79ad952-9857-4367-edf0-bd144f8039f6"
      },
      "source": [
        "probabilidad = ((np.e ** (-media)) * (media ** k)) / (math.factorial(k))\n",
        "print(f'{probabilidad}')"
      ],
      "execution_count": 236,
      "outputs": [
        {
          "output_type": "stream",
          "name": "stdout",
          "text": [
            "0.0516488535317584\n"
          ]
        }
      ]
    },
    {
      "cell_type": "markdown",
      "metadata": {
        "id": "GoIBvH62G3Di"
      },
      "source": [
        "### Importando bibliotecas"
      ]
    },
    {
      "cell_type": "markdown",
      "metadata": {
        "id": "iFSF_9Y4G3Dj"
      },
      "source": [
        "https://docs.scipy.org/doc/scipy/reference/generated/scipy.stats.poisson.html"
      ]
    },
    {
      "cell_type": "markdown",
      "metadata": {
        "id": "yAyXh0euG3Dk"
      },
      "source": [
        "### Solución 2"
      ]
    },
    {
      "cell_type": "code",
      "metadata": {
        "id": "sNw4oCAyG3Dk",
        "colab": {
          "base_uri": "https://localhost:8080/"
        },
        "outputId": "13ccc75f-e98e-4c7e-b87f-1cab8d9227e7"
      },
      "source": [
        "from scipy.stats import poisson\n",
        "probabilidad = poisson.pmf(k,media)\n",
        "print(f'{probabilidad}')"
      ],
      "execution_count": 237,
      "outputs": [
        {
          "output_type": "stream",
          "name": "stdout",
          "text": [
            "0.05164885353175814\n"
          ]
        }
      ]
    },
    {
      "cell_type": "markdown",
      "metadata": {
        "id": "g3ng8tQFG3Do"
      },
      "source": [
        "---\n",
        "---"
      ]
    },
    {
      "cell_type": "markdown",
      "metadata": {
        "id": "tVPUT9kEG3Dp"
      },
      "source": [
        "## <font color=red>Problema</font>\n",
        "***"
      ]
    },
    {
      "cell_type": "markdown",
      "metadata": {
        "id": "j7zVDN0kG3Dq"
      },
      "source": [
        "En un estudio sobre la altura de los residentes de una ciudad, se encontró que el conjunto de datos sigue una **distribución aproximadamente normal**, con **media 1.70** y **desviación estándar de 0.1**. Con esta información, obtenga el siguiente conjunto de probabilidades:\n",
        "\n",
        "> **A.** probabilidad de que una persona, seleccionada al azar, sea menor de 1.80 metros.\n",
        "\n",
        "> **B.** probabilidad de que una persona, seleccionada al azar, tenga entre 1.60 metros y 1.80 metros.\n",
        "\n",
        "> **C.** probabilidad de que una persona, seleccionada al azar, tenga más de 1.90 metros.\n"
      ]
    },
    {
      "cell_type": "markdown",
      "metadata": {
        "id": "AowcVaKqpvf2"
      },
      "source": [
        "## <font color=green>2.3 Distribución Normal</font>\n",
        "***"
      ]
    },
    {
      "cell_type": "markdown",
      "metadata": {
        "id": "YOBD21hGG3Dw"
      },
      "source": [
        "La distribución normal es una de las más utilizadas en estadística. Es una distribución continua, donde la distribución de frecuencias de una variable cuantitativa tiene forma de campana y es simétrica en relación con su media."
      ]
    },
    {
      "cell_type": "markdown",
      "metadata": {
        "id": "kbPy2ORqqKJA"
      },
      "source": [
        "<img src='https://caelum-online-public.s3.amazonaws.com/ESP-1764-estadistica-con-python-probabilidad-y-muestreo/img001.png' width='500px'>"
      ]
    },
    {
      "cell_type": "markdown",
      "metadata": {
        "id": "J3eKESHTG3Dx"
      },
      "source": [
        "### Características importantes"
      ]
    },
    {
      "cell_type": "markdown",
      "metadata": {
        "id": "z8GxAzWZG3Dx"
      },
      "source": [
        "1. Es simétrica alrededor de la media;\n",
        "\n",
        "2. El área bajo la curva corresponde a la proporción 1 o 100%;\n",
        "\n",
        "3. Las medidas de tendencia central (media, mediana y moda) tienen el mismo valor;\n",
        "\n",
        "4. Los extremos de la curva tienden al infinito en ambas direcciones y, teóricamente, nunca tocan el eje $x$;\n",
        "\n",
        "5. La desviación estándar define la planitud y el ancho de la distribución. Las curvas más anchas y planas tienen valores de desviación estándar más altos;\n",
        "\n",
        "6. La distribución se define por su media y desviación estándar;\n",
        "\n",
        "7. La probabilidad siempre será igual al área bajo la curva, delimitada por los límites superior e inferior."
      ]
    },
    {
      "cell_type": "markdown",
      "metadata": {
        "id": "hoWLlOiwG3Dy"
      },
      "source": [
        "# $$f(x) = \\frac{1}{\\sqrt{2\\pi\\sigma^2}}e^{-\\frac{1}{2}\\left(\\frac{x-\\mu}{\\sigma}\\right)^2}$$\n",
        "\n",
        "Donde:\n",
        "\n",
        "$x$ = variable normal\n",
        "\n",
        "$\\sigma$ = desviación estándar\n",
        "\n",
        "$\\mu$ = media"
      ]
    },
    {
      "cell_type": "markdown",
      "metadata": {
        "id": "8n03Z0VlG3Dz"
      },
      "source": [
        "La probabilidad se obtiene del área bajo la curva, delimitada por los límites superior e inferior especificados. Se puede ver un ejemplo en la figura siguiente."
      ]
    },
    {
      "cell_type": "markdown",
      "metadata": {
        "id": "X1UgmFoxG3Dz"
      },
      "source": [
        "<img src='https://caelum-online-public.s3.amazonaws.com/ESP-1764-estadistica-con-python-probabilidad-y-muestreo/img002.png' width='500px'>\n"
      ]
    },
    {
      "cell_type": "markdown",
      "metadata": {
        "id": "rtKiApHLG3D0"
      },
      "source": [
        "Para obtener el área anterior, simplemente calcule la integral de la función para los intervalos determinados. Según la siguiente ecuación:"
      ]
    },
    {
      "cell_type": "markdown",
      "metadata": {
        "id": "0r_9CbSOG3D0"
      },
      "source": [
        "# $$P(L_i<x<L_s) = \\int_{L_i}^{L_s}\\frac{1}{\\sqrt{2\\pi\\sigma^2}}e^{-\\frac{1}{2}\\left(\\frac{x-\\mu}{\\sigma}\\right)^2}$$\n",
        "\n",
        "Donde:\n",
        "\n",
        "$x$ = variable normal\n",
        "\n",
        "$\\sigma$ = desviación estándar\n",
        "\n",
        "$\\mu$ = media\n",
        "\n",
        "$L_i$ = límite inferior\n",
        "\n",
        "$L_s$ = límite superior"
      ]
    },
    {
      "cell_type": "markdown",
      "metadata": {
        "id": "qP-Ye-leG3D1"
      },
      "source": [
        "### Tablas estandarizadas"
      ]
    },
    {
      "cell_type": "markdown",
      "metadata": {
        "id": "Z1VnLK11G3D1"
      },
      "source": [
        "Se crearon tablas estandarizadas para facilitar la obtención de los valores de las áreas bajo la curva normal y eliminar la necesidad de resolver integrales definidas.\n",
        "\n",
        "Para ver los valores en una tabla estandarizada, simplemente transforme nuestra variable en una variable estandarizada $Z$.\n",
        "\n",
        "Esta variable $Z$ representa la desviación en las desviaciones estándar de un valor de la variable original en relación con la media."
      ]
    },
    {
      "cell_type": "markdown",
      "metadata": {
        "id": "HJcdgdsgG3D2"
      },
      "source": [
        "# $$Z = \\frac{x-\\mu}{\\sigma}$$\n",
        "\n",
        "Donde:\n",
        "\n",
        "$x$ = variable normal con media $\\mu$ y desviación estándar $\\sigma$\n",
        "\n",
        "$\\sigma$ = desviación estándar\n",
        "\n",
        "$\\mu$ = media"
      ]
    },
    {
      "cell_type": "markdown",
      "metadata": {
        "id": "hUrVKJH3G3D2"
      },
      "source": [
        "### Construyendo la tabla normal estandarizada\n",
        "https://docs.scipy.org/doc/scipy/reference/generated/scipy.stats.norm.html"
      ]
    },
    {
      "cell_type": "code",
      "metadata": {
        "id": "7SudUNlcG3D4",
        "colab": {
          "base_uri": "https://localhost:8080/",
          "height": 1000
        },
        "outputId": "33191a65-7e83-4467-8557-d05a50c83539"
      },
      "source": [
        "import pandas as pd\n",
        "import numpy as np\n",
        "from scipy.stats import norm\n",
        "\n",
        "tabla_normal_estandarizada = pd.DataFrame(\n",
        "    [],\n",
        "    index=[\"{0:0.2f}\".format(i / 100) for i in range(0, 400, 10)],\n",
        "    columns = [\"{0:0.2f}\".format(i / 100) for i in range(0, 10)])\n",
        "\n",
        "for index in tabla_normal_estandarizada.index:\n",
        "    for column in tabla_normal_estandarizada.columns:\n",
        "        Z = np.round(float(index) + float(column), 2)\n",
        "        tabla_normal_estandarizada.loc[index, column] = \"{0:0.4f}\".format(norm.cdf(Z))\n",
        "\n",
        "tabla_normal_estandarizada.rename_axis('Z', axis = 'columns', inplace = True)\n",
        "\n",
        "tabla_normal_estandarizada"
      ],
      "execution_count": 238,
      "outputs": [
        {
          "output_type": "execute_result",
          "data": {
            "text/plain": [
              "Z       0.00    0.01    0.02    0.03    0.04    0.05    0.06    0.07    0.08  \\\n",
              "0.00  0.5000  0.5040  0.5080  0.5120  0.5160  0.5199  0.5239  0.5279  0.5319   \n",
              "0.10  0.5398  0.5438  0.5478  0.5517  0.5557  0.5596  0.5636  0.5675  0.5714   \n",
              "0.20  0.5793  0.5832  0.5871  0.5910  0.5948  0.5987  0.6026  0.6064  0.6103   \n",
              "0.30  0.6179  0.6217  0.6255  0.6293  0.6331  0.6368  0.6406  0.6443  0.6480   \n",
              "0.40  0.6554  0.6591  0.6628  0.6664  0.6700  0.6736  0.6772  0.6808  0.6844   \n",
              "0.50  0.6915  0.6950  0.6985  0.7019  0.7054  0.7088  0.7123  0.7157  0.7190   \n",
              "0.60  0.7257  0.7291  0.7324  0.7357  0.7389  0.7422  0.7454  0.7486  0.7517   \n",
              "0.70  0.7580  0.7611  0.7642  0.7673  0.7704  0.7734  0.7764  0.7794  0.7823   \n",
              "0.80  0.7881  0.7910  0.7939  0.7967  0.7995  0.8023  0.8051  0.8078  0.8106   \n",
              "0.90  0.8159  0.8186  0.8212  0.8238  0.8264  0.8289  0.8315  0.8340  0.8365   \n",
              "1.00  0.8413  0.8438  0.8461  0.8485  0.8508  0.8531  0.8554  0.8577  0.8599   \n",
              "1.10  0.8643  0.8665  0.8686  0.8708  0.8729  0.8749  0.8770  0.8790  0.8810   \n",
              "1.20  0.8849  0.8869  0.8888  0.8907  0.8925  0.8944  0.8962  0.8980  0.8997   \n",
              "1.30  0.9032  0.9049  0.9066  0.9082  0.9099  0.9115  0.9131  0.9147  0.9162   \n",
              "1.40  0.9192  0.9207  0.9222  0.9236  0.9251  0.9265  0.9279  0.9292  0.9306   \n",
              "1.50  0.9332  0.9345  0.9357  0.9370  0.9382  0.9394  0.9406  0.9418  0.9429   \n",
              "1.60  0.9452  0.9463  0.9474  0.9484  0.9495  0.9505  0.9515  0.9525  0.9535   \n",
              "1.70  0.9554  0.9564  0.9573  0.9582  0.9591  0.9599  0.9608  0.9616  0.9625   \n",
              "1.80  0.9641  0.9649  0.9656  0.9664  0.9671  0.9678  0.9686  0.9693  0.9699   \n",
              "1.90  0.9713  0.9719  0.9726  0.9732  0.9738  0.9744  0.9750  0.9756  0.9761   \n",
              "2.00  0.9772  0.9778  0.9783  0.9788  0.9793  0.9798  0.9803  0.9808  0.9812   \n",
              "2.10  0.9821  0.9826  0.9830  0.9834  0.9838  0.9842  0.9846  0.9850  0.9854   \n",
              "2.20  0.9861  0.9864  0.9868  0.9871  0.9875  0.9878  0.9881  0.9884  0.9887   \n",
              "2.30  0.9893  0.9896  0.9898  0.9901  0.9904  0.9906  0.9909  0.9911  0.9913   \n",
              "2.40  0.9918  0.9920  0.9922  0.9925  0.9927  0.9929  0.9931  0.9932  0.9934   \n",
              "2.50  0.9938  0.9940  0.9941  0.9943  0.9945  0.9946  0.9948  0.9949  0.9951   \n",
              "2.60  0.9953  0.9955  0.9956  0.9957  0.9959  0.9960  0.9961  0.9962  0.9963   \n",
              "2.70  0.9965  0.9966  0.9967  0.9968  0.9969  0.9970  0.9971  0.9972  0.9973   \n",
              "2.80  0.9974  0.9975  0.9976  0.9977  0.9977  0.9978  0.9979  0.9979  0.9980   \n",
              "2.90  0.9981  0.9982  0.9982  0.9983  0.9984  0.9984  0.9985  0.9985  0.9986   \n",
              "3.00  0.9987  0.9987  0.9987  0.9988  0.9988  0.9989  0.9989  0.9989  0.9990   \n",
              "3.10  0.9990  0.9991  0.9991  0.9991  0.9992  0.9992  0.9992  0.9992  0.9993   \n",
              "3.20  0.9993  0.9993  0.9994  0.9994  0.9994  0.9994  0.9994  0.9995  0.9995   \n",
              "3.30  0.9995  0.9995  0.9995  0.9996  0.9996  0.9996  0.9996  0.9996  0.9996   \n",
              "3.40  0.9997  0.9997  0.9997  0.9997  0.9997  0.9997  0.9997  0.9997  0.9997   \n",
              "3.50  0.9998  0.9998  0.9998  0.9998  0.9998  0.9998  0.9998  0.9998  0.9998   \n",
              "3.60  0.9998  0.9998  0.9999  0.9999  0.9999  0.9999  0.9999  0.9999  0.9999   \n",
              "3.70  0.9999  0.9999  0.9999  0.9999  0.9999  0.9999  0.9999  0.9999  0.9999   \n",
              "3.80  0.9999  0.9999  0.9999  0.9999  0.9999  0.9999  0.9999  0.9999  0.9999   \n",
              "3.90  1.0000  1.0000  1.0000  1.0000  1.0000  1.0000  1.0000  1.0000  1.0000   \n",
              "\n",
              "Z       0.09  \n",
              "0.00  0.5359  \n",
              "0.10  0.5753  \n",
              "0.20  0.6141  \n",
              "0.30  0.6517  \n",
              "0.40  0.6879  \n",
              "0.50  0.7224  \n",
              "0.60  0.7549  \n",
              "0.70  0.7852  \n",
              "0.80  0.8133  \n",
              "0.90  0.8389  \n",
              "1.00  0.8621  \n",
              "1.10  0.8830  \n",
              "1.20  0.9015  \n",
              "1.30  0.9177  \n",
              "1.40  0.9319  \n",
              "1.50  0.9441  \n",
              "1.60  0.9545  \n",
              "1.70  0.9633  \n",
              "1.80  0.9706  \n",
              "1.90  0.9767  \n",
              "2.00  0.9817  \n",
              "2.10  0.9857  \n",
              "2.20  0.9890  \n",
              "2.30  0.9916  \n",
              "2.40  0.9936  \n",
              "2.50  0.9952  \n",
              "2.60  0.9964  \n",
              "2.70  0.9974  \n",
              "2.80  0.9981  \n",
              "2.90  0.9986  \n",
              "3.00  0.9990  \n",
              "3.10  0.9993  \n",
              "3.20  0.9995  \n",
              "3.30  0.9997  \n",
              "3.40  0.9998  \n",
              "3.50  0.9998  \n",
              "3.60  0.9999  \n",
              "3.70  0.9999  \n",
              "3.80  0.9999  \n",
              "3.90  1.0000  "
            ],
            "text/html": [
              "\n",
              "  <div id=\"df-95bd01fb-149a-4e6f-bb30-1d7219900607\" class=\"colab-df-container\">\n",
              "    <div>\n",
              "<style scoped>\n",
              "    .dataframe tbody tr th:only-of-type {\n",
              "        vertical-align: middle;\n",
              "    }\n",
              "\n",
              "    .dataframe tbody tr th {\n",
              "        vertical-align: top;\n",
              "    }\n",
              "\n",
              "    .dataframe thead th {\n",
              "        text-align: right;\n",
              "    }\n",
              "</style>\n",
              "<table border=\"1\" class=\"dataframe\">\n",
              "  <thead>\n",
              "    <tr style=\"text-align: right;\">\n",
              "      <th>Z</th>\n",
              "      <th>0.00</th>\n",
              "      <th>0.01</th>\n",
              "      <th>0.02</th>\n",
              "      <th>0.03</th>\n",
              "      <th>0.04</th>\n",
              "      <th>0.05</th>\n",
              "      <th>0.06</th>\n",
              "      <th>0.07</th>\n",
              "      <th>0.08</th>\n",
              "      <th>0.09</th>\n",
              "    </tr>\n",
              "  </thead>\n",
              "  <tbody>\n",
              "    <tr>\n",
              "      <th>0.00</th>\n",
              "      <td>0.5000</td>\n",
              "      <td>0.5040</td>\n",
              "      <td>0.5080</td>\n",
              "      <td>0.5120</td>\n",
              "      <td>0.5160</td>\n",
              "      <td>0.5199</td>\n",
              "      <td>0.5239</td>\n",
              "      <td>0.5279</td>\n",
              "      <td>0.5319</td>\n",
              "      <td>0.5359</td>\n",
              "    </tr>\n",
              "    <tr>\n",
              "      <th>0.10</th>\n",
              "      <td>0.5398</td>\n",
              "      <td>0.5438</td>\n",
              "      <td>0.5478</td>\n",
              "      <td>0.5517</td>\n",
              "      <td>0.5557</td>\n",
              "      <td>0.5596</td>\n",
              "      <td>0.5636</td>\n",
              "      <td>0.5675</td>\n",
              "      <td>0.5714</td>\n",
              "      <td>0.5753</td>\n",
              "    </tr>\n",
              "    <tr>\n",
              "      <th>0.20</th>\n",
              "      <td>0.5793</td>\n",
              "      <td>0.5832</td>\n",
              "      <td>0.5871</td>\n",
              "      <td>0.5910</td>\n",
              "      <td>0.5948</td>\n",
              "      <td>0.5987</td>\n",
              "      <td>0.6026</td>\n",
              "      <td>0.6064</td>\n",
              "      <td>0.6103</td>\n",
              "      <td>0.6141</td>\n",
              "    </tr>\n",
              "    <tr>\n",
              "      <th>0.30</th>\n",
              "      <td>0.6179</td>\n",
              "      <td>0.6217</td>\n",
              "      <td>0.6255</td>\n",
              "      <td>0.6293</td>\n",
              "      <td>0.6331</td>\n",
              "      <td>0.6368</td>\n",
              "      <td>0.6406</td>\n",
              "      <td>0.6443</td>\n",
              "      <td>0.6480</td>\n",
              "      <td>0.6517</td>\n",
              "    </tr>\n",
              "    <tr>\n",
              "      <th>0.40</th>\n",
              "      <td>0.6554</td>\n",
              "      <td>0.6591</td>\n",
              "      <td>0.6628</td>\n",
              "      <td>0.6664</td>\n",
              "      <td>0.6700</td>\n",
              "      <td>0.6736</td>\n",
              "      <td>0.6772</td>\n",
              "      <td>0.6808</td>\n",
              "      <td>0.6844</td>\n",
              "      <td>0.6879</td>\n",
              "    </tr>\n",
              "    <tr>\n",
              "      <th>0.50</th>\n",
              "      <td>0.6915</td>\n",
              "      <td>0.6950</td>\n",
              "      <td>0.6985</td>\n",
              "      <td>0.7019</td>\n",
              "      <td>0.7054</td>\n",
              "      <td>0.7088</td>\n",
              "      <td>0.7123</td>\n",
              "      <td>0.7157</td>\n",
              "      <td>0.7190</td>\n",
              "      <td>0.7224</td>\n",
              "    </tr>\n",
              "    <tr>\n",
              "      <th>0.60</th>\n",
              "      <td>0.7257</td>\n",
              "      <td>0.7291</td>\n",
              "      <td>0.7324</td>\n",
              "      <td>0.7357</td>\n",
              "      <td>0.7389</td>\n",
              "      <td>0.7422</td>\n",
              "      <td>0.7454</td>\n",
              "      <td>0.7486</td>\n",
              "      <td>0.7517</td>\n",
              "      <td>0.7549</td>\n",
              "    </tr>\n",
              "    <tr>\n",
              "      <th>0.70</th>\n",
              "      <td>0.7580</td>\n",
              "      <td>0.7611</td>\n",
              "      <td>0.7642</td>\n",
              "      <td>0.7673</td>\n",
              "      <td>0.7704</td>\n",
              "      <td>0.7734</td>\n",
              "      <td>0.7764</td>\n",
              "      <td>0.7794</td>\n",
              "      <td>0.7823</td>\n",
              "      <td>0.7852</td>\n",
              "    </tr>\n",
              "    <tr>\n",
              "      <th>0.80</th>\n",
              "      <td>0.7881</td>\n",
              "      <td>0.7910</td>\n",
              "      <td>0.7939</td>\n",
              "      <td>0.7967</td>\n",
              "      <td>0.7995</td>\n",
              "      <td>0.8023</td>\n",
              "      <td>0.8051</td>\n",
              "      <td>0.8078</td>\n",
              "      <td>0.8106</td>\n",
              "      <td>0.8133</td>\n",
              "    </tr>\n",
              "    <tr>\n",
              "      <th>0.90</th>\n",
              "      <td>0.8159</td>\n",
              "      <td>0.8186</td>\n",
              "      <td>0.8212</td>\n",
              "      <td>0.8238</td>\n",
              "      <td>0.8264</td>\n",
              "      <td>0.8289</td>\n",
              "      <td>0.8315</td>\n",
              "      <td>0.8340</td>\n",
              "      <td>0.8365</td>\n",
              "      <td>0.8389</td>\n",
              "    </tr>\n",
              "    <tr>\n",
              "      <th>1.00</th>\n",
              "      <td>0.8413</td>\n",
              "      <td>0.8438</td>\n",
              "      <td>0.8461</td>\n",
              "      <td>0.8485</td>\n",
              "      <td>0.8508</td>\n",
              "      <td>0.8531</td>\n",
              "      <td>0.8554</td>\n",
              "      <td>0.8577</td>\n",
              "      <td>0.8599</td>\n",
              "      <td>0.8621</td>\n",
              "    </tr>\n",
              "    <tr>\n",
              "      <th>1.10</th>\n",
              "      <td>0.8643</td>\n",
              "      <td>0.8665</td>\n",
              "      <td>0.8686</td>\n",
              "      <td>0.8708</td>\n",
              "      <td>0.8729</td>\n",
              "      <td>0.8749</td>\n",
              "      <td>0.8770</td>\n",
              "      <td>0.8790</td>\n",
              "      <td>0.8810</td>\n",
              "      <td>0.8830</td>\n",
              "    </tr>\n",
              "    <tr>\n",
              "      <th>1.20</th>\n",
              "      <td>0.8849</td>\n",
              "      <td>0.8869</td>\n",
              "      <td>0.8888</td>\n",
              "      <td>0.8907</td>\n",
              "      <td>0.8925</td>\n",
              "      <td>0.8944</td>\n",
              "      <td>0.8962</td>\n",
              "      <td>0.8980</td>\n",
              "      <td>0.8997</td>\n",
              "      <td>0.9015</td>\n",
              "    </tr>\n",
              "    <tr>\n",
              "      <th>1.30</th>\n",
              "      <td>0.9032</td>\n",
              "      <td>0.9049</td>\n",
              "      <td>0.9066</td>\n",
              "      <td>0.9082</td>\n",
              "      <td>0.9099</td>\n",
              "      <td>0.9115</td>\n",
              "      <td>0.9131</td>\n",
              "      <td>0.9147</td>\n",
              "      <td>0.9162</td>\n",
              "      <td>0.9177</td>\n",
              "    </tr>\n",
              "    <tr>\n",
              "      <th>1.40</th>\n",
              "      <td>0.9192</td>\n",
              "      <td>0.9207</td>\n",
              "      <td>0.9222</td>\n",
              "      <td>0.9236</td>\n",
              "      <td>0.9251</td>\n",
              "      <td>0.9265</td>\n",
              "      <td>0.9279</td>\n",
              "      <td>0.9292</td>\n",
              "      <td>0.9306</td>\n",
              "      <td>0.9319</td>\n",
              "    </tr>\n",
              "    <tr>\n",
              "      <th>1.50</th>\n",
              "      <td>0.9332</td>\n",
              "      <td>0.9345</td>\n",
              "      <td>0.9357</td>\n",
              "      <td>0.9370</td>\n",
              "      <td>0.9382</td>\n",
              "      <td>0.9394</td>\n",
              "      <td>0.9406</td>\n",
              "      <td>0.9418</td>\n",
              "      <td>0.9429</td>\n",
              "      <td>0.9441</td>\n",
              "    </tr>\n",
              "    <tr>\n",
              "      <th>1.60</th>\n",
              "      <td>0.9452</td>\n",
              "      <td>0.9463</td>\n",
              "      <td>0.9474</td>\n",
              "      <td>0.9484</td>\n",
              "      <td>0.9495</td>\n",
              "      <td>0.9505</td>\n",
              "      <td>0.9515</td>\n",
              "      <td>0.9525</td>\n",
              "      <td>0.9535</td>\n",
              "      <td>0.9545</td>\n",
              "    </tr>\n",
              "    <tr>\n",
              "      <th>1.70</th>\n",
              "      <td>0.9554</td>\n",
              "      <td>0.9564</td>\n",
              "      <td>0.9573</td>\n",
              "      <td>0.9582</td>\n",
              "      <td>0.9591</td>\n",
              "      <td>0.9599</td>\n",
              "      <td>0.9608</td>\n",
              "      <td>0.9616</td>\n",
              "      <td>0.9625</td>\n",
              "      <td>0.9633</td>\n",
              "    </tr>\n",
              "    <tr>\n",
              "      <th>1.80</th>\n",
              "      <td>0.9641</td>\n",
              "      <td>0.9649</td>\n",
              "      <td>0.9656</td>\n",
              "      <td>0.9664</td>\n",
              "      <td>0.9671</td>\n",
              "      <td>0.9678</td>\n",
              "      <td>0.9686</td>\n",
              "      <td>0.9693</td>\n",
              "      <td>0.9699</td>\n",
              "      <td>0.9706</td>\n",
              "    </tr>\n",
              "    <tr>\n",
              "      <th>1.90</th>\n",
              "      <td>0.9713</td>\n",
              "      <td>0.9719</td>\n",
              "      <td>0.9726</td>\n",
              "      <td>0.9732</td>\n",
              "      <td>0.9738</td>\n",
              "      <td>0.9744</td>\n",
              "      <td>0.9750</td>\n",
              "      <td>0.9756</td>\n",
              "      <td>0.9761</td>\n",
              "      <td>0.9767</td>\n",
              "    </tr>\n",
              "    <tr>\n",
              "      <th>2.00</th>\n",
              "      <td>0.9772</td>\n",
              "      <td>0.9778</td>\n",
              "      <td>0.9783</td>\n",
              "      <td>0.9788</td>\n",
              "      <td>0.9793</td>\n",
              "      <td>0.9798</td>\n",
              "      <td>0.9803</td>\n",
              "      <td>0.9808</td>\n",
              "      <td>0.9812</td>\n",
              "      <td>0.9817</td>\n",
              "    </tr>\n",
              "    <tr>\n",
              "      <th>2.10</th>\n",
              "      <td>0.9821</td>\n",
              "      <td>0.9826</td>\n",
              "      <td>0.9830</td>\n",
              "      <td>0.9834</td>\n",
              "      <td>0.9838</td>\n",
              "      <td>0.9842</td>\n",
              "      <td>0.9846</td>\n",
              "      <td>0.9850</td>\n",
              "      <td>0.9854</td>\n",
              "      <td>0.9857</td>\n",
              "    </tr>\n",
              "    <tr>\n",
              "      <th>2.20</th>\n",
              "      <td>0.9861</td>\n",
              "      <td>0.9864</td>\n",
              "      <td>0.9868</td>\n",
              "      <td>0.9871</td>\n",
              "      <td>0.9875</td>\n",
              "      <td>0.9878</td>\n",
              "      <td>0.9881</td>\n",
              "      <td>0.9884</td>\n",
              "      <td>0.9887</td>\n",
              "      <td>0.9890</td>\n",
              "    </tr>\n",
              "    <tr>\n",
              "      <th>2.30</th>\n",
              "      <td>0.9893</td>\n",
              "      <td>0.9896</td>\n",
              "      <td>0.9898</td>\n",
              "      <td>0.9901</td>\n",
              "      <td>0.9904</td>\n",
              "      <td>0.9906</td>\n",
              "      <td>0.9909</td>\n",
              "      <td>0.9911</td>\n",
              "      <td>0.9913</td>\n",
              "      <td>0.9916</td>\n",
              "    </tr>\n",
              "    <tr>\n",
              "      <th>2.40</th>\n",
              "      <td>0.9918</td>\n",
              "      <td>0.9920</td>\n",
              "      <td>0.9922</td>\n",
              "      <td>0.9925</td>\n",
              "      <td>0.9927</td>\n",
              "      <td>0.9929</td>\n",
              "      <td>0.9931</td>\n",
              "      <td>0.9932</td>\n",
              "      <td>0.9934</td>\n",
              "      <td>0.9936</td>\n",
              "    </tr>\n",
              "    <tr>\n",
              "      <th>2.50</th>\n",
              "      <td>0.9938</td>\n",
              "      <td>0.9940</td>\n",
              "      <td>0.9941</td>\n",
              "      <td>0.9943</td>\n",
              "      <td>0.9945</td>\n",
              "      <td>0.9946</td>\n",
              "      <td>0.9948</td>\n",
              "      <td>0.9949</td>\n",
              "      <td>0.9951</td>\n",
              "      <td>0.9952</td>\n",
              "    </tr>\n",
              "    <tr>\n",
              "      <th>2.60</th>\n",
              "      <td>0.9953</td>\n",
              "      <td>0.9955</td>\n",
              "      <td>0.9956</td>\n",
              "      <td>0.9957</td>\n",
              "      <td>0.9959</td>\n",
              "      <td>0.9960</td>\n",
              "      <td>0.9961</td>\n",
              "      <td>0.9962</td>\n",
              "      <td>0.9963</td>\n",
              "      <td>0.9964</td>\n",
              "    </tr>\n",
              "    <tr>\n",
              "      <th>2.70</th>\n",
              "      <td>0.9965</td>\n",
              "      <td>0.9966</td>\n",
              "      <td>0.9967</td>\n",
              "      <td>0.9968</td>\n",
              "      <td>0.9969</td>\n",
              "      <td>0.9970</td>\n",
              "      <td>0.9971</td>\n",
              "      <td>0.9972</td>\n",
              "      <td>0.9973</td>\n",
              "      <td>0.9974</td>\n",
              "    </tr>\n",
              "    <tr>\n",
              "      <th>2.80</th>\n",
              "      <td>0.9974</td>\n",
              "      <td>0.9975</td>\n",
              "      <td>0.9976</td>\n",
              "      <td>0.9977</td>\n",
              "      <td>0.9977</td>\n",
              "      <td>0.9978</td>\n",
              "      <td>0.9979</td>\n",
              "      <td>0.9979</td>\n",
              "      <td>0.9980</td>\n",
              "      <td>0.9981</td>\n",
              "    </tr>\n",
              "    <tr>\n",
              "      <th>2.90</th>\n",
              "      <td>0.9981</td>\n",
              "      <td>0.9982</td>\n",
              "      <td>0.9982</td>\n",
              "      <td>0.9983</td>\n",
              "      <td>0.9984</td>\n",
              "      <td>0.9984</td>\n",
              "      <td>0.9985</td>\n",
              "      <td>0.9985</td>\n",
              "      <td>0.9986</td>\n",
              "      <td>0.9986</td>\n",
              "    </tr>\n",
              "    <tr>\n",
              "      <th>3.00</th>\n",
              "      <td>0.9987</td>\n",
              "      <td>0.9987</td>\n",
              "      <td>0.9987</td>\n",
              "      <td>0.9988</td>\n",
              "      <td>0.9988</td>\n",
              "      <td>0.9989</td>\n",
              "      <td>0.9989</td>\n",
              "      <td>0.9989</td>\n",
              "      <td>0.9990</td>\n",
              "      <td>0.9990</td>\n",
              "    </tr>\n",
              "    <tr>\n",
              "      <th>3.10</th>\n",
              "      <td>0.9990</td>\n",
              "      <td>0.9991</td>\n",
              "      <td>0.9991</td>\n",
              "      <td>0.9991</td>\n",
              "      <td>0.9992</td>\n",
              "      <td>0.9992</td>\n",
              "      <td>0.9992</td>\n",
              "      <td>0.9992</td>\n",
              "      <td>0.9993</td>\n",
              "      <td>0.9993</td>\n",
              "    </tr>\n",
              "    <tr>\n",
              "      <th>3.20</th>\n",
              "      <td>0.9993</td>\n",
              "      <td>0.9993</td>\n",
              "      <td>0.9994</td>\n",
              "      <td>0.9994</td>\n",
              "      <td>0.9994</td>\n",
              "      <td>0.9994</td>\n",
              "      <td>0.9994</td>\n",
              "      <td>0.9995</td>\n",
              "      <td>0.9995</td>\n",
              "      <td>0.9995</td>\n",
              "    </tr>\n",
              "    <tr>\n",
              "      <th>3.30</th>\n",
              "      <td>0.9995</td>\n",
              "      <td>0.9995</td>\n",
              "      <td>0.9995</td>\n",
              "      <td>0.9996</td>\n",
              "      <td>0.9996</td>\n",
              "      <td>0.9996</td>\n",
              "      <td>0.9996</td>\n",
              "      <td>0.9996</td>\n",
              "      <td>0.9996</td>\n",
              "      <td>0.9997</td>\n",
              "    </tr>\n",
              "    <tr>\n",
              "      <th>3.40</th>\n",
              "      <td>0.9997</td>\n",
              "      <td>0.9997</td>\n",
              "      <td>0.9997</td>\n",
              "      <td>0.9997</td>\n",
              "      <td>0.9997</td>\n",
              "      <td>0.9997</td>\n",
              "      <td>0.9997</td>\n",
              "      <td>0.9997</td>\n",
              "      <td>0.9997</td>\n",
              "      <td>0.9998</td>\n",
              "    </tr>\n",
              "    <tr>\n",
              "      <th>3.50</th>\n",
              "      <td>0.9998</td>\n",
              "      <td>0.9998</td>\n",
              "      <td>0.9998</td>\n",
              "      <td>0.9998</td>\n",
              "      <td>0.9998</td>\n",
              "      <td>0.9998</td>\n",
              "      <td>0.9998</td>\n",
              "      <td>0.9998</td>\n",
              "      <td>0.9998</td>\n",
              "      <td>0.9998</td>\n",
              "    </tr>\n",
              "    <tr>\n",
              "      <th>3.60</th>\n",
              "      <td>0.9998</td>\n",
              "      <td>0.9998</td>\n",
              "      <td>0.9999</td>\n",
              "      <td>0.9999</td>\n",
              "      <td>0.9999</td>\n",
              "      <td>0.9999</td>\n",
              "      <td>0.9999</td>\n",
              "      <td>0.9999</td>\n",
              "      <td>0.9999</td>\n",
              "      <td>0.9999</td>\n",
              "    </tr>\n",
              "    <tr>\n",
              "      <th>3.70</th>\n",
              "      <td>0.9999</td>\n",
              "      <td>0.9999</td>\n",
              "      <td>0.9999</td>\n",
              "      <td>0.9999</td>\n",
              "      <td>0.9999</td>\n",
              "      <td>0.9999</td>\n",
              "      <td>0.9999</td>\n",
              "      <td>0.9999</td>\n",
              "      <td>0.9999</td>\n",
              "      <td>0.9999</td>\n",
              "    </tr>\n",
              "    <tr>\n",
              "      <th>3.80</th>\n",
              "      <td>0.9999</td>\n",
              "      <td>0.9999</td>\n",
              "      <td>0.9999</td>\n",
              "      <td>0.9999</td>\n",
              "      <td>0.9999</td>\n",
              "      <td>0.9999</td>\n",
              "      <td>0.9999</td>\n",
              "      <td>0.9999</td>\n",
              "      <td>0.9999</td>\n",
              "      <td>0.9999</td>\n",
              "    </tr>\n",
              "    <tr>\n",
              "      <th>3.90</th>\n",
              "      <td>1.0000</td>\n",
              "      <td>1.0000</td>\n",
              "      <td>1.0000</td>\n",
              "      <td>1.0000</td>\n",
              "      <td>1.0000</td>\n",
              "      <td>1.0000</td>\n",
              "      <td>1.0000</td>\n",
              "      <td>1.0000</td>\n",
              "      <td>1.0000</td>\n",
              "      <td>1.0000</td>\n",
              "    </tr>\n",
              "  </tbody>\n",
              "</table>\n",
              "</div>\n",
              "    <div class=\"colab-df-buttons\">\n",
              "\n",
              "  <div class=\"colab-df-container\">\n",
              "    <button class=\"colab-df-convert\" onclick=\"convertToInteractive('df-95bd01fb-149a-4e6f-bb30-1d7219900607')\"\n",
              "            title=\"Convert this dataframe to an interactive table.\"\n",
              "            style=\"display:none;\">\n",
              "\n",
              "  <svg xmlns=\"http://www.w3.org/2000/svg\" height=\"24px\" viewBox=\"0 -960 960 960\">\n",
              "    <path d=\"M120-120v-720h720v720H120Zm60-500h600v-160H180v160Zm220 220h160v-160H400v160Zm0 220h160v-160H400v160ZM180-400h160v-160H180v160Zm440 0h160v-160H620v160ZM180-180h160v-160H180v160Zm440 0h160v-160H620v160Z\"/>\n",
              "  </svg>\n",
              "    </button>\n",
              "\n",
              "  <style>\n",
              "    .colab-df-container {\n",
              "      display:flex;\n",
              "      gap: 12px;\n",
              "    }\n",
              "\n",
              "    .colab-df-convert {\n",
              "      background-color: #E8F0FE;\n",
              "      border: none;\n",
              "      border-radius: 50%;\n",
              "      cursor: pointer;\n",
              "      display: none;\n",
              "      fill: #1967D2;\n",
              "      height: 32px;\n",
              "      padding: 0 0 0 0;\n",
              "      width: 32px;\n",
              "    }\n",
              "\n",
              "    .colab-df-convert:hover {\n",
              "      background-color: #E2EBFA;\n",
              "      box-shadow: 0px 1px 2px rgba(60, 64, 67, 0.3), 0px 1px 3px 1px rgba(60, 64, 67, 0.15);\n",
              "      fill: #174EA6;\n",
              "    }\n",
              "\n",
              "    .colab-df-buttons div {\n",
              "      margin-bottom: 4px;\n",
              "    }\n",
              "\n",
              "    [theme=dark] .colab-df-convert {\n",
              "      background-color: #3B4455;\n",
              "      fill: #D2E3FC;\n",
              "    }\n",
              "\n",
              "    [theme=dark] .colab-df-convert:hover {\n",
              "      background-color: #434B5C;\n",
              "      box-shadow: 0px 1px 3px 1px rgba(0, 0, 0, 0.15);\n",
              "      filter: drop-shadow(0px 1px 2px rgba(0, 0, 0, 0.3));\n",
              "      fill: #FFFFFF;\n",
              "    }\n",
              "  </style>\n",
              "\n",
              "    <script>\n",
              "      const buttonEl =\n",
              "        document.querySelector('#df-95bd01fb-149a-4e6f-bb30-1d7219900607 button.colab-df-convert');\n",
              "      buttonEl.style.display =\n",
              "        google.colab.kernel.accessAllowed ? 'block' : 'none';\n",
              "\n",
              "      async function convertToInteractive(key) {\n",
              "        const element = document.querySelector('#df-95bd01fb-149a-4e6f-bb30-1d7219900607');\n",
              "        const dataTable =\n",
              "          await google.colab.kernel.invokeFunction('convertToInteractive',\n",
              "                                                    [key], {});\n",
              "        if (!dataTable) return;\n",
              "\n",
              "        const docLinkHtml = 'Like what you see? Visit the ' +\n",
              "          '<a target=\"_blank\" href=https://colab.research.google.com/notebooks/data_table.ipynb>data table notebook</a>'\n",
              "          + ' to learn more about interactive tables.';\n",
              "        element.innerHTML = '';\n",
              "        dataTable['output_type'] = 'display_data';\n",
              "        await google.colab.output.renderOutput(dataTable, element);\n",
              "        const docLink = document.createElement('div');\n",
              "        docLink.innerHTML = docLinkHtml;\n",
              "        element.appendChild(docLink);\n",
              "      }\n",
              "    </script>\n",
              "  </div>\n",
              "\n",
              "\n",
              "    <div id=\"df-b91e6d70-f2da-460d-82ab-702e6d86291e\">\n",
              "      <button class=\"colab-df-quickchart\" onclick=\"quickchart('df-b91e6d70-f2da-460d-82ab-702e6d86291e')\"\n",
              "                title=\"Suggest charts\"\n",
              "                style=\"display:none;\">\n",
              "\n",
              "<svg xmlns=\"http://www.w3.org/2000/svg\" height=\"24px\"viewBox=\"0 0 24 24\"\n",
              "     width=\"24px\">\n",
              "    <g>\n",
              "        <path d=\"M19 3H5c-1.1 0-2 .9-2 2v14c0 1.1.9 2 2 2h14c1.1 0 2-.9 2-2V5c0-1.1-.9-2-2-2zM9 17H7v-7h2v7zm4 0h-2V7h2v10zm4 0h-2v-4h2v4z\"/>\n",
              "    </g>\n",
              "</svg>\n",
              "      </button>\n",
              "\n",
              "<style>\n",
              "  .colab-df-quickchart {\n",
              "      --bg-color: #E8F0FE;\n",
              "      --fill-color: #1967D2;\n",
              "      --hover-bg-color: #E2EBFA;\n",
              "      --hover-fill-color: #174EA6;\n",
              "      --disabled-fill-color: #AAA;\n",
              "      --disabled-bg-color: #DDD;\n",
              "  }\n",
              "\n",
              "  [theme=dark] .colab-df-quickchart {\n",
              "      --bg-color: #3B4455;\n",
              "      --fill-color: #D2E3FC;\n",
              "      --hover-bg-color: #434B5C;\n",
              "      --hover-fill-color: #FFFFFF;\n",
              "      --disabled-bg-color: #3B4455;\n",
              "      --disabled-fill-color: #666;\n",
              "  }\n",
              "\n",
              "  .colab-df-quickchart {\n",
              "    background-color: var(--bg-color);\n",
              "    border: none;\n",
              "    border-radius: 50%;\n",
              "    cursor: pointer;\n",
              "    display: none;\n",
              "    fill: var(--fill-color);\n",
              "    height: 32px;\n",
              "    padding: 0;\n",
              "    width: 32px;\n",
              "  }\n",
              "\n",
              "  .colab-df-quickchart:hover {\n",
              "    background-color: var(--hover-bg-color);\n",
              "    box-shadow: 0 1px 2px rgba(60, 64, 67, 0.3), 0 1px 3px 1px rgba(60, 64, 67, 0.15);\n",
              "    fill: var(--button-hover-fill-color);\n",
              "  }\n",
              "\n",
              "  .colab-df-quickchart-complete:disabled,\n",
              "  .colab-df-quickchart-complete:disabled:hover {\n",
              "    background-color: var(--disabled-bg-color);\n",
              "    fill: var(--disabled-fill-color);\n",
              "    box-shadow: none;\n",
              "  }\n",
              "\n",
              "  .colab-df-spinner {\n",
              "    border: 2px solid var(--fill-color);\n",
              "    border-color: transparent;\n",
              "    border-bottom-color: var(--fill-color);\n",
              "    animation:\n",
              "      spin 1s steps(1) infinite;\n",
              "  }\n",
              "\n",
              "  @keyframes spin {\n",
              "    0% {\n",
              "      border-color: transparent;\n",
              "      border-bottom-color: var(--fill-color);\n",
              "      border-left-color: var(--fill-color);\n",
              "    }\n",
              "    20% {\n",
              "      border-color: transparent;\n",
              "      border-left-color: var(--fill-color);\n",
              "      border-top-color: var(--fill-color);\n",
              "    }\n",
              "    30% {\n",
              "      border-color: transparent;\n",
              "      border-left-color: var(--fill-color);\n",
              "      border-top-color: var(--fill-color);\n",
              "      border-right-color: var(--fill-color);\n",
              "    }\n",
              "    40% {\n",
              "      border-color: transparent;\n",
              "      border-right-color: var(--fill-color);\n",
              "      border-top-color: var(--fill-color);\n",
              "    }\n",
              "    60% {\n",
              "      border-color: transparent;\n",
              "      border-right-color: var(--fill-color);\n",
              "    }\n",
              "    80% {\n",
              "      border-color: transparent;\n",
              "      border-right-color: var(--fill-color);\n",
              "      border-bottom-color: var(--fill-color);\n",
              "    }\n",
              "    90% {\n",
              "      border-color: transparent;\n",
              "      border-bottom-color: var(--fill-color);\n",
              "    }\n",
              "  }\n",
              "</style>\n",
              "\n",
              "      <script>\n",
              "        async function quickchart(key) {\n",
              "          const quickchartButtonEl =\n",
              "            document.querySelector('#' + key + ' button');\n",
              "          quickchartButtonEl.disabled = true;  // To prevent multiple clicks.\n",
              "          quickchartButtonEl.classList.add('colab-df-spinner');\n",
              "          try {\n",
              "            const charts = await google.colab.kernel.invokeFunction(\n",
              "                'suggestCharts', [key], {});\n",
              "          } catch (error) {\n",
              "            console.error('Error during call to suggestCharts:', error);\n",
              "          }\n",
              "          quickchartButtonEl.classList.remove('colab-df-spinner');\n",
              "          quickchartButtonEl.classList.add('colab-df-quickchart-complete');\n",
              "        }\n",
              "        (() => {\n",
              "          let quickchartButtonEl =\n",
              "            document.querySelector('#df-b91e6d70-f2da-460d-82ab-702e6d86291e button');\n",
              "          quickchartButtonEl.style.display =\n",
              "            google.colab.kernel.accessAllowed ? 'block' : 'none';\n",
              "        })();\n",
              "      </script>\n",
              "    </div>\n",
              "\n",
              "  <div id=\"id_c69b0edc-8f75-4111-96e2-d17403356905\">\n",
              "    <style>\n",
              "      .colab-df-generate {\n",
              "        background-color: #E8F0FE;\n",
              "        border: none;\n",
              "        border-radius: 50%;\n",
              "        cursor: pointer;\n",
              "        display: none;\n",
              "        fill: #1967D2;\n",
              "        height: 32px;\n",
              "        padding: 0 0 0 0;\n",
              "        width: 32px;\n",
              "      }\n",
              "\n",
              "      .colab-df-generate:hover {\n",
              "        background-color: #E2EBFA;\n",
              "        box-shadow: 0px 1px 2px rgba(60, 64, 67, 0.3), 0px 1px 3px 1px rgba(60, 64, 67, 0.15);\n",
              "        fill: #174EA6;\n",
              "      }\n",
              "\n",
              "      [theme=dark] .colab-df-generate {\n",
              "        background-color: #3B4455;\n",
              "        fill: #D2E3FC;\n",
              "      }\n",
              "\n",
              "      [theme=dark] .colab-df-generate:hover {\n",
              "        background-color: #434B5C;\n",
              "        box-shadow: 0px 1px 3px 1px rgba(0, 0, 0, 0.15);\n",
              "        filter: drop-shadow(0px 1px 2px rgba(0, 0, 0, 0.3));\n",
              "        fill: #FFFFFF;\n",
              "      }\n",
              "    </style>\n",
              "    <button class=\"colab-df-generate\" onclick=\"generateWithVariable('tabla_normal_estandarizada')\"\n",
              "            title=\"Generate code using this dataframe.\"\n",
              "            style=\"display:none;\">\n",
              "\n",
              "  <svg xmlns=\"http://www.w3.org/2000/svg\" height=\"24px\"viewBox=\"0 0 24 24\"\n",
              "       width=\"24px\">\n",
              "    <path d=\"M7,19H8.4L18.45,9,17,7.55,7,17.6ZM5,21V16.75L18.45,3.32a2,2,0,0,1,2.83,0l1.4,1.43a1.91,1.91,0,0,1,.58,1.4,1.91,1.91,0,0,1-.58,1.4L9.25,21ZM18.45,9,17,7.55Zm-12,3A5.31,5.31,0,0,0,4.9,8.1,5.31,5.31,0,0,0,1,6.5,5.31,5.31,0,0,0,4.9,4.9,5.31,5.31,0,0,0,6.5,1,5.31,5.31,0,0,0,8.1,4.9,5.31,5.31,0,0,0,12,6.5,5.46,5.46,0,0,0,6.5,12Z\"/>\n",
              "  </svg>\n",
              "    </button>\n",
              "    <script>\n",
              "      (() => {\n",
              "      const buttonEl =\n",
              "        document.querySelector('#id_c69b0edc-8f75-4111-96e2-d17403356905 button.colab-df-generate');\n",
              "      buttonEl.style.display =\n",
              "        google.colab.kernel.accessAllowed ? 'block' : 'none';\n",
              "\n",
              "      buttonEl.onclick = () => {\n",
              "        google.colab.notebook.generateWithVariable('tabla_normal_estandarizada');\n",
              "      }\n",
              "      })();\n",
              "    </script>\n",
              "  </div>\n",
              "\n",
              "    </div>\n",
              "  </div>\n"
            ],
            "application/vnd.google.colaboratory.intrinsic+json": {
              "type": "dataframe",
              "variable_name": "tabla_normal_estandarizada",
              "summary": "{\n  \"name\": \"tabla_normal_estandarizada\",\n  \"rows\": 40,\n  \"fields\": [\n    {\n      \"column\": \"0.00\",\n      \"properties\": {\n        \"dtype\": \"string\",\n        \"num_unique_values\": 38,\n        \"samples\": [\n          \"0.9995\",\n          \"0.9999\",\n          \"0.6554\"\n        ],\n        \"semantic_type\": \"\",\n        \"description\": \"\"\n      }\n    },\n    {\n      \"column\": \"0.01\",\n      \"properties\": {\n        \"dtype\": \"string\",\n        \"num_unique_values\": 38,\n        \"samples\": [\n          \"0.9995\",\n          \"0.9999\",\n          \"0.6591\"\n        ],\n        \"semantic_type\": \"\",\n        \"description\": \"\"\n      }\n    },\n    {\n      \"column\": \"0.02\",\n      \"properties\": {\n        \"dtype\": \"string\",\n        \"num_unique_values\": 38,\n        \"samples\": [\n          \"0.9995\",\n          \"0.9999\",\n          \"0.6628\"\n        ],\n        \"semantic_type\": \"\",\n        \"description\": \"\"\n      }\n    },\n    {\n      \"column\": \"0.03\",\n      \"properties\": {\n        \"dtype\": \"string\",\n        \"num_unique_values\": 38,\n        \"samples\": [\n          \"0.9996\",\n          \"0.9999\",\n          \"0.6664\"\n        ],\n        \"semantic_type\": \"\",\n        \"description\": \"\"\n      }\n    },\n    {\n      \"column\": \"0.04\",\n      \"properties\": {\n        \"dtype\": \"string\",\n        \"num_unique_values\": 38,\n        \"samples\": [\n          \"0.9996\",\n          \"0.9999\",\n          \"0.6700\"\n        ],\n        \"semantic_type\": \"\",\n        \"description\": \"\"\n      }\n    },\n    {\n      \"column\": \"0.05\",\n      \"properties\": {\n        \"dtype\": \"string\",\n        \"num_unique_values\": 38,\n        \"samples\": [\n          \"0.9996\",\n          \"0.9999\",\n          \"0.6736\"\n        ],\n        \"semantic_type\": \"\",\n        \"description\": \"\"\n      }\n    },\n    {\n      \"column\": \"0.06\",\n      \"properties\": {\n        \"dtype\": \"string\",\n        \"num_unique_values\": 38,\n        \"samples\": [\n          \"0.9996\",\n          \"0.9999\",\n          \"0.6772\"\n        ],\n        \"semantic_type\": \"\",\n        \"description\": \"\"\n      }\n    },\n    {\n      \"column\": \"0.07\",\n      \"properties\": {\n        \"dtype\": \"string\",\n        \"num_unique_values\": 38,\n        \"samples\": [\n          \"0.9996\",\n          \"0.9999\",\n          \"0.6808\"\n        ],\n        \"semantic_type\": \"\",\n        \"description\": \"\"\n      }\n    },\n    {\n      \"column\": \"0.08\",\n      \"properties\": {\n        \"dtype\": \"string\",\n        \"num_unique_values\": 38,\n        \"samples\": [\n          \"0.9996\",\n          \"0.9999\",\n          \"0.6844\"\n        ],\n        \"semantic_type\": \"\",\n        \"description\": \"\"\n      }\n    },\n    {\n      \"column\": \"0.09\",\n      \"properties\": {\n        \"dtype\": \"string\",\n        \"num_unique_values\": 37,\n        \"samples\": [\n          \"0.9633\",\n          \"0.9177\",\n          \"0.6879\"\n        ],\n        \"semantic_type\": \"\",\n        \"description\": \"\"\n      }\n    }\n  ]\n}"
            }
          },
          "metadata": {},
          "execution_count": 238
        }
      ]
    },
    {
      "cell_type": "markdown",
      "metadata": {
        "id": "XHYeMaN3G3D9"
      },
      "source": [
        "<img src='https://caelum-online-public.s3.amazonaws.com/ESP-1764-estadistica-con-python-probabilidad-y-muestreo/img003.png' width='250px'>\n",
        "\n",
        "La tabla anterior proporciona el área bajo la curva entre $-\\infty$ y $Z$ desviaciones estándar por encima de la media. Recordando que dado que estos son valores estandarizados, tenemos $\\mu = 0$."
      ]
    },
    {
      "cell_type": "markdown",
      "metadata": {
        "id": "Bs-KyZAJG3D-"
      },
      "source": [
        "## <font color='blue'>Ejemplo: ¿Cuánto mides?</font>"
      ]
    },
    {
      "cell_type": "markdown",
      "metadata": {
        "id": "8PFIjXejG3EA"
      },
      "source": [
        "En un estudio sobre la altura de los residentes de una ciudad, se encontró que el conjunto de datos sigue una **distribución aproximadamente normal**, con **media 1.70** y **desviación estándar de 0.1**. Con esta información, obtenga el siguiente conjunto de probabilidades:\n",
        "\n",
        "> **A.** probabilidad de que una persona, seleccionada al azar, mida menos que 1.80 metros.\n",
        "\n",
        "> **B.** probabilidad de que una persona, seleccionada al azar, mida entre 1.60 metros y 1.80 metros.\n",
        "\n",
        "> **C.** probabilidad de que una persona, seleccionada al azar, mida más de 1.90 metros."
      ]
    },
    {
      "cell_type": "markdown",
      "metadata": {
        "id": "aHpZLwt1G3EC"
      },
      "source": [
        "### Problema A - Identificación del área bajo la curva"
      ]
    },
    {
      "cell_type": "markdown",
      "metadata": {
        "id": "V1eC7tydG3EF"
      },
      "source": [
        "<img style='float: left' src='https://caelum-online-public.s3.amazonaws.com/ESP-1764-estadistica-con-python-probabilidad-y-muestreo/img004.png' width='350px'>\n"
      ]
    },
    {
      "cell_type": "markdown",
      "metadata": {
        "id": "X61wEuRrG3EI"
      },
      "source": [
        "### Obtener la variable estandarizada $Z$"
      ]
    },
    {
      "cell_type": "code",
      "metadata": {
        "id": "gNSNIMvZG3EK",
        "colab": {
          "base_uri": "https://localhost:8080/"
        },
        "outputId": "a312a3a0-2f4d-43e3-e86c-72e14aa8b644"
      },
      "source": [
        "media = 1.70\n",
        "media"
      ],
      "execution_count": 239,
      "outputs": [
        {
          "output_type": "execute_result",
          "data": {
            "text/plain": [
              "1.7"
            ]
          },
          "metadata": {},
          "execution_count": 239
        }
      ]
    },
    {
      "cell_type": "code",
      "metadata": {
        "id": "E_f2lycRG3ES",
        "colab": {
          "base_uri": "https://localhost:8080/"
        },
        "outputId": "d8300582-3f3d-4a28-f395-3ff22e87d255"
      },
      "source": [
        "desviacion_estandar = 0.1\n",
        "desviacion_estandar"
      ],
      "execution_count": 240,
      "outputs": [
        {
          "output_type": "execute_result",
          "data": {
            "text/plain": [
              "0.1"
            ]
          },
          "metadata": {},
          "execution_count": 240
        }
      ]
    },
    {
      "cell_type": "code",
      "metadata": {
        "id": "xnsCkUb6G3EX",
        "colab": {
          "base_uri": "https://localhost:8080/"
        },
        "outputId": "03026e2c-a045-46e7-8706-a4cfdac0614d"
      },
      "source": [
        "Z = (1.8 - media) / desviacion_estandar\n",
        "Z"
      ],
      "execution_count": 241,
      "outputs": [
        {
          "output_type": "execute_result",
          "data": {
            "text/plain": [
              "1.0000000000000009"
            ]
          },
          "metadata": {},
          "execution_count": 241
        }
      ]
    },
    {
      "cell_type": "markdown",
      "metadata": {
        "id": "oj9sgHbkG3Eb"
      },
      "source": [
        "### Solución 1 - Utilizando la tabla"
      ]
    },
    {
      "cell_type": "code",
      "metadata": {
        "id": "ReDTH3WgG3Ec",
        "colab": {
          "base_uri": "https://localhost:8080/"
        },
        "outputId": "505be178-0bab-4d68-83d2-9a34bb913abb"
      },
      "source": [
        "probabilidad = 0.8413\n",
        "probabilidad"
      ],
      "execution_count": 242,
      "outputs": [
        {
          "output_type": "execute_result",
          "data": {
            "text/plain": [
              "0.8413"
            ]
          },
          "metadata": {},
          "execution_count": 242
        }
      ]
    },
    {
      "cell_type": "markdown",
      "metadata": {
        "id": "4ud0OnQOG3Eh"
      },
      "source": [
        "### Solución 2 - Utilizando Scipy"
      ]
    },
    {
      "cell_type": "code",
      "metadata": {
        "id": "sx7riZVlG3Ei",
        "colab": {
          "base_uri": "https://localhost:8080/"
        },
        "outputId": "19fa4531-d822-42e3-c55a-99dfe9427849"
      },
      "source": [
        "from scipy.stats import norm\n",
        "norm.cdf(Z)\n"
      ],
      "execution_count": 243,
      "outputs": [
        {
          "output_type": "execute_result",
          "data": {
            "text/plain": [
              "np.float64(0.8413447460685431)"
            ]
          },
          "metadata": {},
          "execution_count": 243
        }
      ]
    },
    {
      "cell_type": "markdown",
      "metadata": {
        "id": "ZsnMjGzJG3Ep"
      },
      "source": [
        "### Problema B - Identificación del área bajo la curva"
      ]
    },
    {
      "cell_type": "markdown",
      "metadata": {
        "id": "LN2HY-UCG3Ep"
      },
      "source": [
        "<img style='float: left' src='https://caelum-online-public.s3.amazonaws.com/ESP-1764-estadistica-con-python-probabilidad-y-muestreo/img005.png' width='350px'>"
      ]
    },
    {
      "cell_type": "markdown",
      "metadata": {
        "id": "FS6WNg88G3Eq"
      },
      "source": [
        "### Obtener la variable estandarizada $Z$"
      ]
    },
    {
      "cell_type": "code",
      "metadata": {
        "id": "mxPsPIOYG3Er",
        "colab": {
          "base_uri": "https://localhost:8080/"
        },
        "outputId": "962bff4f-5a07-4472-d58b-3b2c7a4aa8a8"
      },
      "source": [
        "Z = (1.7 - media) / desviacion_estandar\n",
        "Z"
      ],
      "execution_count": 244,
      "outputs": [
        {
          "output_type": "execute_result",
          "data": {
            "text/plain": [
              "0.0"
            ]
          },
          "metadata": {},
          "execution_count": 244
        }
      ]
    },
    {
      "cell_type": "code",
      "metadata": {
        "id": "s0Vf0GXHG3Et",
        "colab": {
          "base_uri": "https://localhost:8080/"
        },
        "outputId": "31ef957d-8eb0-44c7-ec53-d3dfa5ca358f"
      },
      "source": [
        "Z = (1.8 - media) / desviacion_estandar\n",
        "Z"
      ],
      "execution_count": 245,
      "outputs": [
        {
          "output_type": "execute_result",
          "data": {
            "text/plain": [
              "1.0000000000000009"
            ]
          },
          "metadata": {},
          "execution_count": 245
        }
      ]
    },
    {
      "cell_type": "markdown",
      "metadata": {
        "id": "MseXjmZ7G3E0"
      },
      "source": [
        "### Solución 1 - Utilizando la tabla"
      ]
    },
    {
      "cell_type": "code",
      "metadata": {
        "id": "swZ6SVQGG3E0",
        "colab": {
          "base_uri": "https://localhost:8080/"
        },
        "outputId": "1396ad0a-cf0d-4331-8e9c-53959e79c8a6"
      },
      "source": [
        "probabilidad = 0.8413\n",
        "probabilidad"
      ],
      "execution_count": 246,
      "outputs": [
        {
          "output_type": "execute_result",
          "data": {
            "text/plain": [
              "0.8413"
            ]
          },
          "metadata": {},
          "execution_count": 246
        }
      ]
    },
    {
      "cell_type": "code",
      "metadata": {
        "id": "oNfZZRBdGy2G",
        "colab": {
          "base_uri": "https://localhost:8080/"
        },
        "outputId": "de26248f-1621-4158-bc9f-be0f529973bf"
      },
      "source": [
        "probabilidad = (0.8413 - 0.5) * 2\n",
        "probabilidad"
      ],
      "execution_count": 247,
      "outputs": [
        {
          "output_type": "execute_result",
          "data": {
            "text/plain": [
              "0.6826000000000001"
            ]
          },
          "metadata": {},
          "execution_count": 247
        }
      ]
    },
    {
      "cell_type": "markdown",
      "metadata": {
        "id": "y5e4zAifG3E2"
      },
      "source": [
        "### Solución 2 - Utilizando Scipy"
      ]
    },
    {
      "cell_type": "code",
      "metadata": {
        "id": "hcps6lkNG3E3",
        "colab": {
          "base_uri": "https://localhost:8080/"
        },
        "outputId": "e282787e-65e6-4fa1-908f-8971589b7d47"
      },
      "source": [
        "Z_superior = (1.8 - media) / desviacion_estandar\n",
        "Z_superior"
      ],
      "execution_count": 248,
      "outputs": [
        {
          "output_type": "execute_result",
          "data": {
            "text/plain": [
              "1.0000000000000009"
            ]
          },
          "metadata": {},
          "execution_count": 248
        }
      ]
    },
    {
      "cell_type": "code",
      "metadata": {
        "colab": {
          "base_uri": "https://localhost:8080/"
        },
        "id": "-M8cV3obHXms",
        "outputId": "b00b3fe9-1ae3-40c6-a534-6aecaceda9f3"
      },
      "source": [
        "Z_inferior = (1.6 - media) / desviacion_estandar\n",
        "Z_inferior"
      ],
      "execution_count": 249,
      "outputs": [
        {
          "output_type": "execute_result",
          "data": {
            "text/plain": [
              "-0.9999999999999987"
            ]
          },
          "metadata": {},
          "execution_count": 249
        }
      ]
    },
    {
      "cell_type": "code",
      "metadata": {
        "id": "MjEfhnQEG3E5",
        "colab": {
          "base_uri": "https://localhost:8080/"
        },
        "outputId": "06011bfa-ebab-4a8e-aac0-9fe3694f5900"
      },
      "source": [
        "probabilidad = norm.cdf(Z_superior) - (1 - norm.cdf(Z_superior))\n",
        "probabilidad"
      ],
      "execution_count": 250,
      "outputs": [
        {
          "output_type": "execute_result",
          "data": {
            "text/plain": [
              "np.float64(0.6826894921370863)"
            ]
          },
          "metadata": {},
          "execution_count": 250
        }
      ]
    },
    {
      "cell_type": "code",
      "metadata": {
        "colab": {
          "base_uri": "https://localhost:8080/"
        },
        "id": "7s-vsDffHgoa",
        "outputId": "e6d16e97-0a01-4aed-fd27-36aa75539f89"
      },
      "source": [
        "probabilidad = norm.cdf(Z_superior) - norm.cdf(Z_inferior)\n",
        "probabilidad"
      ],
      "execution_count": 251,
      "outputs": [
        {
          "output_type": "execute_result",
          "data": {
            "text/plain": [
              "np.float64(0.6826894921370857)"
            ]
          },
          "metadata": {},
          "execution_count": 251
        }
      ]
    },
    {
      "cell_type": "markdown",
      "metadata": {
        "id": "05sqVgdaG3E-"
      },
      "source": [
        "### Problema C - Identificación del área bajo la curva"
      ]
    },
    {
      "cell_type": "markdown",
      "metadata": {
        "id": "EPKhGTEkG3E_"
      },
      "source": [
        "<img style='float: left' src='https://caelum-online-public.s3.amazonaws.com/ESP-1764-estadistica-con-python-probabilidad-y-muestreo/img006.png' width='350px'>"
      ]
    },
    {
      "cell_type": "markdown",
      "metadata": {
        "id": "BA6jYbsSG3E_"
      },
      "source": [
        "### Obtener la variable estandarizada $Z$"
      ]
    },
    {
      "cell_type": "code",
      "metadata": {
        "id": "3OVj60MzG3E_",
        "colab": {
          "base_uri": "https://localhost:8080/"
        },
        "outputId": "6ccfd4a6-5974-459a-cb0c-952ff1c3b05e"
      },
      "source": [
        "Z = (1.9 - media) / desviacion_estandar\n",
        "Z"
      ],
      "execution_count": 252,
      "outputs": [
        {
          "output_type": "execute_result",
          "data": {
            "text/plain": [
              "1.9999999999999996"
            ]
          },
          "metadata": {},
          "execution_count": 252
        }
      ]
    },
    {
      "cell_type": "markdown",
      "metadata": {
        "id": "hCiiWAm_G3FC"
      },
      "source": [
        "### Solución 1 - Utilizando la tabla"
      ]
    },
    {
      "cell_type": "code",
      "metadata": {
        "id": "mSNfoO6VG3FC",
        "colab": {
          "base_uri": "https://localhost:8080/"
        },
        "outputId": "0013fe68-745f-4501-912c-5b2aa9fc2b96"
      },
      "source": [
        "probabilidad = 1 - 0.9772\n",
        "probabilidad"
      ],
      "execution_count": 253,
      "outputs": [
        {
          "output_type": "execute_result",
          "data": {
            "text/plain": [
              "0.022800000000000042"
            ]
          },
          "metadata": {},
          "execution_count": 253
        }
      ]
    },
    {
      "cell_type": "markdown",
      "metadata": {
        "id": "QCyoVXOdG3FF"
      },
      "source": [
        "### Solución 2 - Utilizando Scipy"
      ]
    },
    {
      "cell_type": "code",
      "metadata": {
        "id": "caIE-t83G3FF",
        "colab": {
          "base_uri": "https://localhost:8080/"
        },
        "outputId": "9fd33267-4f8c-4137-d614-75f049d647d4"
      },
      "source": [
        "probabilidad = norm.cdf(-Z)\n",
        "probabilidad"
      ],
      "execution_count": 254,
      "outputs": [
        {
          "output_type": "execute_result",
          "data": {
            "text/plain": [
              "np.float64(0.022750131948179216)"
            ]
          },
          "metadata": {},
          "execution_count": 254
        }
      ]
    },
    {
      "cell_type": "markdown",
      "metadata": {
        "id": "GmmzChE2t4wW"
      },
      "source": [
        "# <font color=green>3 MUESTREO</font>\n",
        "***"
      ]
    },
    {
      "cell_type": "markdown",
      "metadata": {
        "id": "g8PbtmQZt4Wv"
      },
      "source": [
        "## <font color=green>3.1 Población y Muestra</font>\n",
        "***"
      ]
    },
    {
      "cell_type": "markdown",
      "metadata": {
        "id": "sedD5gB9G3FV"
      },
      "source": [
        "### Población\n",
        "Conjunto de todos los elementos de interés de un estudio. Varios elementos pueden componer una población, por ejemplo: personas, edades, alturas, automóviles, etc.\n",
        "\n",
        "En cuanto al tamaño, las poblaciones pueden ser limitadas (poblaciones finitas) o ilimitadas (poblaciones infinitas)."
      ]
    },
    {
      "cell_type": "markdown",
      "metadata": {
        "id": "XBFhAWNcG3FW"
      },
      "source": [
        "### Poblaciones finitas\n",
        "\n",
        "Permiten el recuento de sus elementos. Los ejemplos incluyen el número de empleados en una empresa, el número de estudiantes en una escuela, etc."
      ]
    },
    {
      "cell_type": "markdown",
      "metadata": {
        "id": "YT8V2GB1G3FW"
      },
      "source": [
        "### Poblaciones infinitas\n",
        "\n",
        "No es posible contar sus elementos. Como ejemplos tenemos el número de porciones que se pueden extraer del agua del mar para su análisis, la temperatura medida en cada punto de un territorio, etc.\n",
        "\n",
        "<font color=red>Cuando se pueden contar los elementos de una población, pero presentando una cantidad muy grande, se supone que la población es infinita.</font>"
      ]
    },
    {
      "cell_type": "markdown",
      "metadata": {
        "id": "a-WtAXv1G3FX"
      },
      "source": [
        "### Muestra\n",
        "Subconjunto representativo de la población."
      ]
    },
    {
      "cell_type": "markdown",
      "metadata": {
        "id": "QWnDYpPSG3FX"
      },
      "source": [
        "Los atributos numéricos de una población, como su media, varianza y desviación estándar, se conocen como **parámetros**. El enfoque principal de la inferencia estadística es precisamente generar estimaciones y probar hipótesis sobre parámetros poblacionales utilizando información de la muestra."
      ]
    },
    {
      "cell_type": "markdown",
      "metadata": {
        "id": "dDz6vFbDG3FZ"
      },
      "source": [
        "## <font color=green>3.2 ¿Cuándo utilizar una muestra?</font>\n",
        "***"
      ]
    },
    {
      "cell_type": "markdown",
      "metadata": {
        "id": "5X1YwCGlG3Fe"
      },
      "source": [
        "### Poblaciones infinitas\n",
        "\n",
        "El estudio nunca llegaría a su fin. No es posible investigar todos los elementos de la población."
      ]
    },
    {
      "cell_type": "markdown",
      "metadata": {
        "id": "jHLtG8HSG3Ff"
      },
      "source": [
        "### Pruebas destructivas\n",
        "\n",
        "Estudios donde los elementos evaluados son totalmente consumidos o destruidos. Ejemplo: pruebas de vida útil, pruebas de seguridad en accidentes de tráfico."
      ]
    },
    {
      "cell_type": "markdown",
      "metadata": {
        "id": "lxYxepmdG3Ff"
      },
      "source": [
        "### Resultados rápidos\n",
        "\n",
        "Investigaciones que necesitan más agilidad en la difusión. Ejemplo: encuestas de opinión, encuestas sobre problemas de salud pública."
      ]
    },
    {
      "cell_type": "markdown",
      "metadata": {
        "id": "PeUCGL5nG3Fj"
      },
      "source": [
        "### Precios altos\n",
        "\n",
        "Cuando la población es finita pero muy grande, el costo de un censo puede hacer inviable el proceso."
      ]
    },
    {
      "cell_type": "markdown",
      "metadata": {
        "id": "1sbJeMpSG3Fj"
      },
      "source": [
        "## <font color=green>3.3 Muestreo Aleatorio Simple</font>\n",
        "***"
      ]
    },
    {
      "cell_type": "markdown",
      "metadata": {
        "id": "Kiq9cYMYG3Fp"
      },
      "source": [
        "Es una de las principales formas de extraer una muestra de una población. El requisito fundamental de este tipo de enfoque es que cada elemento de la población tenga las mismas posibilidades de ser seleccionado para formar parte de la muestra."
      ]
    },
    {
      "cell_type": "code",
      "metadata": {
        "id": "NtQ8HOYdG3Fq",
        "colab": {
          "base_uri": "https://localhost:8080/"
        },
        "outputId": "8352647c-0bad-4a78-e688-dd4c16bce612"
      },
      "source": [
        "datos.shape[0]"
      ],
      "execution_count": 255,
      "outputs": [
        {
          "output_type": "execute_result",
          "data": {
            "text/plain": [
              "76840"
            ]
          },
          "metadata": {},
          "execution_count": 255
        }
      ]
    },
    {
      "cell_type": "code",
      "metadata": {
        "id": "DsXJHWhMG3Fs",
        "colab": {
          "base_uri": "https://localhost:8080/"
        },
        "outputId": "c04f3f40-a727-41f0-d3e3-c9fbd7c34b18"
      },
      "source": [
        "datos.Ingreso.mean()"
      ],
      "execution_count": 256,
      "outputs": [
        {
          "output_type": "execute_result",
          "data": {
            "text/plain": [
              "np.float64(2000.3831988547631)"
            ]
          },
          "metadata": {},
          "execution_count": 256
        }
      ]
    },
    {
      "cell_type": "code",
      "metadata": {
        "id": "k7yJucVMG3Fw"
      },
      "source": [
        "muestra = datos.sample(n = 1000, random_state = 101)"
      ],
      "execution_count": 257,
      "outputs": []
    },
    {
      "cell_type": "code",
      "metadata": {
        "id": "wUyXS65sG3F2",
        "colab": {
          "base_uri": "https://localhost:8080/"
        },
        "outputId": "459c6cb2-b31a-4e6d-c989-78de01d43014"
      },
      "source": [
        "muestra.shape[0]"
      ],
      "execution_count": 258,
      "outputs": [
        {
          "output_type": "execute_result",
          "data": {
            "text/plain": [
              "1000"
            ]
          },
          "metadata": {},
          "execution_count": 258
        }
      ]
    },
    {
      "cell_type": "code",
      "metadata": {
        "id": "y0J4UtOwG3F5",
        "colab": {
          "base_uri": "https://localhost:8080/"
        },
        "outputId": "5b7f2447-a89a-4f78-f04f-bb3f4fb8e13c"
      },
      "source": [
        "muestra.Ingreso.mean()"
      ],
      "execution_count": 259,
      "outputs": [
        {
          "output_type": "execute_result",
          "data": {
            "text/plain": [
              "np.float64(1998.783)"
            ]
          },
          "metadata": {},
          "execution_count": 259
        }
      ]
    },
    {
      "cell_type": "code",
      "metadata": {
        "id": "WGZT_wnjSgPy",
        "colab": {
          "base_uri": "https://localhost:8080/",
          "height": 178
        },
        "outputId": "3693519c-171b-42f4-d801-a1749608ca34"
      },
      "source": [
        "datos.Sexo.value_counts(normalize=True)"
      ],
      "execution_count": 260,
      "outputs": [
        {
          "output_type": "execute_result",
          "data": {
            "text/plain": [
              "Sexo\n",
              "0    0.692998\n",
              "1    0.307002\n",
              "Name: proportion, dtype: float64"
            ],
            "text/html": [
              "<div>\n",
              "<style scoped>\n",
              "    .dataframe tbody tr th:only-of-type {\n",
              "        vertical-align: middle;\n",
              "    }\n",
              "\n",
              "    .dataframe tbody tr th {\n",
              "        vertical-align: top;\n",
              "    }\n",
              "\n",
              "    .dataframe thead th {\n",
              "        text-align: right;\n",
              "    }\n",
              "</style>\n",
              "<table border=\"1\" class=\"dataframe\">\n",
              "  <thead>\n",
              "    <tr style=\"text-align: right;\">\n",
              "      <th></th>\n",
              "      <th>proportion</th>\n",
              "    </tr>\n",
              "    <tr>\n",
              "      <th>Sexo</th>\n",
              "      <th></th>\n",
              "    </tr>\n",
              "  </thead>\n",
              "  <tbody>\n",
              "    <tr>\n",
              "      <th>0</th>\n",
              "      <td>0.692998</td>\n",
              "    </tr>\n",
              "    <tr>\n",
              "      <th>1</th>\n",
              "      <td>0.307002</td>\n",
              "    </tr>\n",
              "  </tbody>\n",
              "</table>\n",
              "</div><br><label><b>dtype:</b> float64</label>"
            ]
          },
          "metadata": {},
          "execution_count": 260
        }
      ]
    },
    {
      "cell_type": "code",
      "metadata": {
        "id": "1la3Y_reSgEM",
        "colab": {
          "base_uri": "https://localhost:8080/",
          "height": 178
        },
        "outputId": "eda6580d-2d81-46a1-f8c2-9a605fd5eb38"
      },
      "source": [
        "muestra.Sexo.value_counts(normalize=True)"
      ],
      "execution_count": 261,
      "outputs": [
        {
          "output_type": "execute_result",
          "data": {
            "text/plain": [
              "Sexo\n",
              "0    0.706\n",
              "1    0.294\n",
              "Name: proportion, dtype: float64"
            ],
            "text/html": [
              "<div>\n",
              "<style scoped>\n",
              "    .dataframe tbody tr th:only-of-type {\n",
              "        vertical-align: middle;\n",
              "    }\n",
              "\n",
              "    .dataframe tbody tr th {\n",
              "        vertical-align: top;\n",
              "    }\n",
              "\n",
              "    .dataframe thead th {\n",
              "        text-align: right;\n",
              "    }\n",
              "</style>\n",
              "<table border=\"1\" class=\"dataframe\">\n",
              "  <thead>\n",
              "    <tr style=\"text-align: right;\">\n",
              "      <th></th>\n",
              "      <th>proportion</th>\n",
              "    </tr>\n",
              "    <tr>\n",
              "      <th>Sexo</th>\n",
              "      <th></th>\n",
              "    </tr>\n",
              "  </thead>\n",
              "  <tbody>\n",
              "    <tr>\n",
              "      <th>0</th>\n",
              "      <td>0.706</td>\n",
              "    </tr>\n",
              "    <tr>\n",
              "      <th>1</th>\n",
              "      <td>0.294</td>\n",
              "    </tr>\n",
              "  </tbody>\n",
              "</table>\n",
              "</div><br><label><b>dtype:</b> float64</label>"
            ]
          },
          "metadata": {},
          "execution_count": 261
        }
      ]
    },
    {
      "cell_type": "markdown",
      "metadata": {
        "id": "stcKhnJBG3F7"
      },
      "source": [
        "## <font color=green>3.4 Muestreo Estratificado</font>\n",
        "***"
      ]
    },
    {
      "cell_type": "markdown",
      "metadata": {
        "id": "W1uEZMRIG3GA"
      },
      "source": [
        "Es una mejora del proceso de muestreo aleatorio simple. En este método, se propone dividir la población en subgrupos de elementos con características similares, es decir, grupos más homogéneos. Con estos subgrupos separados, la técnica de muestreo aleatorio simple dentro de cada subgrupo se aplica individualmente."
      ]
    },
    {
      "cell_type": "markdown",
      "metadata": {
        "id": "xRjUHDAbG3GB"
      },
      "source": [
        "## <font color=green>3.5 Muestreo por Conglomerados</font>\n",
        "***"
      ]
    },
    {
      "cell_type": "markdown",
      "metadata": {
        "id": "sW9IuaL9G3GH"
      },
      "source": [
        "También tiene como objetivo mejorar el criterio de muestreo aleatorio simple. En el muestreo por conglomerados también se crean subgrupos, pero no serán homogéneos como en el muestreo estratificado. En el muestreo por conglomerados los subgrupos serán heterogéneos, donde luego se aplicará un muestreo aleatorio simple o estratificado.\n",
        "\n",
        "Un ejemplo muy común de la aplicación de este tipo de técnica es la división de la población en grupos territoriales, donde los elementos investigados tendrán características bastante variadas."
      ]
    },
    {
      "cell_type": "markdown",
      "metadata": {
        "id": "2LNJT4FEuzO4"
      },
      "source": [
        "# <font color=green>4 ESTIMACIÓN</font>\n",
        "***"
      ]
    },
    {
      "cell_type": "markdown",
      "metadata": {
        "id": "z69W2sVGmybS"
      },
      "source": [
        "## <font color='red'>Problema </font>"
      ]
    },
    {
      "cell_type": "markdown",
      "metadata": {
        "id": "ytP6VpismwDY"
      },
      "source": [
        "Suponga que los pesos de las bolsas de arroz de una industria alimentaria se distribuyen aproximadamente como una distribución normal **desviación estándar igual a 150 g**. Se seleccionó una **muestra aleatoria de 20 bolsas** de un lote específico, se obtuvo un **peso promedio de 5.050 g**. Construya un **intervalo de confianza para la media de la población** asumiendo un **nivel de significancia del 5%**."
      ]
    },
    {
      "cell_type": "markdown",
      "metadata": {
        "id": "PCqEvJMOwvUf"
      },
      "source": [
        "---"
      ]
    },
    {
      "cell_type": "markdown",
      "metadata": {
        "id": "HU578SXBG3GN"
      },
      "source": [
        "Es la forma de hacer suposiciones generalizadas sobre los parámetros de una población a partir de información de una muestra.\n",
        "\n",
        "- **Los parámetros** son los atributos numéricos de una población, como la media, la desviación estándar, etc.\n",
        "\n",
        "- **Estimación** es el valor obtenido para un parámetro dado a partir de los datos de una muestra de la población."
      ]
    },
    {
      "cell_type": "markdown",
      "metadata": {
        "id": "klWVkoUDG3GR"
      },
      "source": [
        "## <font color=green>4.1 Teorema central del límite</font>\n",
        "***"
      ]
    },
    {
      "cell_type": "markdown",
      "metadata": {
        "id": "QpgTvbISG3GU"
      },
      "source": [
        "> El **Teorema Central del Límite** establece que, con el aumento del tamaño de la muestra, la distribución de las medias muestrales se aproxima a una distribución normal con media igual a la media de la población y una desviación estándar igual a la desviación estándar de la variable original dividida por la raíz cuadrada del tamaño de la muestra. Este hecho está asegurado para $n$ mayores o iguales a 30."
      ]
    },
    {
      "cell_type": "markdown",
      "metadata": {
        "id": "ZIAr6is3wEMp"
      },
      "source": [
        "# $$\\sigma_\\bar{x} = \\frac{\\sigma}{\\sqrt{n}}$$\n",
        "\n",
        "La desviación estándar de las medias muestrales se conoce como **error estándar de la media**"
      ]
    },
    {
      "cell_type": "markdown",
      "metadata": {
        "id": "eFtSo6H0iz7z"
      },
      "source": [
        "### Entendiendo el Teorema Central del Límite"
      ]
    },
    {
      "cell_type": "code",
      "metadata": {
        "id": "S3q73XpnizTi"
      },
      "source": [
        "# Tamaño de cada muestra\n",
        "n = 2000\n",
        "\n",
        "# Cantidad de muestras a generar\n",
        "total_de_muestras = 1500"
      ],
      "execution_count": 262,
      "outputs": []
    },
    {
      "cell_type": "code",
      "metadata": {
        "id": "uXZvARZ0izQp"
      },
      "source": [
        "# Generamos una lista de Series, cada una con una muestra aleatoria de tamaño 2000\n",
        "lista_muestras = [\n",
        "    datos.Edad.sample(n, replace=True).reset_index(drop=True)\n",
        "    for _ in range(total_de_muestras)\n",
        "]"
      ],
      "execution_count": 263,
      "outputs": []
    },
    {
      "cell_type": "code",
      "metadata": {
        "id": "tXa7XKhKTyMu",
        "scrolled": true,
        "colab": {
          "base_uri": "https://localhost:8080/",
          "height": 443
        },
        "outputId": "f0e2a978-750a-4772-8d05-82f621a8cabc"
      },
      "source": [
        "\"\"\"\n",
        "for i in range(total_de_muestras):\n",
        "  _ = datos.Edad.sample(n)\n",
        "  _.index = range(0, len(_))\n",
        "  muestras['Muestra_' + str(i)] = _\n",
        "\n",
        "muestras\n",
        "\"\"\"\n",
        "# Unimos todas las Series como columnas en un solo DataFrame\n",
        "muestras = pd.concat(lista_muestras, axis=1)\n",
        "\n",
        "# Renombramos las columnas: Muestra_0, Muestra_1, ..., Muestra_1499\n",
        "muestras.columns = [f'Muestra_{i}' for i in range(total_de_muestras)]\n",
        "\n",
        "muestras"
      ],
      "execution_count": 264,
      "outputs": [
        {
          "output_type": "execute_result",
          "data": {
            "text/plain": [
              "      Muestra_0  Muestra_1  Muestra_2  Muestra_3  Muestra_4  Muestra_5  \\\n",
              "0            36         68         21         32         30         33   \n",
              "1            52         62         27         38         33         51   \n",
              "2            30         31         62         58         33         46   \n",
              "3            60         71         54         44         50         40   \n",
              "4            48         51         42         38         31         48   \n",
              "...         ...        ...        ...        ...        ...        ...   \n",
              "1995         37         34         26         60         36         46   \n",
              "1996         34         34         32         24         44         38   \n",
              "1997         63         28         53         50         23         53   \n",
              "1998         42         43         34         47         43         37   \n",
              "1999         66         44         75         40         54         30   \n",
              "\n",
              "      Muestra_6  Muestra_7  Muestra_8  Muestra_9  ...  Muestra_1490  \\\n",
              "0            60         36         52         30  ...            38   \n",
              "1            33         33         36         25  ...            59   \n",
              "2            33         29         36         34  ...            35   \n",
              "3            47         57         24         66  ...            22   \n",
              "4            39         45         42         40  ...            36   \n",
              "...         ...        ...        ...        ...  ...           ...   \n",
              "1995         30         55         66         52  ...            29   \n",
              "1996         60         60         52         66  ...            28   \n",
              "1997         38         53         48         37  ...            56   \n",
              "1998         47         67         21         28  ...            59   \n",
              "1999         43         49         33         34  ...            37   \n",
              "\n",
              "      Muestra_1491  Muestra_1492  Muestra_1493  Muestra_1494  Muestra_1495  \\\n",
              "0               40            43            39            20            52   \n",
              "1               40            56            29            31            39   \n",
              "2               36            46            49            66            57   \n",
              "3               36            59            50            48            41   \n",
              "4               39            33            63            50            44   \n",
              "...            ...           ...           ...           ...           ...   \n",
              "1995            59            65            52            26            50   \n",
              "1996            44            39            69            36            36   \n",
              "1997            52            71            36            36            56   \n",
              "1998            52            66            64            38            53   \n",
              "1999            26            43            22            52            55   \n",
              "\n",
              "      Muestra_1496  Muestra_1497  Muestra_1498  Muestra_1499  \n",
              "0               39            45            50            36  \n",
              "1               38            30            43            51  \n",
              "2               42            30            32            33  \n",
              "3               50            37            31            58  \n",
              "4               76            33            59            39  \n",
              "...            ...           ...           ...           ...  \n",
              "1995            55            30            38            53  \n",
              "1996            43            55            40            25  \n",
              "1997            26            45            35            47  \n",
              "1998            42            39            34            33  \n",
              "1999            55            32            27            39  \n",
              "\n",
              "[2000 rows x 1500 columns]"
            ],
            "text/html": [
              "\n",
              "  <div id=\"df-3eaf2173-e959-469a-a000-048490da119c\" class=\"colab-df-container\">\n",
              "    <div>\n",
              "<style scoped>\n",
              "    .dataframe tbody tr th:only-of-type {\n",
              "        vertical-align: middle;\n",
              "    }\n",
              "\n",
              "    .dataframe tbody tr th {\n",
              "        vertical-align: top;\n",
              "    }\n",
              "\n",
              "    .dataframe thead th {\n",
              "        text-align: right;\n",
              "    }\n",
              "</style>\n",
              "<table border=\"1\" class=\"dataframe\">\n",
              "  <thead>\n",
              "    <tr style=\"text-align: right;\">\n",
              "      <th></th>\n",
              "      <th>Muestra_0</th>\n",
              "      <th>Muestra_1</th>\n",
              "      <th>Muestra_2</th>\n",
              "      <th>Muestra_3</th>\n",
              "      <th>Muestra_4</th>\n",
              "      <th>Muestra_5</th>\n",
              "      <th>Muestra_6</th>\n",
              "      <th>Muestra_7</th>\n",
              "      <th>Muestra_8</th>\n",
              "      <th>Muestra_9</th>\n",
              "      <th>...</th>\n",
              "      <th>Muestra_1490</th>\n",
              "      <th>Muestra_1491</th>\n",
              "      <th>Muestra_1492</th>\n",
              "      <th>Muestra_1493</th>\n",
              "      <th>Muestra_1494</th>\n",
              "      <th>Muestra_1495</th>\n",
              "      <th>Muestra_1496</th>\n",
              "      <th>Muestra_1497</th>\n",
              "      <th>Muestra_1498</th>\n",
              "      <th>Muestra_1499</th>\n",
              "    </tr>\n",
              "  </thead>\n",
              "  <tbody>\n",
              "    <tr>\n",
              "      <th>0</th>\n",
              "      <td>36</td>\n",
              "      <td>68</td>\n",
              "      <td>21</td>\n",
              "      <td>32</td>\n",
              "      <td>30</td>\n",
              "      <td>33</td>\n",
              "      <td>60</td>\n",
              "      <td>36</td>\n",
              "      <td>52</td>\n",
              "      <td>30</td>\n",
              "      <td>...</td>\n",
              "      <td>38</td>\n",
              "      <td>40</td>\n",
              "      <td>43</td>\n",
              "      <td>39</td>\n",
              "      <td>20</td>\n",
              "      <td>52</td>\n",
              "      <td>39</td>\n",
              "      <td>45</td>\n",
              "      <td>50</td>\n",
              "      <td>36</td>\n",
              "    </tr>\n",
              "    <tr>\n",
              "      <th>1</th>\n",
              "      <td>52</td>\n",
              "      <td>62</td>\n",
              "      <td>27</td>\n",
              "      <td>38</td>\n",
              "      <td>33</td>\n",
              "      <td>51</td>\n",
              "      <td>33</td>\n",
              "      <td>33</td>\n",
              "      <td>36</td>\n",
              "      <td>25</td>\n",
              "      <td>...</td>\n",
              "      <td>59</td>\n",
              "      <td>40</td>\n",
              "      <td>56</td>\n",
              "      <td>29</td>\n",
              "      <td>31</td>\n",
              "      <td>39</td>\n",
              "      <td>38</td>\n",
              "      <td>30</td>\n",
              "      <td>43</td>\n",
              "      <td>51</td>\n",
              "    </tr>\n",
              "    <tr>\n",
              "      <th>2</th>\n",
              "      <td>30</td>\n",
              "      <td>31</td>\n",
              "      <td>62</td>\n",
              "      <td>58</td>\n",
              "      <td>33</td>\n",
              "      <td>46</td>\n",
              "      <td>33</td>\n",
              "      <td>29</td>\n",
              "      <td>36</td>\n",
              "      <td>34</td>\n",
              "      <td>...</td>\n",
              "      <td>35</td>\n",
              "      <td>36</td>\n",
              "      <td>46</td>\n",
              "      <td>49</td>\n",
              "      <td>66</td>\n",
              "      <td>57</td>\n",
              "      <td>42</td>\n",
              "      <td>30</td>\n",
              "      <td>32</td>\n",
              "      <td>33</td>\n",
              "    </tr>\n",
              "    <tr>\n",
              "      <th>3</th>\n",
              "      <td>60</td>\n",
              "      <td>71</td>\n",
              "      <td>54</td>\n",
              "      <td>44</td>\n",
              "      <td>50</td>\n",
              "      <td>40</td>\n",
              "      <td>47</td>\n",
              "      <td>57</td>\n",
              "      <td>24</td>\n",
              "      <td>66</td>\n",
              "      <td>...</td>\n",
              "      <td>22</td>\n",
              "      <td>36</td>\n",
              "      <td>59</td>\n",
              "      <td>50</td>\n",
              "      <td>48</td>\n",
              "      <td>41</td>\n",
              "      <td>50</td>\n",
              "      <td>37</td>\n",
              "      <td>31</td>\n",
              "      <td>58</td>\n",
              "    </tr>\n",
              "    <tr>\n",
              "      <th>4</th>\n",
              "      <td>48</td>\n",
              "      <td>51</td>\n",
              "      <td>42</td>\n",
              "      <td>38</td>\n",
              "      <td>31</td>\n",
              "      <td>48</td>\n",
              "      <td>39</td>\n",
              "      <td>45</td>\n",
              "      <td>42</td>\n",
              "      <td>40</td>\n",
              "      <td>...</td>\n",
              "      <td>36</td>\n",
              "      <td>39</td>\n",
              "      <td>33</td>\n",
              "      <td>63</td>\n",
              "      <td>50</td>\n",
              "      <td>44</td>\n",
              "      <td>76</td>\n",
              "      <td>33</td>\n",
              "      <td>59</td>\n",
              "      <td>39</td>\n",
              "    </tr>\n",
              "    <tr>\n",
              "      <th>...</th>\n",
              "      <td>...</td>\n",
              "      <td>...</td>\n",
              "      <td>...</td>\n",
              "      <td>...</td>\n",
              "      <td>...</td>\n",
              "      <td>...</td>\n",
              "      <td>...</td>\n",
              "      <td>...</td>\n",
              "      <td>...</td>\n",
              "      <td>...</td>\n",
              "      <td>...</td>\n",
              "      <td>...</td>\n",
              "      <td>...</td>\n",
              "      <td>...</td>\n",
              "      <td>...</td>\n",
              "      <td>...</td>\n",
              "      <td>...</td>\n",
              "      <td>...</td>\n",
              "      <td>...</td>\n",
              "      <td>...</td>\n",
              "      <td>...</td>\n",
              "    </tr>\n",
              "    <tr>\n",
              "      <th>1995</th>\n",
              "      <td>37</td>\n",
              "      <td>34</td>\n",
              "      <td>26</td>\n",
              "      <td>60</td>\n",
              "      <td>36</td>\n",
              "      <td>46</td>\n",
              "      <td>30</td>\n",
              "      <td>55</td>\n",
              "      <td>66</td>\n",
              "      <td>52</td>\n",
              "      <td>...</td>\n",
              "      <td>29</td>\n",
              "      <td>59</td>\n",
              "      <td>65</td>\n",
              "      <td>52</td>\n",
              "      <td>26</td>\n",
              "      <td>50</td>\n",
              "      <td>55</td>\n",
              "      <td>30</td>\n",
              "      <td>38</td>\n",
              "      <td>53</td>\n",
              "    </tr>\n",
              "    <tr>\n",
              "      <th>1996</th>\n",
              "      <td>34</td>\n",
              "      <td>34</td>\n",
              "      <td>32</td>\n",
              "      <td>24</td>\n",
              "      <td>44</td>\n",
              "      <td>38</td>\n",
              "      <td>60</td>\n",
              "      <td>60</td>\n",
              "      <td>52</td>\n",
              "      <td>66</td>\n",
              "      <td>...</td>\n",
              "      <td>28</td>\n",
              "      <td>44</td>\n",
              "      <td>39</td>\n",
              "      <td>69</td>\n",
              "      <td>36</td>\n",
              "      <td>36</td>\n",
              "      <td>43</td>\n",
              "      <td>55</td>\n",
              "      <td>40</td>\n",
              "      <td>25</td>\n",
              "    </tr>\n",
              "    <tr>\n",
              "      <th>1997</th>\n",
              "      <td>63</td>\n",
              "      <td>28</td>\n",
              "      <td>53</td>\n",
              "      <td>50</td>\n",
              "      <td>23</td>\n",
              "      <td>53</td>\n",
              "      <td>38</td>\n",
              "      <td>53</td>\n",
              "      <td>48</td>\n",
              "      <td>37</td>\n",
              "      <td>...</td>\n",
              "      <td>56</td>\n",
              "      <td>52</td>\n",
              "      <td>71</td>\n",
              "      <td>36</td>\n",
              "      <td>36</td>\n",
              "      <td>56</td>\n",
              "      <td>26</td>\n",
              "      <td>45</td>\n",
              "      <td>35</td>\n",
              "      <td>47</td>\n",
              "    </tr>\n",
              "    <tr>\n",
              "      <th>1998</th>\n",
              "      <td>42</td>\n",
              "      <td>43</td>\n",
              "      <td>34</td>\n",
              "      <td>47</td>\n",
              "      <td>43</td>\n",
              "      <td>37</td>\n",
              "      <td>47</td>\n",
              "      <td>67</td>\n",
              "      <td>21</td>\n",
              "      <td>28</td>\n",
              "      <td>...</td>\n",
              "      <td>59</td>\n",
              "      <td>52</td>\n",
              "      <td>66</td>\n",
              "      <td>64</td>\n",
              "      <td>38</td>\n",
              "      <td>53</td>\n",
              "      <td>42</td>\n",
              "      <td>39</td>\n",
              "      <td>34</td>\n",
              "      <td>33</td>\n",
              "    </tr>\n",
              "    <tr>\n",
              "      <th>1999</th>\n",
              "      <td>66</td>\n",
              "      <td>44</td>\n",
              "      <td>75</td>\n",
              "      <td>40</td>\n",
              "      <td>54</td>\n",
              "      <td>30</td>\n",
              "      <td>43</td>\n",
              "      <td>49</td>\n",
              "      <td>33</td>\n",
              "      <td>34</td>\n",
              "      <td>...</td>\n",
              "      <td>37</td>\n",
              "      <td>26</td>\n",
              "      <td>43</td>\n",
              "      <td>22</td>\n",
              "      <td>52</td>\n",
              "      <td>55</td>\n",
              "      <td>55</td>\n",
              "      <td>32</td>\n",
              "      <td>27</td>\n",
              "      <td>39</td>\n",
              "    </tr>\n",
              "  </tbody>\n",
              "</table>\n",
              "<p>2000 rows × 1500 columns</p>\n",
              "</div>\n",
              "    <div class=\"colab-df-buttons\">\n",
              "\n",
              "  <div class=\"colab-df-container\">\n",
              "    <button class=\"colab-df-convert\" onclick=\"convertToInteractive('df-3eaf2173-e959-469a-a000-048490da119c')\"\n",
              "            title=\"Convert this dataframe to an interactive table.\"\n",
              "            style=\"display:none;\">\n",
              "\n",
              "  <svg xmlns=\"http://www.w3.org/2000/svg\" height=\"24px\" viewBox=\"0 -960 960 960\">\n",
              "    <path d=\"M120-120v-720h720v720H120Zm60-500h600v-160H180v160Zm220 220h160v-160H400v160Zm0 220h160v-160H400v160ZM180-400h160v-160H180v160Zm440 0h160v-160H620v160ZM180-180h160v-160H180v160Zm440 0h160v-160H620v160Z\"/>\n",
              "  </svg>\n",
              "    </button>\n",
              "\n",
              "  <style>\n",
              "    .colab-df-container {\n",
              "      display:flex;\n",
              "      gap: 12px;\n",
              "    }\n",
              "\n",
              "    .colab-df-convert {\n",
              "      background-color: #E8F0FE;\n",
              "      border: none;\n",
              "      border-radius: 50%;\n",
              "      cursor: pointer;\n",
              "      display: none;\n",
              "      fill: #1967D2;\n",
              "      height: 32px;\n",
              "      padding: 0 0 0 0;\n",
              "      width: 32px;\n",
              "    }\n",
              "\n",
              "    .colab-df-convert:hover {\n",
              "      background-color: #E2EBFA;\n",
              "      box-shadow: 0px 1px 2px rgba(60, 64, 67, 0.3), 0px 1px 3px 1px rgba(60, 64, 67, 0.15);\n",
              "      fill: #174EA6;\n",
              "    }\n",
              "\n",
              "    .colab-df-buttons div {\n",
              "      margin-bottom: 4px;\n",
              "    }\n",
              "\n",
              "    [theme=dark] .colab-df-convert {\n",
              "      background-color: #3B4455;\n",
              "      fill: #D2E3FC;\n",
              "    }\n",
              "\n",
              "    [theme=dark] .colab-df-convert:hover {\n",
              "      background-color: #434B5C;\n",
              "      box-shadow: 0px 1px 3px 1px rgba(0, 0, 0, 0.15);\n",
              "      filter: drop-shadow(0px 1px 2px rgba(0, 0, 0, 0.3));\n",
              "      fill: #FFFFFF;\n",
              "    }\n",
              "  </style>\n",
              "\n",
              "    <script>\n",
              "      const buttonEl =\n",
              "        document.querySelector('#df-3eaf2173-e959-469a-a000-048490da119c button.colab-df-convert');\n",
              "      buttonEl.style.display =\n",
              "        google.colab.kernel.accessAllowed ? 'block' : 'none';\n",
              "\n",
              "      async function convertToInteractive(key) {\n",
              "        const element = document.querySelector('#df-3eaf2173-e959-469a-a000-048490da119c');\n",
              "        const dataTable =\n",
              "          await google.colab.kernel.invokeFunction('convertToInteractive',\n",
              "                                                    [key], {});\n",
              "        if (!dataTable) return;\n",
              "\n",
              "        const docLinkHtml = 'Like what you see? Visit the ' +\n",
              "          '<a target=\"_blank\" href=https://colab.research.google.com/notebooks/data_table.ipynb>data table notebook</a>'\n",
              "          + ' to learn more about interactive tables.';\n",
              "        element.innerHTML = '';\n",
              "        dataTable['output_type'] = 'display_data';\n",
              "        await google.colab.output.renderOutput(dataTable, element);\n",
              "        const docLink = document.createElement('div');\n",
              "        docLink.innerHTML = docLinkHtml;\n",
              "        element.appendChild(docLink);\n",
              "      }\n",
              "    </script>\n",
              "  </div>\n",
              "\n",
              "\n",
              "    <div id=\"df-f56090fc-792b-4436-843d-793cdcaee4b2\">\n",
              "      <button class=\"colab-df-quickchart\" onclick=\"quickchart('df-f56090fc-792b-4436-843d-793cdcaee4b2')\"\n",
              "                title=\"Suggest charts\"\n",
              "                style=\"display:none;\">\n",
              "\n",
              "<svg xmlns=\"http://www.w3.org/2000/svg\" height=\"24px\"viewBox=\"0 0 24 24\"\n",
              "     width=\"24px\">\n",
              "    <g>\n",
              "        <path d=\"M19 3H5c-1.1 0-2 .9-2 2v14c0 1.1.9 2 2 2h14c1.1 0 2-.9 2-2V5c0-1.1-.9-2-2-2zM9 17H7v-7h2v7zm4 0h-2V7h2v10zm4 0h-2v-4h2v4z\"/>\n",
              "    </g>\n",
              "</svg>\n",
              "      </button>\n",
              "\n",
              "<style>\n",
              "  .colab-df-quickchart {\n",
              "      --bg-color: #E8F0FE;\n",
              "      --fill-color: #1967D2;\n",
              "      --hover-bg-color: #E2EBFA;\n",
              "      --hover-fill-color: #174EA6;\n",
              "      --disabled-fill-color: #AAA;\n",
              "      --disabled-bg-color: #DDD;\n",
              "  }\n",
              "\n",
              "  [theme=dark] .colab-df-quickchart {\n",
              "      --bg-color: #3B4455;\n",
              "      --fill-color: #D2E3FC;\n",
              "      --hover-bg-color: #434B5C;\n",
              "      --hover-fill-color: #FFFFFF;\n",
              "      --disabled-bg-color: #3B4455;\n",
              "      --disabled-fill-color: #666;\n",
              "  }\n",
              "\n",
              "  .colab-df-quickchart {\n",
              "    background-color: var(--bg-color);\n",
              "    border: none;\n",
              "    border-radius: 50%;\n",
              "    cursor: pointer;\n",
              "    display: none;\n",
              "    fill: var(--fill-color);\n",
              "    height: 32px;\n",
              "    padding: 0;\n",
              "    width: 32px;\n",
              "  }\n",
              "\n",
              "  .colab-df-quickchart:hover {\n",
              "    background-color: var(--hover-bg-color);\n",
              "    box-shadow: 0 1px 2px rgba(60, 64, 67, 0.3), 0 1px 3px 1px rgba(60, 64, 67, 0.15);\n",
              "    fill: var(--button-hover-fill-color);\n",
              "  }\n",
              "\n",
              "  .colab-df-quickchart-complete:disabled,\n",
              "  .colab-df-quickchart-complete:disabled:hover {\n",
              "    background-color: var(--disabled-bg-color);\n",
              "    fill: var(--disabled-fill-color);\n",
              "    box-shadow: none;\n",
              "  }\n",
              "\n",
              "  .colab-df-spinner {\n",
              "    border: 2px solid var(--fill-color);\n",
              "    border-color: transparent;\n",
              "    border-bottom-color: var(--fill-color);\n",
              "    animation:\n",
              "      spin 1s steps(1) infinite;\n",
              "  }\n",
              "\n",
              "  @keyframes spin {\n",
              "    0% {\n",
              "      border-color: transparent;\n",
              "      border-bottom-color: var(--fill-color);\n",
              "      border-left-color: var(--fill-color);\n",
              "    }\n",
              "    20% {\n",
              "      border-color: transparent;\n",
              "      border-left-color: var(--fill-color);\n",
              "      border-top-color: var(--fill-color);\n",
              "    }\n",
              "    30% {\n",
              "      border-color: transparent;\n",
              "      border-left-color: var(--fill-color);\n",
              "      border-top-color: var(--fill-color);\n",
              "      border-right-color: var(--fill-color);\n",
              "    }\n",
              "    40% {\n",
              "      border-color: transparent;\n",
              "      border-right-color: var(--fill-color);\n",
              "      border-top-color: var(--fill-color);\n",
              "    }\n",
              "    60% {\n",
              "      border-color: transparent;\n",
              "      border-right-color: var(--fill-color);\n",
              "    }\n",
              "    80% {\n",
              "      border-color: transparent;\n",
              "      border-right-color: var(--fill-color);\n",
              "      border-bottom-color: var(--fill-color);\n",
              "    }\n",
              "    90% {\n",
              "      border-color: transparent;\n",
              "      border-bottom-color: var(--fill-color);\n",
              "    }\n",
              "  }\n",
              "</style>\n",
              "\n",
              "      <script>\n",
              "        async function quickchart(key) {\n",
              "          const quickchartButtonEl =\n",
              "            document.querySelector('#' + key + ' button');\n",
              "          quickchartButtonEl.disabled = true;  // To prevent multiple clicks.\n",
              "          quickchartButtonEl.classList.add('colab-df-spinner');\n",
              "          try {\n",
              "            const charts = await google.colab.kernel.invokeFunction(\n",
              "                'suggestCharts', [key], {});\n",
              "          } catch (error) {\n",
              "            console.error('Error during call to suggestCharts:', error);\n",
              "          }\n",
              "          quickchartButtonEl.classList.remove('colab-df-spinner');\n",
              "          quickchartButtonEl.classList.add('colab-df-quickchart-complete');\n",
              "        }\n",
              "        (() => {\n",
              "          let quickchartButtonEl =\n",
              "            document.querySelector('#df-f56090fc-792b-4436-843d-793cdcaee4b2 button');\n",
              "          quickchartButtonEl.style.display =\n",
              "            google.colab.kernel.accessAllowed ? 'block' : 'none';\n",
              "        })();\n",
              "      </script>\n",
              "    </div>\n",
              "\n",
              "  <div id=\"id_8ba8372e-25d1-485e-a486-af90cdf5cb44\">\n",
              "    <style>\n",
              "      .colab-df-generate {\n",
              "        background-color: #E8F0FE;\n",
              "        border: none;\n",
              "        border-radius: 50%;\n",
              "        cursor: pointer;\n",
              "        display: none;\n",
              "        fill: #1967D2;\n",
              "        height: 32px;\n",
              "        padding: 0 0 0 0;\n",
              "        width: 32px;\n",
              "      }\n",
              "\n",
              "      .colab-df-generate:hover {\n",
              "        background-color: #E2EBFA;\n",
              "        box-shadow: 0px 1px 2px rgba(60, 64, 67, 0.3), 0px 1px 3px 1px rgba(60, 64, 67, 0.15);\n",
              "        fill: #174EA6;\n",
              "      }\n",
              "\n",
              "      [theme=dark] .colab-df-generate {\n",
              "        background-color: #3B4455;\n",
              "        fill: #D2E3FC;\n",
              "      }\n",
              "\n",
              "      [theme=dark] .colab-df-generate:hover {\n",
              "        background-color: #434B5C;\n",
              "        box-shadow: 0px 1px 3px 1px rgba(0, 0, 0, 0.15);\n",
              "        filter: drop-shadow(0px 1px 2px rgba(0, 0, 0, 0.3));\n",
              "        fill: #FFFFFF;\n",
              "      }\n",
              "    </style>\n",
              "    <button class=\"colab-df-generate\" onclick=\"generateWithVariable('muestras')\"\n",
              "            title=\"Generate code using this dataframe.\"\n",
              "            style=\"display:none;\">\n",
              "\n",
              "  <svg xmlns=\"http://www.w3.org/2000/svg\" height=\"24px\"viewBox=\"0 0 24 24\"\n",
              "       width=\"24px\">\n",
              "    <path d=\"M7,19H8.4L18.45,9,17,7.55,7,17.6ZM5,21V16.75L18.45,3.32a2,2,0,0,1,2.83,0l1.4,1.43a1.91,1.91,0,0,1,.58,1.4,1.91,1.91,0,0,1-.58,1.4L9.25,21ZM18.45,9,17,7.55Zm-12,3A5.31,5.31,0,0,0,4.9,8.1,5.31,5.31,0,0,0,1,6.5,5.31,5.31,0,0,0,4.9,4.9,5.31,5.31,0,0,0,6.5,1,5.31,5.31,0,0,0,8.1,4.9,5.31,5.31,0,0,0,12,6.5,5.46,5.46,0,0,0,6.5,12Z\"/>\n",
              "  </svg>\n",
              "    </button>\n",
              "    <script>\n",
              "      (() => {\n",
              "      const buttonEl =\n",
              "        document.querySelector('#id_8ba8372e-25d1-485e-a486-af90cdf5cb44 button.colab-df-generate');\n",
              "      buttonEl.style.display =\n",
              "        google.colab.kernel.accessAllowed ? 'block' : 'none';\n",
              "\n",
              "      buttonEl.onclick = () => {\n",
              "        google.colab.notebook.generateWithVariable('muestras');\n",
              "      }\n",
              "      })();\n",
              "    </script>\n",
              "  </div>\n",
              "\n",
              "    </div>\n",
              "  </div>\n"
            ],
            "application/vnd.google.colaboratory.intrinsic+json": {
              "type": "dataframe",
              "variable_name": "muestras"
            }
          },
          "metadata": {},
          "execution_count": 264
        }
      ]
    },
    {
      "cell_type": "code",
      "metadata": {
        "id": "v5Q-rnS_izNd",
        "scrolled": true,
        "colab": {
          "base_uri": "https://localhost:8080/",
          "height": 458
        },
        "outputId": "b45ebbe2-883f-4bbe-fb31-5e1971bf4f0e"
      },
      "source": [
        "muestras.mean()"
      ],
      "execution_count": 265,
      "outputs": [
        {
          "output_type": "execute_result",
          "data": {
            "text/plain": [
              "Muestra_0       44.1995\n",
              "Muestra_1       44.0890\n",
              "Muestra_2       44.0135\n",
              "Muestra_3       43.7200\n",
              "Muestra_4       44.0825\n",
              "                 ...   \n",
              "Muestra_1495    44.2235\n",
              "Muestra_1496    44.1425\n",
              "Muestra_1497    44.4360\n",
              "Muestra_1498    44.0795\n",
              "Muestra_1499    44.1225\n",
              "Length: 1500, dtype: float64"
            ],
            "text/html": [
              "<div>\n",
              "<style scoped>\n",
              "    .dataframe tbody tr th:only-of-type {\n",
              "        vertical-align: middle;\n",
              "    }\n",
              "\n",
              "    .dataframe tbody tr th {\n",
              "        vertical-align: top;\n",
              "    }\n",
              "\n",
              "    .dataframe thead th {\n",
              "        text-align: right;\n",
              "    }\n",
              "</style>\n",
              "<table border=\"1\" class=\"dataframe\">\n",
              "  <thead>\n",
              "    <tr style=\"text-align: right;\">\n",
              "      <th></th>\n",
              "      <th>0</th>\n",
              "    </tr>\n",
              "  </thead>\n",
              "  <tbody>\n",
              "    <tr>\n",
              "      <th>Muestra_0</th>\n",
              "      <td>44.1995</td>\n",
              "    </tr>\n",
              "    <tr>\n",
              "      <th>Muestra_1</th>\n",
              "      <td>44.0890</td>\n",
              "    </tr>\n",
              "    <tr>\n",
              "      <th>Muestra_2</th>\n",
              "      <td>44.0135</td>\n",
              "    </tr>\n",
              "    <tr>\n",
              "      <th>Muestra_3</th>\n",
              "      <td>43.7200</td>\n",
              "    </tr>\n",
              "    <tr>\n",
              "      <th>Muestra_4</th>\n",
              "      <td>44.0825</td>\n",
              "    </tr>\n",
              "    <tr>\n",
              "      <th>...</th>\n",
              "      <td>...</td>\n",
              "    </tr>\n",
              "    <tr>\n",
              "      <th>Muestra_1495</th>\n",
              "      <td>44.2235</td>\n",
              "    </tr>\n",
              "    <tr>\n",
              "      <th>Muestra_1496</th>\n",
              "      <td>44.1425</td>\n",
              "    </tr>\n",
              "    <tr>\n",
              "      <th>Muestra_1497</th>\n",
              "      <td>44.4360</td>\n",
              "    </tr>\n",
              "    <tr>\n",
              "      <th>Muestra_1498</th>\n",
              "      <td>44.0795</td>\n",
              "    </tr>\n",
              "    <tr>\n",
              "      <th>Muestra_1499</th>\n",
              "      <td>44.1225</td>\n",
              "    </tr>\n",
              "  </tbody>\n",
              "</table>\n",
              "<p>1500 rows × 1 columns</p>\n",
              "</div><br><label><b>dtype:</b> float64</label>"
            ]
          },
          "metadata": {},
          "execution_count": 265
        }
      ]
    },
    {
      "cell_type": "markdown",
      "metadata": {
        "id": "JfgEBDx0jDzf"
      },
      "source": [
        "> El **Teorema Central del Límite** establece que, con el aumento del tamaño de la muestra, la distribución de las medias muestrales se aproxima a una distribución normal con media igual a la media de la población y una desviación estándar igual a la desviación estándar de la variable original dividida por la raíz cuadrada del tamaño de la muestra. Este hecho está asegurado para $n$ mayores o iguales a 30."
      ]
    },
    {
      "cell_type": "code",
      "metadata": {
        "id": "NBPGDBJ3VeBw",
        "colab": {
          "base_uri": "https://localhost:8080/",
          "height": 447
        },
        "outputId": "e8aeec76-405e-4144-b607-e6964bafef8f"
      },
      "source": [
        "muestras.mean().hist()"
      ],
      "execution_count": 266,
      "outputs": [
        {
          "output_type": "execute_result",
          "data": {
            "text/plain": [
              "<Axes: >"
            ]
          },
          "metadata": {},
          "execution_count": 266
        },
        {
          "output_type": "display_data",
          "data": {
            "text/plain": [
              "<Figure size 640x480 with 1 Axes>"
            ],
            "image/png": "[encoded data removed]"
          },
          "metadata": {}
        }
      ]
    },
    {
      "cell_type": "markdown",
      "metadata": {
        "id": "_A4RKStwjkLI"
      },
      "source": [
        "> El **Teorema Central del Límite** establece que, con el aumento del tamaño de la muestra, la distribución de las medias muestrales se aproxima a una distribución normal con media igual a la media de la población y una desviación estándar igual a la desviación estándar de la variable original dividida por la raíz cuadrada del tamaño de la muestra. Este hecho está asegurado para $n$ mayores o iguales a 30."
      ]
    },
    {
      "cell_type": "code",
      "metadata": {
        "id": "vXE-UOj_izGZ",
        "colab": {
          "base_uri": "https://localhost:8080/"
        },
        "outputId": "7b1444f5-8563-4e7f-93ff-8943f8d47a3f"
      },
      "source": [
        "datos.Edad.mean()"
      ],
      "execution_count": 267,
      "outputs": [
        {
          "output_type": "execute_result",
          "data": {
            "text/plain": [
              "np.float64(44.07142113482561)"
            ]
          },
          "metadata": {},
          "execution_count": 267
        }
      ]
    },
    {
      "cell_type": "code",
      "metadata": {
        "id": "bahA7_WYizC6",
        "colab": {
          "base_uri": "https://localhost:8080/"
        },
        "outputId": "ebc61ac3-da33-45fe-a388-96751fc3a374"
      },
      "source": [
        "muestras.mean().mean()"
      ],
      "execution_count": 268,
      "outputs": [
        {
          "output_type": "execute_result",
          "data": {
            "text/plain": [
              "np.float64(44.072118999999994)"
            ]
          },
          "metadata": {},
          "execution_count": 268
        }
      ]
    },
    {
      "cell_type": "markdown",
      "metadata": {
        "id": "7lIWJCAKlPmA"
      },
      "source": [
        "> El **Teorema Central del Límite** establece que, con el aumento del tamaño de la muestra, la distribución de las medias muestrales se aproxima a una distribución normal con media igual a la media de la población y una desviación estándar igual a la desviación estándar de la variable original dividida por la raíz cuadrada del tamaño de la muestra. Este hecho está asegurado para $n$ mayores o iguales a 30.\n",
        "\n",
        "# $$\\sigma_\\bar{x} = \\frac{\\sigma}{\\sqrt{n}}$$"
      ]
    },
    {
      "cell_type": "code",
      "metadata": {
        "id": "qKrG0zqhVNzn",
        "colab": {
          "base_uri": "https://localhost:8080/"
        },
        "outputId": "9965244c-64e9-4354-ca76-cd0228782c93"
      },
      "source": [
        "muestras.mean().std()"
      ],
      "execution_count": 269,
      "outputs": [
        {
          "output_type": "execute_result",
          "data": {
            "text/plain": [
              "0.2926450667544739"
            ]
          },
          "metadata": {},
          "execution_count": 269
        }
      ]
    },
    {
      "cell_type": "code",
      "metadata": {
        "id": "83ILp8Quiy_W",
        "colab": {
          "base_uri": "https://localhost:8080/"
        },
        "outputId": "9b841659-1c60-4823-ef20-ecbc66cacef3"
      },
      "source": [
        "datos.Edad.std()"
      ],
      "execution_count": 270,
      "outputs": [
        {
          "output_type": "execute_result",
          "data": {
            "text/plain": [
              "12.480583465360187"
            ]
          },
          "metadata": {},
          "execution_count": 270
        }
      ]
    },
    {
      "cell_type": "code",
      "metadata": {
        "id": "IQ7wC-Nkiy75",
        "colab": {
          "base_uri": "https://localhost:8080/"
        },
        "outputId": "e643f3bd-137b-4107-a469-81f5043be81a"
      },
      "source": [
        "datos.Edad.std() / np.sqrt(n)"
      ],
      "execution_count": 271,
      "outputs": [
        {
          "output_type": "execute_result",
          "data": {
            "text/plain": [
              "np.float64(0.2790743302740527)"
            ]
          },
          "metadata": {},
          "execution_count": 271
        }
      ]
    },
    {
      "cell_type": "markdown",
      "metadata": {
        "id": "ku8CE67iG3Ge"
      },
      "source": [
        "## <font color=green>4.2 Los niveles de confianza y significación</font>\n",
        "***"
      ]
    },
    {
      "cell_type": "markdown",
      "metadata": {
        "id": "mk6ZsvgyG3Gf"
      },
      "source": [
        "El **nivel de confianza** ($1 - \\alpha$) representa la probabilidad de que la estimación sea correcta. Además, el **nivel de significancia** ($\\alpha$) expresa la probabilidad de error de la estimación.\n",
        "\n",
        "El **nivel de confianza** representa el grado de confiabilidad del resultado estimado dentro de un cierto rango. Cuando establecemos un **nivel de confianza del 95%** en una encuesta, por ejemplo, estamos asumiendo que existe una probabilidad del 95% de que los resultados de la encuesta representen bien la realidad, es decir, sean correctos.\n",
        "\n",
        "El **nivel de confianza** de una estimación se puede obtener del área bajo la curva normal como se muestra en la figura siguiente."
      ]
    },
    {
      "cell_type": "markdown",
      "metadata": {
        "id": "WeGyDfvaG3Gg"
      },
      "source": [
        "<img src='https://caelum-online-public.s3.amazonaws.com/ESP-1764-estadistica-con-python-probabilidad-y-muestreo/img007.png' width='450px'>\n"
      ]
    },
    {
      "cell_type": "markdown",
      "metadata": {
        "id": "AN8WDZ-HG3Gi"
      },
      "source": [
        "## <font color=green>4.3 Error inferencial</font>\n",
        "***"
      ]
    },
    {
      "cell_type": "markdown",
      "metadata": {
        "id": "tk-TwhhfG3Gi"
      },
      "source": [
        "El **error inferencial** se define por la **desviación estándar de las medias muestrales** $\\sigma_\\bar{x}$ y por el **nivel de confianza** determinado para el proceso."
      ]
    },
    {
      "cell_type": "markdown",
      "metadata": {
        "id": "FKOQUPYHG3Gk"
      },
      "source": [
        "# $$e = z \\frac{\\sigma}{\\sqrt{n}}$$"
      ]
    },
    {
      "cell_type": "markdown",
      "metadata": {
        "id": "ELbWQW4sG3HS"
      },
      "source": [
        "## <font color=green>4.4 Intervalos de confianza</font>\n",
        "***"
      ]
    },
    {
      "cell_type": "markdown",
      "metadata": {
        "id": "-r6EMnH-G3HT"
      },
      "source": [
        "### Intervalo de confianza para la media poblacional"
      ]
    },
    {
      "cell_type": "markdown",
      "metadata": {
        "id": "QWgBFeRnG3HT"
      },
      "source": [
        "#### Con desviación estándar poblacional conocida\n",
        "\n",
        "## $$\\mu = \\bar{x} \\pm z\\frac{\\sigma}{\\sqrt{n}}$$\n",
        "\n",
        "#### Con desviación estándar de población desconocida\n",
        "\n",
        "## $$\\mu = \\bar{x} \\pm z\\frac{s}{\\sqrt{n}}$$"
      ]
    },
    {
      "cell_type": "markdown",
      "metadata": {
        "id": "R2qqLneeG3HT"
      },
      "source": [
        "## <font color='blue'>Ejemplo: </font>"
      ]
    },
    {
      "cell_type": "markdown",
      "metadata": {
        "id": "AgnrFjdMG3HT"
      },
      "source": [
        "Suponga que los pesos de las bolsas de arroz de una industria alimentaria se distribuyen aproximadamente como una población normal con **desviación estándar igual a 150 g**. Se seleccionó una **muestra aleatoria de 20 bolsas** de un lote específico, se obtuvo un **peso promedio de 5050 g**. Construya un intervalo de confianza para el **promedio de la población** asumiendo un **nivel de significancia del 5%**."
      ]
    },
    {
      "cell_type": "markdown",
      "metadata": {
        "id": "LpGQGksTG3HU"
      },
      "source": [
        "### Media muestral"
      ]
    },
    {
      "cell_type": "code",
      "metadata": {
        "id": "aF2QQ0z3G3HU",
        "colab": {
          "base_uri": "https://localhost:8080/"
        },
        "outputId": "6507a9de-0c25-47b8-ea3a-4c32aeb61248"
      },
      "source": [
        "media_muestra = 5050\n",
        "media_muestra"
      ],
      "execution_count": 272,
      "outputs": [
        {
          "output_type": "execute_result",
          "data": {
            "text/plain": [
              "5050"
            ]
          },
          "metadata": {},
          "execution_count": 272
        }
      ]
    },
    {
      "cell_type": "markdown",
      "metadata": {
        "id": "Jly1bVP9G3HY"
      },
      "source": [
        "### Nivel de significancia ($\\alpha$)"
      ]
    },
    {
      "cell_type": "code",
      "metadata": {
        "id": "BzIgN3C7G3HY",
        "colab": {
          "base_uri": "https://localhost:8080/"
        },
        "outputId": "67f7343a-2dbc-49f2-ccf7-15ce1534d9ed"
      },
      "source": [
        "significancia = 0.05\n",
        "significancia"
      ],
      "execution_count": 273,
      "outputs": [
        {
          "output_type": "execute_result",
          "data": {
            "text/plain": [
              "0.05"
            ]
          },
          "metadata": {},
          "execution_count": 273
        }
      ]
    },
    {
      "cell_type": "markdown",
      "metadata": {
        "id": "SrZAbQRKG3Ha"
      },
      "source": [
        "### Nivel de confianza ($1 - \\alpha$)"
      ]
    },
    {
      "cell_type": "code",
      "metadata": {
        "id": "1JeWXwA6G3Ha",
        "colab": {
          "base_uri": "https://localhost:8080/"
        },
        "outputId": "8b4b3faa-2763-4960-ed2c-870fee4c6806"
      },
      "source": [
        "confianza = 1 - significancia\n",
        "confianza"
      ],
      "execution_count": 274,
      "outputs": [
        {
          "output_type": "execute_result",
          "data": {
            "text/plain": [
              "0.95"
            ]
          },
          "metadata": {},
          "execution_count": 274
        }
      ]
    },
    {
      "cell_type": "markdown",
      "metadata": {
        "id": "mZoUFr1nG3Hf"
      },
      "source": [
        "### Obteniendo $z$"
      ]
    },
    {
      "cell_type": "code",
      "metadata": {
        "id": "f9IMOwY2Xeva",
        "colab": {
          "base_uri": "https://localhost:8080/",
          "height": 363
        },
        "outputId": "4e3161f0-740b-4028-931e-4332e4648c82"
      },
      "source": [
        "tabla_normal_estandarizada[16:26]"
      ],
      "execution_count": 275,
      "outputs": [
        {
          "output_type": "execute_result",
          "data": {
            "text/plain": [
              "Z       0.00    0.01    0.02    0.03    0.04    0.05    0.06    0.07    0.08  \\\n",
              "1.60  0.9452  0.9463  0.9474  0.9484  0.9495  0.9505  0.9515  0.9525  0.9535   \n",
              "1.70  0.9554  0.9564  0.9573  0.9582  0.9591  0.9599  0.9608  0.9616  0.9625   \n",
              "1.80  0.9641  0.9649  0.9656  0.9664  0.9671  0.9678  0.9686  0.9693  0.9699   \n",
              "1.90  0.9713  0.9719  0.9726  0.9732  0.9738  0.9744  0.9750  0.9756  0.9761   \n",
              "2.00  0.9772  0.9778  0.9783  0.9788  0.9793  0.9798  0.9803  0.9808  0.9812   \n",
              "2.10  0.9821  0.9826  0.9830  0.9834  0.9838  0.9842  0.9846  0.9850  0.9854   \n",
              "2.20  0.9861  0.9864  0.9868  0.9871  0.9875  0.9878  0.9881  0.9884  0.9887   \n",
              "2.30  0.9893  0.9896  0.9898  0.9901  0.9904  0.9906  0.9909  0.9911  0.9913   \n",
              "2.40  0.9918  0.9920  0.9922  0.9925  0.9927  0.9929  0.9931  0.9932  0.9934   \n",
              "2.50  0.9938  0.9940  0.9941  0.9943  0.9945  0.9946  0.9948  0.9949  0.9951   \n",
              "\n",
              "Z       0.09  \n",
              "1.60  0.9545  \n",
              "1.70  0.9633  \n",
              "1.80  0.9706  \n",
              "1.90  0.9767  \n",
              "2.00  0.9817  \n",
              "2.10  0.9857  \n",
              "2.20  0.9890  \n",
              "2.30  0.9916  \n",
              "2.40  0.9936  \n",
              "2.50  0.9952  "
            ],
            "text/html": [
              "\n",
              "  <div id=\"df-8950ee92-a88b-42bd-ba3a-5ebdf020b210\" class=\"colab-df-container\">\n",
              "    <div>\n",
              "<style scoped>\n",
              "    .dataframe tbody tr th:only-of-type {\n",
              "        vertical-align: middle;\n",
              "    }\n",
              "\n",
              "    .dataframe tbody tr th {\n",
              "        vertical-align: top;\n",
              "    }\n",
              "\n",
              "    .dataframe thead th {\n",
              "        text-align: right;\n",
              "    }\n",
              "</style>\n",
              "<table border=\"1\" class=\"dataframe\">\n",
              "  <thead>\n",
              "    <tr style=\"text-align: right;\">\n",
              "      <th>Z</th>\n",
              "      <th>0.00</th>\n",
              "      <th>0.01</th>\n",
              "      <th>0.02</th>\n",
              "      <th>0.03</th>\n",
              "      <th>0.04</th>\n",
              "      <th>0.05</th>\n",
              "      <th>0.06</th>\n",
              "      <th>0.07</th>\n",
              "      <th>0.08</th>\n",
              "      <th>0.09</th>\n",
              "    </tr>\n",
              "  </thead>\n",
              "  <tbody>\n",
              "    <tr>\n",
              "      <th>1.60</th>\n",
              "      <td>0.9452</td>\n",
              "      <td>0.9463</td>\n",
              "      <td>0.9474</td>\n",
              "      <td>0.9484</td>\n",
              "      <td>0.9495</td>\n",
              "      <td>0.9505</td>\n",
              "      <td>0.9515</td>\n",
              "      <td>0.9525</td>\n",
              "      <td>0.9535</td>\n",
              "      <td>0.9545</td>\n",
              "    </tr>\n",
              "    <tr>\n",
              "      <th>1.70</th>\n",
              "      <td>0.9554</td>\n",
              "      <td>0.9564</td>\n",
              "      <td>0.9573</td>\n",
              "      <td>0.9582</td>\n",
              "      <td>0.9591</td>\n",
              "      <td>0.9599</td>\n",
              "      <td>0.9608</td>\n",
              "      <td>0.9616</td>\n",
              "      <td>0.9625</td>\n",
              "      <td>0.9633</td>\n",
              "    </tr>\n",
              "    <tr>\n",
              "      <th>1.80</th>\n",
              "      <td>0.9641</td>\n",
              "      <td>0.9649</td>\n",
              "      <td>0.9656</td>\n",
              "      <td>0.9664</td>\n",
              "      <td>0.9671</td>\n",
              "      <td>0.9678</td>\n",
              "      <td>0.9686</td>\n",
              "      <td>0.9693</td>\n",
              "      <td>0.9699</td>\n",
              "      <td>0.9706</td>\n",
              "    </tr>\n",
              "    <tr>\n",
              "      <th>1.90</th>\n",
              "      <td>0.9713</td>\n",
              "      <td>0.9719</td>\n",
              "      <td>0.9726</td>\n",
              "      <td>0.9732</td>\n",
              "      <td>0.9738</td>\n",
              "      <td>0.9744</td>\n",
              "      <td>0.9750</td>\n",
              "      <td>0.9756</td>\n",
              "      <td>0.9761</td>\n",
              "      <td>0.9767</td>\n",
              "    </tr>\n",
              "    <tr>\n",
              "      <th>2.00</th>\n",
              "      <td>0.9772</td>\n",
              "      <td>0.9778</td>\n",
              "      <td>0.9783</td>\n",
              "      <td>0.9788</td>\n",
              "      <td>0.9793</td>\n",
              "      <td>0.9798</td>\n",
              "      <td>0.9803</td>\n",
              "      <td>0.9808</td>\n",
              "      <td>0.9812</td>\n",
              "      <td>0.9817</td>\n",
              "    </tr>\n",
              "    <tr>\n",
              "      <th>2.10</th>\n",
              "      <td>0.9821</td>\n",
              "      <td>0.9826</td>\n",
              "      <td>0.9830</td>\n",
              "      <td>0.9834</td>\n",
              "      <td>0.9838</td>\n",
              "      <td>0.9842</td>\n",
              "      <td>0.9846</td>\n",
              "      <td>0.9850</td>\n",
              "      <td>0.9854</td>\n",
              "      <td>0.9857</td>\n",
              "    </tr>\n",
              "    <tr>\n",
              "      <th>2.20</th>\n",
              "      <td>0.9861</td>\n",
              "      <td>0.9864</td>\n",
              "      <td>0.9868</td>\n",
              "      <td>0.9871</td>\n",
              "      <td>0.9875</td>\n",
              "      <td>0.9878</td>\n",
              "      <td>0.9881</td>\n",
              "      <td>0.9884</td>\n",
              "      <td>0.9887</td>\n",
              "      <td>0.9890</td>\n",
              "    </tr>\n",
              "    <tr>\n",
              "      <th>2.30</th>\n",
              "      <td>0.9893</td>\n",
              "      <td>0.9896</td>\n",
              "      <td>0.9898</td>\n",
              "      <td>0.9901</td>\n",
              "      <td>0.9904</td>\n",
              "      <td>0.9906</td>\n",
              "      <td>0.9909</td>\n",
              "      <td>0.9911</td>\n",
              "      <td>0.9913</td>\n",
              "      <td>0.9916</td>\n",
              "    </tr>\n",
              "    <tr>\n",
              "      <th>2.40</th>\n",
              "      <td>0.9918</td>\n",
              "      <td>0.9920</td>\n",
              "      <td>0.9922</td>\n",
              "      <td>0.9925</td>\n",
              "      <td>0.9927</td>\n",
              "      <td>0.9929</td>\n",
              "      <td>0.9931</td>\n",
              "      <td>0.9932</td>\n",
              "      <td>0.9934</td>\n",
              "      <td>0.9936</td>\n",
              "    </tr>\n",
              "    <tr>\n",
              "      <th>2.50</th>\n",
              "      <td>0.9938</td>\n",
              "      <td>0.9940</td>\n",
              "      <td>0.9941</td>\n",
              "      <td>0.9943</td>\n",
              "      <td>0.9945</td>\n",
              "      <td>0.9946</td>\n",
              "      <td>0.9948</td>\n",
              "      <td>0.9949</td>\n",
              "      <td>0.9951</td>\n",
              "      <td>0.9952</td>\n",
              "    </tr>\n",
              "  </tbody>\n",
              "</table>\n",
              "</div>\n",
              "    <div class=\"colab-df-buttons\">\n",
              "\n",
              "  <div class=\"colab-df-container\">\n",
              "    <button class=\"colab-df-convert\" onclick=\"convertToInteractive('df-8950ee92-a88b-42bd-ba3a-5ebdf020b210')\"\n",
              "            title=\"Convert this dataframe to an interactive table.\"\n",
              "            style=\"display:none;\">\n",
              "\n",
              "  <svg xmlns=\"http://www.w3.org/2000/svg\" height=\"24px\" viewBox=\"0 -960 960 960\">\n",
              "    <path d=\"M120-120v-720h720v720H120Zm60-500h600v-160H180v160Zm220 220h160v-160H400v160Zm0 220h160v-160H400v160ZM180-400h160v-160H180v160Zm440 0h160v-160H620v160ZM180-180h160v-160H180v160Zm440 0h160v-160H620v160Z\"/>\n",
              "  </svg>\n",
              "    </button>\n",
              "\n",
              "  <style>\n",
              "    .colab-df-container {\n",
              "      display:flex;\n",
              "      gap: 12px;\n",
              "    }\n",
              "\n",
              "    .colab-df-convert {\n",
              "      background-color: #E8F0FE;\n",
              "      border: none;\n",
              "      border-radius: 50%;\n",
              "      cursor: pointer;\n",
              "      display: none;\n",
              "      fill: #1967D2;\n",
              "      height: 32px;\n",
              "      padding: 0 0 0 0;\n",
              "      width: 32px;\n",
              "    }\n",
              "\n",
              "    .colab-df-convert:hover {\n",
              "      background-color: #E2EBFA;\n",
              "      box-shadow: 0px 1px 2px rgba(60, 64, 67, 0.3), 0px 1px 3px 1px rgba(60, 64, 67, 0.15);\n",
              "      fill: #174EA6;\n",
              "    }\n",
              "\n",
              "    .colab-df-buttons div {\n",
              "      margin-bottom: 4px;\n",
              "    }\n",
              "\n",
              "    [theme=dark] .colab-df-convert {\n",
              "      background-color: #3B4455;\n",
              "      fill: #D2E3FC;\n",
              "    }\n",
              "\n",
              "    [theme=dark] .colab-df-convert:hover {\n",
              "      background-color: #434B5C;\n",
              "      box-shadow: 0px 1px 3px 1px rgba(0, 0, 0, 0.15);\n",
              "      filter: drop-shadow(0px 1px 2px rgba(0, 0, 0, 0.3));\n",
              "      fill: #FFFFFF;\n",
              "    }\n",
              "  </style>\n",
              "\n",
              "    <script>\n",
              "      const buttonEl =\n",
              "        document.querySelector('#df-8950ee92-a88b-42bd-ba3a-5ebdf020b210 button.colab-df-convert');\n",
              "      buttonEl.style.display =\n",
              "        google.colab.kernel.accessAllowed ? 'block' : 'none';\n",
              "\n",
              "      async function convertToInteractive(key) {\n",
              "        const element = document.querySelector('#df-8950ee92-a88b-42bd-ba3a-5ebdf020b210');\n",
              "        const dataTable =\n",
              "          await google.colab.kernel.invokeFunction('convertToInteractive',\n",
              "                                                    [key], {});\n",
              "        if (!dataTable) return;\n",
              "\n",
              "        const docLinkHtml = 'Like what you see? Visit the ' +\n",
              "          '<a target=\"_blank\" href=https://colab.research.google.com/notebooks/data_table.ipynb>data table notebook</a>'\n",
              "          + ' to learn more about interactive tables.';\n",
              "        element.innerHTML = '';\n",
              "        dataTable['output_type'] = 'display_data';\n",
              "        await google.colab.output.renderOutput(dataTable, element);\n",
              "        const docLink = document.createElement('div');\n",
              "        docLink.innerHTML = docLinkHtml;\n",
              "        element.appendChild(docLink);\n",
              "      }\n",
              "    </script>\n",
              "  </div>\n",
              "\n",
              "\n",
              "    <div id=\"df-51d1f66f-1c6b-4c68-bd40-9d85f81e4600\">\n",
              "      <button class=\"colab-df-quickchart\" onclick=\"quickchart('df-51d1f66f-1c6b-4c68-bd40-9d85f81e4600')\"\n",
              "                title=\"Suggest charts\"\n",
              "                style=\"display:none;\">\n",
              "\n",
              "<svg xmlns=\"http://www.w3.org/2000/svg\" height=\"24px\"viewBox=\"0 0 24 24\"\n",
              "     width=\"24px\">\n",
              "    <g>\n",
              "        <path d=\"M19 3H5c-1.1 0-2 .9-2 2v14c0 1.1.9 2 2 2h14c1.1 0 2-.9 2-2V5c0-1.1-.9-2-2-2zM9 17H7v-7h2v7zm4 0h-2V7h2v10zm4 0h-2v-4h2v4z\"/>\n",
              "    </g>\n",
              "</svg>\n",
              "      </button>\n",
              "\n",
              "<style>\n",
              "  .colab-df-quickchart {\n",
              "      --bg-color: #E8F0FE;\n",
              "      --fill-color: #1967D2;\n",
              "      --hover-bg-color: #E2EBFA;\n",
              "      --hover-fill-color: #174EA6;\n",
              "      --disabled-fill-color: #AAA;\n",
              "      --disabled-bg-color: #DDD;\n",
              "  }\n",
              "\n",
              "  [theme=dark] .colab-df-quickchart {\n",
              "      --bg-color: #3B4455;\n",
              "      --fill-color: #D2E3FC;\n",
              "      --hover-bg-color: #434B5C;\n",
              "      --hover-fill-color: #FFFFFF;\n",
              "      --disabled-bg-color: #3B4455;\n",
              "      --disabled-fill-color: #666;\n",
              "  }\n",
              "\n",
              "  .colab-df-quickchart {\n",
              "    background-color: var(--bg-color);\n",
              "    border: none;\n",
              "    border-radius: 50%;\n",
              "    cursor: pointer;\n",
              "    display: none;\n",
              "    fill: var(--fill-color);\n",
              "    height: 32px;\n",
              "    padding: 0;\n",
              "    width: 32px;\n",
              "  }\n",
              "\n",
              "  .colab-df-quickchart:hover {\n",
              "    background-color: var(--hover-bg-color);\n",
              "    box-shadow: 0 1px 2px rgba(60, 64, 67, 0.3), 0 1px 3px 1px rgba(60, 64, 67, 0.15);\n",
              "    fill: var(--button-hover-fill-color);\n",
              "  }\n",
              "\n",
              "  .colab-df-quickchart-complete:disabled,\n",
              "  .colab-df-quickchart-complete:disabled:hover {\n",
              "    background-color: var(--disabled-bg-color);\n",
              "    fill: var(--disabled-fill-color);\n",
              "    box-shadow: none;\n",
              "  }\n",
              "\n",
              "  .colab-df-spinner {\n",
              "    border: 2px solid var(--fill-color);\n",
              "    border-color: transparent;\n",
              "    border-bottom-color: var(--fill-color);\n",
              "    animation:\n",
              "      spin 1s steps(1) infinite;\n",
              "  }\n",
              "\n",
              "  @keyframes spin {\n",
              "    0% {\n",
              "      border-color: transparent;\n",
              "      border-bottom-color: var(--fill-color);\n",
              "      border-left-color: var(--fill-color);\n",
              "    }\n",
              "    20% {\n",
              "      border-color: transparent;\n",
              "      border-left-color: var(--fill-color);\n",
              "      border-top-color: var(--fill-color);\n",
              "    }\n",
              "    30% {\n",
              "      border-color: transparent;\n",
              "      border-left-color: var(--fill-color);\n",
              "      border-top-color: var(--fill-color);\n",
              "      border-right-color: var(--fill-color);\n",
              "    }\n",
              "    40% {\n",
              "      border-color: transparent;\n",
              "      border-right-color: var(--fill-color);\n",
              "      border-top-color: var(--fill-color);\n",
              "    }\n",
              "    60% {\n",
              "      border-color: transparent;\n",
              "      border-right-color: var(--fill-color);\n",
              "    }\n",
              "    80% {\n",
              "      border-color: transparent;\n",
              "      border-right-color: var(--fill-color);\n",
              "      border-bottom-color: var(--fill-color);\n",
              "    }\n",
              "    90% {\n",
              "      border-color: transparent;\n",
              "      border-bottom-color: var(--fill-color);\n",
              "    }\n",
              "  }\n",
              "</style>\n",
              "\n",
              "      <script>\n",
              "        async function quickchart(key) {\n",
              "          const quickchartButtonEl =\n",
              "            document.querySelector('#' + key + ' button');\n",
              "          quickchartButtonEl.disabled = true;  // To prevent multiple clicks.\n",
              "          quickchartButtonEl.classList.add('colab-df-spinner');\n",
              "          try {\n",
              "            const charts = await google.colab.kernel.invokeFunction(\n",
              "                'suggestCharts', [key], {});\n",
              "          } catch (error) {\n",
              "            console.error('Error during call to suggestCharts:', error);\n",
              "          }\n",
              "          quickchartButtonEl.classList.remove('colab-df-spinner');\n",
              "          quickchartButtonEl.classList.add('colab-df-quickchart-complete');\n",
              "        }\n",
              "        (() => {\n",
              "          let quickchartButtonEl =\n",
              "            document.querySelector('#df-51d1f66f-1c6b-4c68-bd40-9d85f81e4600 button');\n",
              "          quickchartButtonEl.style.display =\n",
              "            google.colab.kernel.accessAllowed ? 'block' : 'none';\n",
              "        })();\n",
              "      </script>\n",
              "    </div>\n",
              "\n",
              "    </div>\n",
              "  </div>\n"
            ],
            "application/vnd.google.colaboratory.intrinsic+json": {
              "type": "dataframe",
              "summary": "{\n  \"name\": \"tabla_normal_estandarizada[16:26]\",\n  \"rows\": 10,\n  \"fields\": [\n    {\n      \"column\": \"0.00\",\n      \"properties\": {\n        \"dtype\": \"string\",\n        \"num_unique_values\": 10,\n        \"samples\": [\n          \"0.9918\",\n          \"0.9554\",\n          \"0.9821\"\n        ],\n        \"semantic_type\": \"\",\n        \"description\": \"\"\n      }\n    },\n    {\n      \"column\": \"0.01\",\n      \"properties\": {\n        \"dtype\": \"string\",\n        \"num_unique_values\": 10,\n        \"samples\": [\n          \"0.9920\",\n          \"0.9564\",\n          \"0.9826\"\n        ],\n        \"semantic_type\": \"\",\n        \"description\": \"\"\n      }\n    },\n    {\n      \"column\": \"0.02\",\n      \"properties\": {\n        \"dtype\": \"string\",\n        \"num_unique_values\": 10,\n        \"samples\": [\n          \"0.9922\",\n          \"0.9573\",\n          \"0.9830\"\n        ],\n        \"semantic_type\": \"\",\n        \"description\": \"\"\n      }\n    },\n    {\n      \"column\": \"0.03\",\n      \"properties\": {\n        \"dtype\": \"string\",\n        \"num_unique_values\": 10,\n        \"samples\": [\n          \"0.9925\",\n          \"0.9582\",\n          \"0.9834\"\n        ],\n        \"semantic_type\": \"\",\n        \"description\": \"\"\n      }\n    },\n    {\n      \"column\": \"0.04\",\n      \"properties\": {\n        \"dtype\": \"string\",\n        \"num_unique_values\": 10,\n        \"samples\": [\n          \"0.9927\",\n          \"0.9591\",\n          \"0.9838\"\n        ],\n        \"semantic_type\": \"\",\n        \"description\": \"\"\n      }\n    },\n    {\n      \"column\": \"0.05\",\n      \"properties\": {\n        \"dtype\": \"string\",\n        \"num_unique_values\": 10,\n        \"samples\": [\n          \"0.9929\",\n          \"0.9599\",\n          \"0.9842\"\n        ],\n        \"semantic_type\": \"\",\n        \"description\": \"\"\n      }\n    },\n    {\n      \"column\": \"0.06\",\n      \"properties\": {\n        \"dtype\": \"string\",\n        \"num_unique_values\": 10,\n        \"samples\": [\n          \"0.9931\",\n          \"0.9608\",\n          \"0.9846\"\n        ],\n        \"semantic_type\": \"\",\n        \"description\": \"\"\n      }\n    },\n    {\n      \"column\": \"0.07\",\n      \"properties\": {\n        \"dtype\": \"string\",\n        \"num_unique_values\": 10,\n        \"samples\": [\n          \"0.9932\",\n          \"0.9616\",\n          \"0.9850\"\n        ],\n        \"semantic_type\": \"\",\n        \"description\": \"\"\n      }\n    },\n    {\n      \"column\": \"0.08\",\n      \"properties\": {\n        \"dtype\": \"string\",\n        \"num_unique_values\": 10,\n        \"samples\": [\n          \"0.9934\",\n          \"0.9625\",\n          \"0.9854\"\n        ],\n        \"semantic_type\": \"\",\n        \"description\": \"\"\n      }\n    },\n    {\n      \"column\": \"0.09\",\n      \"properties\": {\n        \"dtype\": \"string\",\n        \"num_unique_values\": 10,\n        \"samples\": [\n          \"0.9936\",\n          \"0.9633\",\n          \"0.9857\"\n        ],\n        \"semantic_type\": \"\",\n        \"description\": \"\"\n      }\n    }\n  ]\n}"
            }
          },
          "metadata": {},
          "execution_count": 275
        }
      ]
    },
    {
      "cell_type": "markdown",
      "metadata": {
        "id": "rMRmnaNPG3Go"
      },
      "source": [
        "### Obteniendo $z$"
      ]
    },
    {
      "cell_type": "markdown",
      "metadata": {
        "id": "T-3mV1qlUj1t"
      },
      "source": [
        "<img src='https://caelum-online-public.s3.amazonaws.com/ESP-1764-estadistica-con-python-probabilidad-y-muestreo/img008.png' width='450px'>"
      ]
    },
    {
      "cell_type": "code",
      "metadata": {
        "id": "nT5ZTwjOG3Go",
        "colab": {
          "base_uri": "https://localhost:8080/"
        },
        "outputId": "5f8cd1f8-2d0a-4b0c-f4a2-5e11a89c4cdc"
      },
      "source": [
        "0.95 / 2"
      ],
      "execution_count": 276,
      "outputs": [
        {
          "output_type": "execute_result",
          "data": {
            "text/plain": [
              "0.475"
            ]
          },
          "metadata": {},
          "execution_count": 276
        }
      ]
    },
    {
      "cell_type": "code",
      "metadata": {
        "id": "vMjck-3ZU_sz",
        "colab": {
          "base_uri": "https://localhost:8080/"
        },
        "outputId": "d896b255-a813-46dc-c8ea-ed987b086d93"
      },
      "source": [
        "0.5  + (0.95 / 2)"
      ],
      "execution_count": 277,
      "outputs": [
        {
          "output_type": "execute_result",
          "data": {
            "text/plain": [
              "0.975"
            ]
          },
          "metadata": {},
          "execution_count": 277
        }
      ]
    },
    {
      "cell_type": "code",
      "metadata": {
        "id": "L4CMGZ3oVHLX",
        "colab": {
          "base_uri": "https://localhost:8080/"
        },
        "outputId": "79b63b76-3d9f-49c6-e12a-c32374d190ed"
      },
      "source": [
        "1.9 + 0.06"
      ],
      "execution_count": 278,
      "outputs": [
        {
          "output_type": "execute_result",
          "data": {
            "text/plain": [
              "1.96"
            ]
          },
          "metadata": {},
          "execution_count": 278
        }
      ]
    },
    {
      "cell_type": "code",
      "metadata": {
        "id": "JJS6Z-85G3Hf",
        "colab": {
          "base_uri": "https://localhost:8080/"
        },
        "outputId": "45f58736-6200-4622-c33f-dec1a9a05f23"
      },
      "source": [
        "z = norm.ppf(0.975)\n",
        "z"
      ],
      "execution_count": 279,
      "outputs": [
        {
          "output_type": "execute_result",
          "data": {
            "text/plain": [
              "np.float64(1.959963984540054)"
            ]
          },
          "metadata": {},
          "execution_count": 279
        }
      ]
    },
    {
      "cell_type": "markdown",
      "metadata": {
        "id": "ggXXP8QqTyNA"
      },
      "source": [
        "### Valores de $z$ para los niveles de confianza más utilizados\n",
        "\n",
        "|Nivel de<br>confianza|Valor del área bajo<br>la curva normal| $z$ |\n",
        "|:----------------:|:---------------------------------:|:---:|\n",
        "|90%               |0.95                               |1.645|\n",
        "|95%               |0.975                              |1.96 |\n",
        "|99%               |0.995                              |2.575|"
      ]
    },
    {
      "cell_type": "markdown",
      "metadata": {
        "id": "MfE1ru0AG3Hg"
      },
      "source": [
        "### Obteniendo $\\sigma_\\bar{x}$"
      ]
    },
    {
      "cell_type": "code",
      "metadata": {
        "id": "LyQ6UUYtG3Hh",
        "colab": {
          "base_uri": "https://localhost:8080/"
        },
        "outputId": "66b08d9e-f002-4b7d-d1d6-ed53e1bff495"
      },
      "source": [
        "desviacion_estandar = 150\n",
        "desviacion_estandar"
      ],
      "execution_count": 280,
      "outputs": [
        {
          "output_type": "execute_result",
          "data": {
            "text/plain": [
              "150"
            ]
          },
          "metadata": {},
          "execution_count": 280
        }
      ]
    },
    {
      "cell_type": "code",
      "metadata": {
        "id": "ebvikT95G3Hi",
        "colab": {
          "base_uri": "https://localhost:8080/"
        },
        "outputId": "e607eb5a-13a5-4dae-aff4-27f0066c80b0"
      },
      "source": [
        "n = 20\n",
        "n"
      ],
      "execution_count": 281,
      "outputs": [
        {
          "output_type": "execute_result",
          "data": {
            "text/plain": [
              "20"
            ]
          },
          "metadata": {},
          "execution_count": 281
        }
      ]
    },
    {
      "cell_type": "code",
      "metadata": {
        "id": "TxM3yTpjG3Hk",
        "colab": {
          "base_uri": "https://localhost:8080/"
        },
        "outputId": "b924db8a-17c7-44ad-a658-7c68eaaa92d9"
      },
      "source": [
        "raiz_de_n = np.sqrt(n)\n",
        "raiz_de_n"
      ],
      "execution_count": 282,
      "outputs": [
        {
          "output_type": "execute_result",
          "data": {
            "text/plain": [
              "np.float64(4.47213595499958)"
            ]
          },
          "metadata": {},
          "execution_count": 282
        }
      ]
    },
    {
      "cell_type": "code",
      "metadata": {
        "id": "HNAcOpl0G3Hl",
        "colab": {
          "base_uri": "https://localhost:8080/"
        },
        "outputId": "1c3910ea-6349-41b2-c11a-647c0d8f600c"
      },
      "source": [
        "sigma = desviacion_estandar / raiz_de_n\n",
        "sigma"
      ],
      "execution_count": 283,
      "outputs": [
        {
          "output_type": "execute_result",
          "data": {
            "text/plain": [
              "np.float64(33.54101966249684)"
            ]
          },
          "metadata": {},
          "execution_count": 283
        }
      ]
    },
    {
      "cell_type": "markdown",
      "metadata": {
        "id": "NHbXlLk-G3Hn"
      },
      "source": [
        "### Obteniendo $e$"
      ]
    },
    {
      "cell_type": "code",
      "metadata": {
        "id": "gAfakih5G3Ho",
        "colab": {
          "base_uri": "https://localhost:8080/"
        },
        "outputId": "08353f61-e1eb-4695-9461-e215c5b874a9"
      },
      "source": [
        "e = z*sigma\n",
        "e"
      ],
      "execution_count": 284,
      "outputs": [
        {
          "output_type": "execute_result",
          "data": {
            "text/plain": [
              "np.float64(65.73919054324361)"
            ]
          },
          "metadata": {},
          "execution_count": 284
        }
      ]
    },
    {
      "cell_type": "markdown",
      "metadata": {
        "id": "sx1QTfNrG3Hq"
      },
      "source": [
        "### Solución 1 - Calculando el intervalo de confianza para la media"
      ]
    },
    {
      "cell_type": "code",
      "metadata": {
        "id": "NlJCcPZnG3Hq",
        "colab": {
          "base_uri": "https://localhost:8080/"
        },
        "outputId": "9e288f7b-d565-42b6-96a2-025d95316984"
      },
      "source": [
        "intervalo = (\n",
        "    media_muestra - e,\n",
        "    media_muestra + e\n",
        ")\n",
        "intervalo"
      ],
      "execution_count": 285,
      "outputs": [
        {
          "output_type": "execute_result",
          "data": {
            "text/plain": [
              "(np.float64(4984.260809456757), np.float64(5115.739190543243))"
            ]
          },
          "metadata": {},
          "execution_count": 285
        }
      ]
    },
    {
      "cell_type": "markdown",
      "metadata": {
        "id": "DkFJL7fcG3Ht"
      },
      "source": [
        "### Solución 2 - Calculando el intervalo de confianza para la media"
      ]
    },
    {
      "cell_type": "code",
      "metadata": {
        "id": "U92vSYMkG3Hu",
        "colab": {
          "base_uri": "https://localhost:8080/"
        },
        "outputId": "8c8f06cf-44b6-437a-e672-7343616cb0bd"
      },
      "source": [
        "norm.interval(confidence = 0.95, loc = media_muestra, scale = sigma)"
      ],
      "execution_count": 286,
      "outputs": [
        {
          "output_type": "execute_result",
          "data": {
            "text/plain": [
              "(np.float64(4984.260809456757), np.float64(5115.739190543243))"
            ]
          },
          "metadata": {},
          "execution_count": 286
        }
      ]
    },
    {
      "cell_type": "markdown",
      "metadata": {
        "id": "aF9jAC6yG3Gl"
      },
      "source": [
        "# <font color=green>5 CÁLCULO DEL TAMAÑO DE LA MUESTRA</font>\n",
        "***"
      ]
    },
    {
      "cell_type": "markdown",
      "metadata": {
        "id": "BwiygaNqnjrr"
      },
      "source": [
        "## <font color='red'>Problema </font>"
      ]
    },
    {
      "cell_type": "markdown",
      "metadata": {
        "id": "a7RjjVVUnlI3"
      },
      "source": [
        "Estamos estudiando los ingresos mensuales de los jefes de hogar. Nuestro supervisor determinó que el **error máximo en relación a la media es de $\\$$ 100,00** pesos. Sabemos que la **desviación estándar poblacional** de este grupo de trabajadores es **$\\$$ 3323,39** pesos. Para un **nivel de confianza del 95%**, ¿cuál debería ser el tamaño de la muestra de nuestro estudio?"
      ]
    },
    {
      "cell_type": "markdown",
      "metadata": {
        "id": "za2sGJt6G3Gm"
      },
      "source": [
        "## <font color=green>5.1 Variables cuantitativas y población infinita</font>\n",
        "***"
      ]
    },
    {
      "cell_type": "markdown",
      "metadata": {
        "id": "3wqMjJWR5sVq"
      },
      "source": [
        "# $$e = z \\frac{\\sigma}{\\sqrt{n}}$$"
      ]
    },
    {
      "cell_type": "markdown",
      "metadata": {
        "id": "X1AxpKtIG3Gn"
      },
      "source": [
        "#### Con desviación estándar conocida\n",
        "\n",
        "## $$n = \\left(z\\frac{\\sigma}{e}\\right)^2$$\n",
        "\n",
        "#### Con desviación estándar desconocida\n",
        "\n",
        "## $$n = \\left(z\\frac{s}{e}\\right)^2$$\n",
        "\n",
        "Donde:\n",
        "\n",
        "$z$ = variable normal estandarizada\n",
        "\n",
        "$\\sigma$ = desviación estándar poblacional\n",
        "\n",
        "$s$ = desviación estándar de la muestra\n",
        "\n",
        "$e$ = error inferencial"
      ]
    },
    {
      "cell_type": "markdown",
      "metadata": {
        "id": "T0fysCyDG3Gn"
      },
      "source": [
        "### <font color='red'>Comentarios</font>\n",
        "\n",
        "1. La desviación estándar ($\\sigma$ o $s$) y el error ($e$) deben estar en la misma unidad de medida.\n",
        "\n",
        "2. Cuando el error ($e$) se representa en términos porcentuales, debe interpretarse como un porcentaje relacionado con el promedio."
      ]
    },
    {
      "cell_type": "markdown",
      "metadata": {
        "id": "WHYBTaupG3Gn"
      },
      "source": [
        "## <font color='blue'>Ejemplo: Rendimiento medio</font>"
      ]
    },
    {
      "cell_type": "markdown",
      "metadata": {
        "id": "dcdzo7EgG3Go"
      },
      "source": [
        "Estamos estudiando los ingresos mensuales de los jefes de hogar. Nuestro supervisor determinó que el **error máximo en relación a la media es de $\\$$ 100,00** pesos. Sabemos que la **desviación estándar poblacional** de este grupo de trabajadores es **$\\$$ 3323,39** pesos. Para un **nivel de confianza del 95%**, ¿cuál debería ser el tamaño de la muestra de nuestro estudio?"
      ]
    },
    {
      "cell_type": "code",
      "metadata": {
        "id": "XtJ5I_kaKDN3",
        "colab": {
          "base_uri": "https://localhost:8080/"
        },
        "outputId": "23cdd704-25b9-4529-ef9b-912c7f8ed27b"
      },
      "source": [
        "0.95 / 2"
      ],
      "execution_count": 287,
      "outputs": [
        {
          "output_type": "execute_result",
          "data": {
            "text/plain": [
              "0.475"
            ]
          },
          "metadata": {},
          "execution_count": 287
        }
      ]
    },
    {
      "cell_type": "code",
      "metadata": {
        "id": "-4TLCgNLKC95",
        "colab": {
          "base_uri": "https://localhost:8080/"
        },
        "outputId": "3a59486b-a55b-4054-efec-14a12eb4ba44"
      },
      "source": [
        "0.5+(0.95/2)"
      ],
      "execution_count": 288,
      "outputs": [
        {
          "output_type": "execute_result",
          "data": {
            "text/plain": [
              "0.975"
            ]
          },
          "metadata": {},
          "execution_count": 288
        }
      ]
    },
    {
      "cell_type": "code",
      "metadata": {
        "id": "7XDT12I4ViYN",
        "colab": {
          "base_uri": "https://localhost:8080/"
        },
        "outputId": "6c7f8967-a14f-4fe2-c352-182801e2e6c3"
      },
      "source": [
        "z = norm.ppf(0.975)\n",
        "z"
      ],
      "execution_count": 289,
      "outputs": [
        {
          "output_type": "execute_result",
          "data": {
            "text/plain": [
              "np.float64(1.959963984540054)"
            ]
          },
          "metadata": {},
          "execution_count": 289
        }
      ]
    },
    {
      "cell_type": "markdown",
      "metadata": {
        "id": "6uCkW4KlG3Gr"
      },
      "source": [
        "### Obteniendo $\\sigma$"
      ]
    },
    {
      "cell_type": "code",
      "metadata": {
        "id": "1RmtZfj-G3Gr",
        "colab": {
          "base_uri": "https://localhost:8080/"
        },
        "outputId": "080e3a33-3ab2-4465-c549-a02c7a823b6b"
      },
      "source": [
        "sigma = 3323.39\n",
        "sigma"
      ],
      "execution_count": 290,
      "outputs": [
        {
          "output_type": "execute_result",
          "data": {
            "text/plain": [
              "3323.39"
            ]
          },
          "metadata": {},
          "execution_count": 290
        }
      ]
    },
    {
      "cell_type": "markdown",
      "metadata": {
        "id": "Cl39PIZ2G3Gt"
      },
      "source": [
        "### Obteniendo $e$"
      ]
    },
    {
      "cell_type": "code",
      "metadata": {
        "id": "NTRMt2gWG3Gt",
        "colab": {
          "base_uri": "https://localhost:8080/"
        },
        "outputId": "a8e98435-2700-45b6-e136-9553a2eadbba"
      },
      "source": [
        "e = 100\n",
        "e"
      ],
      "execution_count": 291,
      "outputs": [
        {
          "output_type": "execute_result",
          "data": {
            "text/plain": [
              "100"
            ]
          },
          "metadata": {},
          "execution_count": 291
        }
      ]
    },
    {
      "cell_type": "markdown",
      "metadata": {
        "id": "OlAX3Gj6G3Gv"
      },
      "source": [
        "### Obteniendo $n$"
      ]
    },
    {
      "cell_type": "code",
      "metadata": {
        "id": "0MjluwHPG3Gv",
        "scrolled": true,
        "colab": {
          "base_uri": "https://localhost:8080/"
        },
        "outputId": "c5e9010e-7c2e-43c8-a4bd-631c492cd6df"
      },
      "source": [
        "n= (z*(sigma/e))**2\n",
        "int (n.round())"
      ],
      "execution_count": 293,
      "outputs": [
        {
          "output_type": "execute_result",
          "data": {
            "text/plain": [
              "4243"
            ]
          },
          "metadata": {},
          "execution_count": 293
        }
      ]
    },
    {
      "cell_type": "markdown",
      "metadata": {
        "id": "MjP0xsqyTyNO"
      },
      "source": [
        "---\n",
        "---"
      ]
    },
    {
      "cell_type": "markdown",
      "metadata": {
        "id": "dx2vyLC-TyNP"
      },
      "source": [
        "## <font color='red'>Problema</font>"
      ]
    },
    {
      "cell_type": "markdown",
      "metadata": {
        "id": "uzK2fAOFTyNP"
      },
      "source": [
        "En un lote de **10 000 latas** de gaseosa, se realizó una muestra aleatoria simple de **100 latas** y se obtuvo que la **desviación estándar muestral del contenido de las latas es igual a 12 ml**. El fabricante estipula un **error máximo en la media poblacional de solo 5 ml**. Para garantizar un **nivel de confianza del 95%**, ¿qué tamaño de muestra se debe seleccionar para este estudio?"
      ]
    },
    {
      "cell_type": "markdown",
      "metadata": {
        "id": "FlAz5kycTyNQ"
      },
      "source": [
        "## <font color=green>5.2 Variables cuantitativas y población finita</font>\n",
        "***"
      ]
    },
    {
      "cell_type": "markdown",
      "metadata": {
        "id": "UOe02McSTyNR"
      },
      "source": [
        "#### Con desviación estándar conocida\n",
        "\n",
        "## $$n = \\frac{z^2 \\sigma^2 N}{z^2 \\sigma^2 + e^2(N-1)}$$\n",
        "\n",
        "#### Con desviación estándar desconocida\n",
        "\n",
        "## $$n = \\frac{z^2 s^2 N}{z^2 s^2 + e^2(N-1)}$$\n",
        "\n",
        "Donde:\n",
        "\n",
        "$N$ = tamaño de la población\n",
        "\n",
        "$z$ = variable normal estandarizada\n",
        "\n",
        "$\\sigma$ = desviación estándar poblacional\n",
        "\n",
        "$s$ = desviación estándar muestral\n",
        "\n",
        "$e$ = error inferencial"
      ]
    },
    {
      "cell_type": "markdown",
      "metadata": {
        "id": "cUELtYTKTyNS"
      },
      "source": [
        "## <font color='blue'>Ejemplo: Industria de refrescos</font>"
      ]
    },
    {
      "cell_type": "markdown",
      "metadata": {
        "id": "upv1mM7fTyNS"
      },
      "source": [
        "En un lote de **10 000 latas** de gaseosa, se realizó una muestra aleatoria simple de **100 latas** y se obtuvo que la **desviación estándar muestral del contenido de las latas es igual a 12 ml**. El fabricante estipula un **error máximo en la media poblacional de solo 5 ml**. Para garantizar un **nivel de confianza del 95%**, ¿qué tamaño de muestra se debe seleccionar para este estudio?"
      ]
    },
    {
      "cell_type": "markdown",
      "metadata": {
        "id": "_y3-3VIBTyNS"
      },
      "source": [
        "### Obteniendo $N$"
      ]
    },
    {
      "cell_type": "code",
      "metadata": {
        "id": "gXWn9zTETyNS",
        "colab": {
          "base_uri": "https://localhost:8080/"
        },
        "outputId": "cf36e0e8-a342-47df-fc29-72c23b96d56d"
      },
      "source": [
        "N = 10000\n",
        "N"
      ],
      "execution_count": 303,
      "outputs": [
        {
          "output_type": "execute_result",
          "data": {
            "text/plain": [
              "10000"
            ]
          },
          "metadata": {},
          "execution_count": 303
        }
      ]
    },
    {
      "cell_type": "markdown",
      "metadata": {
        "id": "xCgZ1JSjTyNT"
      },
      "source": [
        "### Obteniendo $z$"
      ]
    },
    {
      "cell_type": "code",
      "metadata": {
        "id": "ZUs9aYJRTyNT",
        "colab": {
          "base_uri": "https://localhost:8080/"
        },
        "outputId": "b740feeb-7875-4113-bae4-04eb8e08cd00"
      },
      "source": [
        "z = norm.ppf(0.975)\n",
        "z"
      ],
      "execution_count": 300,
      "outputs": [
        {
          "output_type": "execute_result",
          "data": {
            "text/plain": [
              "np.float64(1.959963984540054)"
            ]
          },
          "metadata": {},
          "execution_count": 300
        }
      ]
    },
    {
      "cell_type": "markdown",
      "metadata": {
        "id": "KCnigJd8TyNU"
      },
      "source": [
        "### Obteniendo $s$"
      ]
    },
    {
      "cell_type": "code",
      "metadata": {
        "id": "fKqFI_TZTyNU",
        "colab": {
          "base_uri": "https://localhost:8080/"
        },
        "outputId": "1f199048-046c-495e-c272-1b4c6f899d44"
      },
      "source": [
        "s = 12\n",
        "s"
      ],
      "execution_count": 301,
      "outputs": [
        {
          "output_type": "execute_result",
          "data": {
            "text/plain": [
              "12"
            ]
          },
          "metadata": {},
          "execution_count": 301
        }
      ]
    },
    {
      "cell_type": "markdown",
      "metadata": {
        "id": "K9gDEIUdTyNX"
      },
      "source": [
        "### Obteniendo $e$"
      ]
    },
    {
      "cell_type": "code",
      "metadata": {
        "id": "hyhJ3MQKTyNX",
        "colab": {
          "base_uri": "https://localhost:8080/"
        },
        "outputId": "c77eeec1-a4c4-4bee-fd7c-e9e1b83c8c1d"
      },
      "source": [
        "e = 5\n",
        "e"
      ],
      "execution_count": 302,
      "outputs": [
        {
          "output_type": "execute_result",
          "data": {
            "text/plain": [
              "5"
            ]
          },
          "metadata": {},
          "execution_count": 302
        }
      ]
    },
    {
      "cell_type": "markdown",
      "metadata": {
        "id": "Dsm3bg9gTyNX"
      },
      "source": [
        "### Obteniendo $n$\n",
        "\n",
        "## $$n = \\frac{z^2 s^2 N}{z^2 s^2 + e^2(N-1)}$$"
      ]
    },
    {
      "cell_type": "code",
      "metadata": {
        "id": "0XxWfaPdTyNY",
        "scrolled": true,
        "colab": {
          "base_uri": "https://localhost:8080/"
        },
        "outputId": "37b05d98-d91f-4509-f463-d2447f945d79"
      },
      "source": [
        "n = ((z**2) * (s**2) * (N)) / ((z**2) * (s**2) + (e**2) * (N-1))\n",
        "int(n.round())"
      ],
      "execution_count": 304,
      "outputs": [
        {
          "output_type": "execute_result",
          "data": {
            "text/plain": [
              "22"
            ]
          },
          "metadata": {},
          "execution_count": 304
        }
      ]
    },
    {
      "cell_type": "markdown",
      "metadata": {
        "id": "XNH7CMglG3Hv"
      },
      "source": [
        "# <font color=green>6 FIJANDO EL CONTENIDO</font>\n",
        "***"
      ]
    },
    {
      "cell_type": "markdown",
      "metadata": {
        "id": "iRYqVAxuG3Hv"
      },
      "source": [
        "## <font color='blue'>Ejemplo: Rendimiento medio</font>"
      ]
    },
    {
      "cell_type": "markdown",
      "metadata": {
        "id": "ggloHI5sG3Hw"
      },
      "source": [
        "Estamos estudiando **los ingresos mensuales de los jefes de hogar con ingresos de hasta R$\\$$ 5.000,00 en Brasil**. Nuestro supervisor determinó que el **error máximo en relación a la media es de R$\\$$ 10,00**. Sabemos que la **desviación estándar poblacional** de este grupo de trabajadores es **R$\\$$ 1.082,79** y que la **media poblacional** es **R$\\$$ 1.426,54**. Para un **nivel de confianza del 95%**, ¿cuál debería ser el tamaño de la muestra de nuestro estudio? ¿Cuál es el intervalo de confianza para la media considerando el tamaño de muestra obtenido?"
      ]
    },
    {
      "cell_type": "markdown",
      "metadata": {
        "id": "JZDvLD-NG3Hw"
      },
      "source": [
        "### Construyendo el conjunto de datos según lo especificado por el problema"
      ]
    },
    {
      "cell_type": "code",
      "metadata": {
        "id": "qlnYQeaKG3Hw"
      },
      "source": [
        "ingresos_5000 = datos.query('Ingreso <= 5000').Ingreso"
      ],
      "execution_count": 305,
      "outputs": []
    },
    {
      "cell_type": "code",
      "metadata": {
        "id": "VKuxbygIG3Hy",
        "colab": {
          "base_uri": "https://localhost:8080/"
        },
        "outputId": "1c34a096-657e-4f81-e136-e2744f41b836"
      },
      "source": [
        "sigma = ingresos_5000.std()\n",
        "sigma"
      ],
      "execution_count": 306,
      "outputs": [
        {
          "output_type": "execute_result",
          "data": {
            "text/plain": [
              "1082.794549030635"
            ]
          },
          "metadata": {},
          "execution_count": 306
        }
      ]
    },
    {
      "cell_type": "code",
      "metadata": {
        "id": "Q2Ku3mVPG3Hz",
        "colab": {
          "base_uri": "https://localhost:8080/"
        },
        "outputId": "798920df-d725-4208-d8e5-89bd28787d8b"
      },
      "source": [
        "media = ingresos_5000.mean()\n",
        "media"
      ],
      "execution_count": 307,
      "outputs": [
        {
          "output_type": "execute_result",
          "data": {
            "text/plain": [
              "np.float64(1426.5372144947232)"
            ]
          },
          "metadata": {},
          "execution_count": 307
        }
      ]
    },
    {
      "cell_type": "markdown",
      "metadata": {
        "id": "F33TdkXdG3H2"
      },
      "source": [
        "### Calcular el tamaño de la muestra"
      ]
    },
    {
      "cell_type": "code",
      "metadata": {
        "id": "sWIvnmygG3H2",
        "colab": {
          "base_uri": "https://localhost:8080/"
        },
        "outputId": "a4aec217-4f2b-4c91-c5c5-9e420e0160d2"
      },
      "source": [
        "z = norm.ppf(0.975)\n",
        "e = 10\n",
        "n = (z*(sigma/e))**2\n",
        "n = int(n.round())\n",
        "n"
      ],
      "execution_count": 309,
      "outputs": [
        {
          "output_type": "execute_result",
          "data": {
            "text/plain": [
              "45039"
            ]
          },
          "metadata": {},
          "execution_count": 309
        }
      ]
    },
    {
      "cell_type": "markdown",
      "metadata": {
        "id": "xRN_gmmLG3H6"
      },
      "source": [
        "### Calcular el intervalo de confianza para la media"
      ]
    },
    {
      "cell_type": "code",
      "metadata": {
        "id": "HoG6JKxxG3H6",
        "colab": {
          "base_uri": "https://localhost:8080/"
        },
        "outputId": "d9d09613-2ce2-4661-f67b-489a9310f082"
      },
      "source": [
        "intervalo = norm.interval(confidence = 0.95, loc = media, scale = sigma/np.sqrt(n))\n",
        "intervalo"
      ],
      "execution_count": 311,
      "outputs": [
        {
          "output_type": "execute_result",
          "data": {
            "text/plain": [
              "(np.float64(1416.5372195108241), np.float64(1436.5372094786223))"
            ]
          },
          "metadata": {},
          "execution_count": 311
        }
      ]
    },
    {
      "cell_type": "markdown",
      "metadata": {
        "id": "xWAG8q8oG3H8"
      },
      "source": [
        "### Realización de una prueba gráfica"
      ]
    },
    {
      "cell_type": "code",
      "metadata": {
        "colab": {
          "base_uri": "https://localhost:8080/",
          "height": 565
        },
        "id": "pxjJyWnNG3H8",
        "outputId": "75467c28-5cb6-4eca-cf15-56a5efd0a450"
      },
      "source": [
        "import matplotlib.pyplot as plt\n",
        "import pandas as pd\n",
        "\n",
        "tamano_simulacion = 1000\n",
        "\n",
        "# Supongo que n, ingresos_5000, media e intervalo están definidos antes\n",
        "\n",
        "# Generar lista de medias de muestras\n",
        "medias = [ingresos_5000.sample(n=n).mean() for i in range(tamano_simulacion)]\n",
        "medias = pd.DataFrame(medias, columns=['Media'])\n",
        "\n",
        "# Graficar las medias simuladas\n",
        "ax = medias.plot(style='.', legend=False)\n",
        "ax.figure.set_size_inches(12,6)\n",
        "\n",
        "# Línea horizontal para la media poblacional\n",
        "ax.hlines(y=media, xmin=0, xmax=tamano_simulacion, colors='black', linestyles='solid', label='Media')\n",
        "\n",
        "# Líneas horizontales para los límites del intervalo\n",
        "ax.hlines(y=intervalo[0], xmin=0, xmax=tamano_simulacion, colors='red', linestyles='dashed', label='Límite inferior')\n",
        "ax.hlines(y=intervalo[1], xmin=0, xmax=tamano_simulacion, colors='red', linestyles='dashed', label='Límite superior')\n",
        "\n",
        "ax.set_xlabel('Simulación')\n",
        "ax.set_ylabel('Media de la muestra')\n",
        "ax.set_title('Simulación de medias muestrales y intervalos')\n",
        "ax.legend()\n",
        "\n",
        "plt.show()\n"
      ],
      "execution_count": 315,
      "outputs": [
        {
          "output_type": "display_data",
          "data": {
            "text/plain": [
              "<Figure size 1200x600 with 1 Axes>"
            ],
            "image/png": "[encoded data removed]"
          },
          "metadata": {}
        }
      ]
    }
  ]
}